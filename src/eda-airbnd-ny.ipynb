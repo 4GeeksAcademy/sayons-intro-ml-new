{
 "cells": [
  {
   "cell_type": "markdown",
   "id": "657988f4",
   "metadata": {},
   "source": [
    "# EDA "
   ]
  },
  {
   "cell_type": "code",
   "execution_count": 18,
   "id": "d7602b42",
   "metadata": {},
   "outputs": [],
   "source": [
    "import numpy as np\n",
    "import pandas as pd\n",
    "import matplotlib.pyplot as plt\n",
    "import seaborn as sns\n",
    "# split para modelado\n",
    "from sklearn.model_selection import train_test_split\n",
    "# Scaled | Escalado\n",
    "from sklearn.preprocessing import StandardScaler, MinMaxScaler\n",
    "# Encoding | Codificación\n",
    "from sklearn.preprocessing import LabelEncoder, OneHotEncoder, OrdinalEncoder\n",
    "# To save models\n",
    "import json\n",
    "import pickle\n"
   ]
  },
  {
   "cell_type": "markdown",
   "id": "5660b552",
   "metadata": {},
   "source": [
    "## Recopilación de datos"
   ]
  },
  {
   "cell_type": "code",
   "execution_count": 23,
   "id": "044a276c",
   "metadata": {},
   "outputs": [
    {
     "data": {
      "application/vnd.microsoft.datawrangler.viewer.v0+json": {
       "columns": [
        {
         "name": "index",
         "rawType": "int64",
         "type": "integer"
        },
        {
         "name": "id",
         "rawType": "int64",
         "type": "integer"
        },
        {
         "name": "name",
         "rawType": "object",
         "type": "string"
        },
        {
         "name": "host_id",
         "rawType": "int64",
         "type": "integer"
        },
        {
         "name": "host_name",
         "rawType": "object",
         "type": "string"
        },
        {
         "name": "neighbourhood_group",
         "rawType": "object",
         "type": "string"
        },
        {
         "name": "neighbourhood",
         "rawType": "object",
         "type": "string"
        },
        {
         "name": "latitude",
         "rawType": "float64",
         "type": "float"
        },
        {
         "name": "longitude",
         "rawType": "float64",
         "type": "float"
        },
        {
         "name": "room_type",
         "rawType": "object",
         "type": "string"
        },
        {
         "name": "price",
         "rawType": "int64",
         "type": "integer"
        },
        {
         "name": "minimum_nights",
         "rawType": "int64",
         "type": "integer"
        },
        {
         "name": "number_of_reviews",
         "rawType": "int64",
         "type": "integer"
        },
        {
         "name": "last_review",
         "rawType": "object",
         "type": "unknown"
        },
        {
         "name": "reviews_per_month",
         "rawType": "float64",
         "type": "float"
        },
        {
         "name": "calculated_host_listings_count",
         "rawType": "int64",
         "type": "integer"
        },
        {
         "name": "availability_365",
         "rawType": "int64",
         "type": "integer"
        }
       ],
       "ref": "a15fe678-ebcd-4163-aab9-ddc5b5aea24a",
       "rows": [
        [
         "0",
         "2539",
         "Clean & quiet apt home by the park",
         "2787",
         "John",
         "Brooklyn",
         "Kensington",
         "40.64749",
         "-73.97237",
         "Private room",
         "149",
         "1",
         "9",
         "2018-10-19",
         "0.21",
         "6",
         "365"
        ],
        [
         "1",
         "2595",
         "Skylit Midtown Castle",
         "2845",
         "Jennifer",
         "Manhattan",
         "Midtown",
         "40.75362",
         "-73.98377",
         "Entire home/apt",
         "225",
         "1",
         "45",
         "2019-05-21",
         "0.38",
         "2",
         "355"
        ],
        [
         "2",
         "3647",
         "THE VILLAGE OF HARLEM....NEW YORK !",
         "4632",
         "Elisabeth",
         "Manhattan",
         "Harlem",
         "40.80902",
         "-73.9419",
         "Private room",
         "150",
         "3",
         "0",
         null,
         null,
         "1",
         "365"
        ],
        [
         "3",
         "3831",
         "Cozy Entire Floor of Brownstone",
         "4869",
         "LisaRoxanne",
         "Brooklyn",
         "Clinton Hill",
         "40.68514",
         "-73.95976",
         "Entire home/apt",
         "89",
         "1",
         "270",
         "2019-07-05",
         "4.64",
         "1",
         "194"
        ],
        [
         "4",
         "5022",
         "Entire Apt: Spacious Studio/Loft by central park",
         "7192",
         "Laura",
         "Manhattan",
         "East Harlem",
         "40.79851",
         "-73.94399",
         "Entire home/apt",
         "80",
         "10",
         "9",
         "2018-11-19",
         "0.1",
         "1",
         "0"
        ]
       ],
       "shape": {
        "columns": 16,
        "rows": 5
       }
      },
      "text/html": [
       "<div>\n",
       "<style scoped>\n",
       "    .dataframe tbody tr th:only-of-type {\n",
       "        vertical-align: middle;\n",
       "    }\n",
       "\n",
       "    .dataframe tbody tr th {\n",
       "        vertical-align: top;\n",
       "    }\n",
       "\n",
       "    .dataframe thead th {\n",
       "        text-align: right;\n",
       "    }\n",
       "</style>\n",
       "<table border=\"1\" class=\"dataframe\">\n",
       "  <thead>\n",
       "    <tr style=\"text-align: right;\">\n",
       "      <th></th>\n",
       "      <th>id</th>\n",
       "      <th>name</th>\n",
       "      <th>host_id</th>\n",
       "      <th>host_name</th>\n",
       "      <th>neighbourhood_group</th>\n",
       "      <th>neighbourhood</th>\n",
       "      <th>latitude</th>\n",
       "      <th>longitude</th>\n",
       "      <th>room_type</th>\n",
       "      <th>price</th>\n",
       "      <th>minimum_nights</th>\n",
       "      <th>number_of_reviews</th>\n",
       "      <th>last_review</th>\n",
       "      <th>reviews_per_month</th>\n",
       "      <th>calculated_host_listings_count</th>\n",
       "      <th>availability_365</th>\n",
       "    </tr>\n",
       "  </thead>\n",
       "  <tbody>\n",
       "    <tr>\n",
       "      <th>0</th>\n",
       "      <td>2539</td>\n",
       "      <td>Clean &amp; quiet apt home by the park</td>\n",
       "      <td>2787</td>\n",
       "      <td>John</td>\n",
       "      <td>Brooklyn</td>\n",
       "      <td>Kensington</td>\n",
       "      <td>40.64749</td>\n",
       "      <td>-73.97237</td>\n",
       "      <td>Private room</td>\n",
       "      <td>149</td>\n",
       "      <td>1</td>\n",
       "      <td>9</td>\n",
       "      <td>2018-10-19</td>\n",
       "      <td>0.21</td>\n",
       "      <td>6</td>\n",
       "      <td>365</td>\n",
       "    </tr>\n",
       "    <tr>\n",
       "      <th>1</th>\n",
       "      <td>2595</td>\n",
       "      <td>Skylit Midtown Castle</td>\n",
       "      <td>2845</td>\n",
       "      <td>Jennifer</td>\n",
       "      <td>Manhattan</td>\n",
       "      <td>Midtown</td>\n",
       "      <td>40.75362</td>\n",
       "      <td>-73.98377</td>\n",
       "      <td>Entire home/apt</td>\n",
       "      <td>225</td>\n",
       "      <td>1</td>\n",
       "      <td>45</td>\n",
       "      <td>2019-05-21</td>\n",
       "      <td>0.38</td>\n",
       "      <td>2</td>\n",
       "      <td>355</td>\n",
       "    </tr>\n",
       "    <tr>\n",
       "      <th>2</th>\n",
       "      <td>3647</td>\n",
       "      <td>THE VILLAGE OF HARLEM....NEW YORK !</td>\n",
       "      <td>4632</td>\n",
       "      <td>Elisabeth</td>\n",
       "      <td>Manhattan</td>\n",
       "      <td>Harlem</td>\n",
       "      <td>40.80902</td>\n",
       "      <td>-73.94190</td>\n",
       "      <td>Private room</td>\n",
       "      <td>150</td>\n",
       "      <td>3</td>\n",
       "      <td>0</td>\n",
       "      <td>NaN</td>\n",
       "      <td>NaN</td>\n",
       "      <td>1</td>\n",
       "      <td>365</td>\n",
       "    </tr>\n",
       "    <tr>\n",
       "      <th>3</th>\n",
       "      <td>3831</td>\n",
       "      <td>Cozy Entire Floor of Brownstone</td>\n",
       "      <td>4869</td>\n",
       "      <td>LisaRoxanne</td>\n",
       "      <td>Brooklyn</td>\n",
       "      <td>Clinton Hill</td>\n",
       "      <td>40.68514</td>\n",
       "      <td>-73.95976</td>\n",
       "      <td>Entire home/apt</td>\n",
       "      <td>89</td>\n",
       "      <td>1</td>\n",
       "      <td>270</td>\n",
       "      <td>2019-07-05</td>\n",
       "      <td>4.64</td>\n",
       "      <td>1</td>\n",
       "      <td>194</td>\n",
       "    </tr>\n",
       "    <tr>\n",
       "      <th>4</th>\n",
       "      <td>5022</td>\n",
       "      <td>Entire Apt: Spacious Studio/Loft by central park</td>\n",
       "      <td>7192</td>\n",
       "      <td>Laura</td>\n",
       "      <td>Manhattan</td>\n",
       "      <td>East Harlem</td>\n",
       "      <td>40.79851</td>\n",
       "      <td>-73.94399</td>\n",
       "      <td>Entire home/apt</td>\n",
       "      <td>80</td>\n",
       "      <td>10</td>\n",
       "      <td>9</td>\n",
       "      <td>2018-11-19</td>\n",
       "      <td>0.10</td>\n",
       "      <td>1</td>\n",
       "      <td>0</td>\n",
       "    </tr>\n",
       "  </tbody>\n",
       "</table>\n",
       "</div>"
      ],
      "text/plain": [
       "     id                                              name  host_id  \\\n",
       "0  2539                Clean & quiet apt home by the park     2787   \n",
       "1  2595                             Skylit Midtown Castle     2845   \n",
       "2  3647               THE VILLAGE OF HARLEM....NEW YORK !     4632   \n",
       "3  3831                   Cozy Entire Floor of Brownstone     4869   \n",
       "4  5022  Entire Apt: Spacious Studio/Loft by central park     7192   \n",
       "\n",
       "     host_name neighbourhood_group neighbourhood  latitude  longitude  \\\n",
       "0         John            Brooklyn    Kensington  40.64749  -73.97237   \n",
       "1     Jennifer           Manhattan       Midtown  40.75362  -73.98377   \n",
       "2    Elisabeth           Manhattan        Harlem  40.80902  -73.94190   \n",
       "3  LisaRoxanne            Brooklyn  Clinton Hill  40.68514  -73.95976   \n",
       "4        Laura           Manhattan   East Harlem  40.79851  -73.94399   \n",
       "\n",
       "         room_type  price  minimum_nights  number_of_reviews last_review  \\\n",
       "0     Private room    149               1                  9  2018-10-19   \n",
       "1  Entire home/apt    225               1                 45  2019-05-21   \n",
       "2     Private room    150               3                  0         NaN   \n",
       "3  Entire home/apt     89               1                270  2019-07-05   \n",
       "4  Entire home/apt     80              10                  9  2018-11-19   \n",
       "\n",
       "   reviews_per_month  calculated_host_listings_count  availability_365  \n",
       "0               0.21                               6               365  \n",
       "1               0.38                               2               355  \n",
       "2                NaN                               1               365  \n",
       "3               4.64                               1               194  \n",
       "4               0.10                               1                 0  "
      ]
     },
     "execution_count": 23,
     "metadata": {},
     "output_type": "execute_result"
    }
   ],
   "source": [
    "df = pd.read_csv(\"C:/Users/Simón/sayons-intro-ml-new/data/raw/AB_NYC_2019.csv\")\n",
    "df.head()"
   ]
  },
  {
   "cell_type": "markdown",
   "id": "ee172996",
   "metadata": {},
   "source": [
    "## Análisis descriptivo "
   ]
  },
  {
   "cell_type": "code",
   "execution_count": 20,
   "id": "0254c8fb",
   "metadata": {},
   "outputs": [
    {
     "data": {
      "application/vnd.microsoft.datawrangler.viewer.v0+json": {
       "columns": [
        {
         "name": "index",
         "rawType": "int64",
         "type": "integer"
        },
        {
         "name": "id",
         "rawType": "int64",
         "type": "integer"
        },
        {
         "name": "name",
         "rawType": "object",
         "type": "unknown"
        },
        {
         "name": "host_id",
         "rawType": "int64",
         "type": "integer"
        },
        {
         "name": "host_name",
         "rawType": "object",
         "type": "unknown"
        },
        {
         "name": "neighbourhood_group",
         "rawType": "object",
         "type": "string"
        },
        {
         "name": "neighbourhood",
         "rawType": "object",
         "type": "string"
        },
        {
         "name": "latitude",
         "rawType": "float64",
         "type": "float"
        },
        {
         "name": "longitude",
         "rawType": "float64",
         "type": "float"
        },
        {
         "name": "room_type",
         "rawType": "object",
         "type": "string"
        },
        {
         "name": "price",
         "rawType": "int64",
         "type": "integer"
        },
        {
         "name": "minimum_nights",
         "rawType": "int64",
         "type": "integer"
        },
        {
         "name": "number_of_reviews",
         "rawType": "int64",
         "type": "integer"
        },
        {
         "name": "last_review",
         "rawType": "object",
         "type": "unknown"
        },
        {
         "name": "reviews_per_month",
         "rawType": "float64",
         "type": "float"
        },
        {
         "name": "calculated_host_listings_count",
         "rawType": "int64",
         "type": "integer"
        },
        {
         "name": "availability_365",
         "rawType": "int64",
         "type": "integer"
        }
       ],
       "ref": "6a262932-3c73-4c92-96e2-86163ae4b087",
       "rows": [
        [
         "0",
         "2539",
         "Clean & quiet apt home by the park",
         "2787",
         "John",
         "Brooklyn",
         "Kensington",
         "40.64749",
         "-73.97237",
         "Private room",
         "149",
         "1",
         "9",
         "2018-10-19",
         "0.21",
         "6",
         "365"
        ],
        [
         "1",
         "2595",
         "Skylit Midtown Castle",
         "2845",
         "Jennifer",
         "Manhattan",
         "Midtown",
         "40.75362",
         "-73.98377",
         "Entire home/apt",
         "225",
         "1",
         "45",
         "2019-05-21",
         "0.38",
         "2",
         "355"
        ],
        [
         "2",
         "3647",
         "THE VILLAGE OF HARLEM....NEW YORK !",
         "4632",
         "Elisabeth",
         "Manhattan",
         "Harlem",
         "40.80902",
         "-73.9419",
         "Private room",
         "150",
         "3",
         "0",
         null,
         null,
         "1",
         "365"
        ],
        [
         "3",
         "3831",
         "Cozy Entire Floor of Brownstone",
         "4869",
         "LisaRoxanne",
         "Brooklyn",
         "Clinton Hill",
         "40.68514",
         "-73.95976",
         "Entire home/apt",
         "89",
         "1",
         "270",
         "2019-07-05",
         "4.64",
         "1",
         "194"
        ],
        [
         "4",
         "5022",
         "Entire Apt: Spacious Studio/Loft by central park",
         "7192",
         "Laura",
         "Manhattan",
         "East Harlem",
         "40.79851",
         "-73.94399",
         "Entire home/apt",
         "80",
         "10",
         "9",
         "2018-11-19",
         "0.1",
         "1",
         "0"
        ],
        [
         "5",
         "5099",
         "Large Cozy 1 BR Apartment In Midtown East",
         "7322",
         "Chris",
         "Manhattan",
         "Murray Hill",
         "40.74767",
         "-73.975",
         "Entire home/apt",
         "200",
         "3",
         "74",
         "2019-06-22",
         "0.59",
         "1",
         "129"
        ],
        [
         "6",
         "5121",
         "BlissArtsSpace!",
         "7356",
         "Garon",
         "Brooklyn",
         "Bedford-Stuyvesant",
         "40.68688",
         "-73.95596",
         "Private room",
         "60",
         "45",
         "49",
         "2017-10-05",
         "0.4",
         "1",
         "0"
        ],
        [
         "7",
         "5178",
         "Large Furnished Room Near B'way ",
         "8967",
         "Shunichi",
         "Manhattan",
         "Hell's Kitchen",
         "40.76489",
         "-73.98493",
         "Private room",
         "79",
         "2",
         "430",
         "2019-06-24",
         "3.47",
         "1",
         "220"
        ],
        [
         "8",
         "5203",
         "Cozy Clean Guest Room - Family Apt",
         "7490",
         "MaryEllen",
         "Manhattan",
         "Upper West Side",
         "40.80178",
         "-73.96723",
         "Private room",
         "79",
         "2",
         "118",
         "2017-07-21",
         "0.99",
         "1",
         "0"
        ],
        [
         "9",
         "5238",
         "Cute & Cozy Lower East Side 1 bdrm",
         "7549",
         "Ben",
         "Manhattan",
         "Chinatown",
         "40.71344",
         "-73.99037",
         "Entire home/apt",
         "150",
         "1",
         "160",
         "2019-06-09",
         "1.33",
         "4",
         "188"
        ],
        [
         "10",
         "5295",
         "Beautiful 1br on Upper West Side",
         "7702",
         "Lena",
         "Manhattan",
         "Upper West Side",
         "40.80316",
         "-73.96545",
         "Entire home/apt",
         "135",
         "5",
         "53",
         "2019-06-22",
         "0.43",
         "1",
         "6"
        ],
        [
         "11",
         "5441",
         "Central Manhattan/near Broadway",
         "7989",
         "Kate",
         "Manhattan",
         "Hell's Kitchen",
         "40.76076",
         "-73.98867",
         "Private room",
         "85",
         "2",
         "188",
         "2019-06-23",
         "1.5",
         "1",
         "39"
        ],
        [
         "12",
         "5803",
         "Lovely Room 1, Garden, Best Area, Legal rental",
         "9744",
         "Laurie",
         "Brooklyn",
         "South Slope",
         "40.66829",
         "-73.98779",
         "Private room",
         "89",
         "4",
         "167",
         "2019-06-24",
         "1.34",
         "3",
         "314"
        ],
        [
         "13",
         "6021",
         "Wonderful Guest Bedroom in Manhattan for SINGLES",
         "11528",
         "Claudio",
         "Manhattan",
         "Upper West Side",
         "40.79826",
         "-73.96113",
         "Private room",
         "85",
         "2",
         "113",
         "2019-07-05",
         "0.91",
         "1",
         "333"
        ],
        [
         "14",
         "6090",
         "West Village Nest - Superhost",
         "11975",
         "Alina",
         "Manhattan",
         "West Village",
         "40.7353",
         "-74.00525",
         "Entire home/apt",
         "120",
         "90",
         "27",
         "2018-10-31",
         "0.22",
         "1",
         "0"
        ],
        [
         "15",
         "6848",
         "Only 2 stops to Manhattan studio",
         "15991",
         "Allen & Irina",
         "Brooklyn",
         "Williamsburg",
         "40.70837",
         "-73.95352",
         "Entire home/apt",
         "140",
         "2",
         "148",
         "2019-06-29",
         "1.2",
         "1",
         "46"
        ],
        [
         "16",
         "7097",
         "Perfect for Your Parents + Garden",
         "17571",
         "Jane",
         "Brooklyn",
         "Fort Greene",
         "40.69169",
         "-73.97185",
         "Entire home/apt",
         "215",
         "2",
         "198",
         "2019-06-28",
         "1.72",
         "1",
         "321"
        ],
        [
         "17",
         "7322",
         "Chelsea Perfect",
         "18946",
         "Doti",
         "Manhattan",
         "Chelsea",
         "40.74192",
         "-73.99501",
         "Private room",
         "140",
         "1",
         "260",
         "2019-07-01",
         "2.12",
         "1",
         "12"
        ],
        [
         "18",
         "7726",
         "Hip Historic Brownstone Apartment with Backyard",
         "20950",
         "Adam And Charity",
         "Brooklyn",
         "Crown Heights",
         "40.67592",
         "-73.94694",
         "Entire home/apt",
         "99",
         "3",
         "53",
         "2019-06-22",
         "4.44",
         "1",
         "21"
        ],
        [
         "19",
         "7750",
         "Huge 2 BR Upper East  Cental Park",
         "17985",
         "Sing",
         "Manhattan",
         "East Harlem",
         "40.79685",
         "-73.94872",
         "Entire home/apt",
         "190",
         "7",
         "0",
         null,
         null,
         "2",
         "249"
        ],
        [
         "20",
         "7801",
         "Sweet and Spacious Brooklyn Loft",
         "21207",
         "Chaya",
         "Brooklyn",
         "Williamsburg",
         "40.71842",
         "-73.95718",
         "Entire home/apt",
         "299",
         "3",
         "9",
         "2011-12-28",
         "0.07",
         "1",
         "0"
        ],
        [
         "21",
         "8024",
         "CBG CtyBGd HelpsHaiti rm#1:1-4",
         "22486",
         "Lisel",
         "Brooklyn",
         "Park Slope",
         "40.68069",
         "-73.97706",
         "Private room",
         "130",
         "2",
         "130",
         "2019-07-01",
         "1.09",
         "6",
         "347"
        ],
        [
         "22",
         "8025",
         "CBG Helps Haiti Room#2.5",
         "22486",
         "Lisel",
         "Brooklyn",
         "Park Slope",
         "40.67989",
         "-73.97798",
         "Private room",
         "80",
         "1",
         "39",
         "2019-01-01",
         "0.37",
         "6",
         "364"
        ],
        [
         "23",
         "8110",
         "CBG Helps Haiti Rm #2",
         "22486",
         "Lisel",
         "Brooklyn",
         "Park Slope",
         "40.68001",
         "-73.97865",
         "Private room",
         "110",
         "2",
         "71",
         "2019-07-02",
         "0.61",
         "6",
         "304"
        ],
        [
         "24",
         "8490",
         "MAISON DES SIRENES1,bohemian apartment",
         "25183",
         "Nathalie",
         "Brooklyn",
         "Bedford-Stuyvesant",
         "40.68371",
         "-73.94028",
         "Entire home/apt",
         "120",
         "2",
         "88",
         "2019-06-19",
         "0.73",
         "2",
         "233"
        ],
        [
         "25",
         "8505",
         "Sunny Bedroom Across Prospect Park",
         "25326",
         "Gregory",
         "Brooklyn",
         "Windsor Terrace",
         "40.65599",
         "-73.97519",
         "Private room",
         "60",
         "1",
         "19",
         "2019-06-23",
         "1.37",
         "2",
         "85"
        ],
        [
         "26",
         "8700",
         "Magnifique Suite au N de Manhattan - vue Cloitres",
         "26394",
         "Claude & Sophie",
         "Manhattan",
         "Inwood",
         "40.86754",
         "-73.92639",
         "Private room",
         "80",
         "4",
         "0",
         null,
         null,
         "1",
         "0"
        ],
        [
         "27",
         "9357",
         "Midtown Pied-a-terre",
         "30193",
         "Tommi",
         "Manhattan",
         "Hell's Kitchen",
         "40.76715",
         "-73.98533",
         "Entire home/apt",
         "150",
         "10",
         "58",
         "2017-08-13",
         "0.49",
         "1",
         "75"
        ],
        [
         "28",
         "9518",
         "SPACIOUS, LOVELY FURNISHED MANHATTAN BEDROOM",
         "31374",
         "Shon",
         "Manhattan",
         "Inwood",
         "40.86482",
         "-73.92106",
         "Private room",
         "44",
         "3",
         "108",
         "2019-06-15",
         "1.11",
         "3",
         "311"
        ],
        [
         "29",
         "9657",
         "Modern 1 BR / NYC / EAST VILLAGE",
         "21904",
         "Dana",
         "Manhattan",
         "East Village",
         "40.7292",
         "-73.98542",
         "Entire home/apt",
         "180",
         "14",
         "29",
         "2019-04-19",
         "0.24",
         "1",
         "67"
        ],
        [
         "30",
         "9668",
         "front room/double bed",
         "32294",
         "Ssameer Or Trip",
         "Manhattan",
         "Harlem",
         "40.82245",
         "-73.95104",
         "Private room",
         "50",
         "3",
         "242",
         "2019-06-01",
         "2.04",
         "3",
         "355"
        ],
        [
         "31",
         "9704",
         "Spacious 1 bedroom in luxe building",
         "32045",
         "Teri",
         "Manhattan",
         "Harlem",
         "40.81305",
         "-73.95466",
         "Private room",
         "52",
         "2",
         "88",
         "2019-06-14",
         "1.42",
         "1",
         "255"
        ],
        [
         "32",
         "9782",
         "Loft in Williamsburg Area w/ Roof",
         "32169",
         "Andrea",
         "Brooklyn",
         "Greenpoint",
         "40.72219",
         "-73.93762",
         "Private room",
         "55",
         "4",
         "197",
         "2019-06-15",
         "1.65",
         "3",
         "284"
        ],
        [
         "33",
         "9783",
         "back room/bunk beds",
         "32294",
         "Ssameer Or Trip",
         "Manhattan",
         "Harlem",
         "40.8213",
         "-73.95318",
         "Private room",
         "50",
         "3",
         "273",
         "2019-07-01",
         "2.37",
         "3",
         "359"
        ],
        [
         "34",
         "10452",
         "Large B&B Style rooms",
         "35935",
         "Angela",
         "Brooklyn",
         "Bedford-Stuyvesant",
         "40.6831",
         "-73.95473",
         "Private room",
         "70",
         "1",
         "74",
         "2019-05-12",
         "0.66",
         "2",
         "269"
        ],
        [
         "35",
         "10962",
         "Lovely room 2 & garden; Best area, Legal rental",
         "9744",
         "Laurie",
         "Brooklyn",
         "South Slope",
         "40.66869",
         "-73.9878",
         "Private room",
         "89",
         "4",
         "168",
         "2019-06-21",
         "1.41",
         "3",
         "340"
        ],
        [
         "36",
         "11452",
         "Clean and Quiet in Brooklyn",
         "7355",
         "Vt",
         "Brooklyn",
         "Bedford-Stuyvesant",
         "40.68876",
         "-73.94312",
         "Private room",
         "35",
         "60",
         "0",
         null,
         null,
         "1",
         "365"
        ],
        [
         "37",
         "11708",
         "Cute apt in artist's home",
         "44145",
         "Tyrome",
         "Brooklyn",
         "Bushwick",
         "40.70186",
         "-73.92745",
         "Entire home/apt",
         "85",
         "2",
         "231",
         "2019-06-22",
         "1.96",
         "2",
         "22"
        ],
        [
         "38",
         "11943",
         "Country space in the city",
         "45445",
         "Harriet",
         "Brooklyn",
         "Flatbush",
         "40.63702",
         "-73.96327",
         "Private room",
         "150",
         "1",
         "0",
         null,
         null,
         "1",
         "365"
        ],
        [
         "39",
         "12048",
         "LowerEastSide apt share shortterm 1",
         "7549",
         "Ben",
         "Manhattan",
         "Lower East Side",
         "40.71401",
         "-73.98917",
         "Shared room",
         "40",
         "1",
         "214",
         "2019-07-05",
         "1.81",
         "4",
         "188"
        ],
        [
         "40",
         "12192",
         "ENJOY Downtown NYC!",
         "46978",
         "Edward",
         "Manhattan",
         "East Village",
         "40.7229",
         "-73.98199",
         "Private room",
         "68",
         "2",
         "245",
         "2019-06-21",
         "2.08",
         "2",
         "96"
        ],
        [
         "41",
         "12299",
         "Beautiful Sunny Park Slope Brooklyn",
         "47610",
         "Abdul",
         "Brooklyn",
         "South Slope",
         "40.66278",
         "-73.97966",
         "Entire home/apt",
         "120",
         "3",
         "15",
         "2019-05-27",
         "0.39",
         "1",
         "345"
        ],
        [
         "42",
         "12303",
         "1bdr w private bath. in lofty apt",
         "47618",
         "Yolande",
         "Brooklyn",
         "Fort Greene",
         "40.69673",
         "-73.97584",
         "Private room",
         "120",
         "7",
         "25",
         "2018-09-30",
         "0.23",
         "1",
         "311"
        ],
        [
         "43",
         "12318",
         "West Side Retreat",
         "16800",
         "Cyn",
         "Manhattan",
         "Upper West Side",
         "40.79009",
         "-73.97927",
         "Private room",
         "135",
         "4",
         "81",
         "2019-06-16",
         "0.69",
         "1",
         "273"
        ],
        [
         "44",
         "12343",
         "BEST BET IN HARLEM",
         "47727",
         "Earl",
         "Manhattan",
         "Harlem",
         "40.81175",
         "-73.94478",
         "Entire home/apt",
         "150",
         "7",
         "97",
         "2019-06-13",
         "0.84",
         "1",
         "309"
        ],
        [
         "45",
         "12627",
         "Entire apartment in central Brooklyn neighborhood.",
         "49670",
         "Rana",
         "Brooklyn",
         "Prospect-Lefferts Gardens",
         "40.65944",
         "-73.96238",
         "Entire home/apt",
         "150",
         "29",
         "11",
         "2019-06-05",
         "0.49",
         "1",
         "95"
        ],
        [
         "46",
         "12937",
         "1 Stop fr. Manhattan! Private Suite,Landmark Block",
         "50124",
         "Orestes",
         "Queens",
         "Long Island City",
         "40.74771",
         "-73.9474",
         "Private room",
         "130",
         "3",
         "248",
         "2019-07-01",
         "2.25",
         "1",
         "215"
        ],
        [
         "47",
         "12940",
         "Charming Brownstone 3 - Near PRATT",
         "50148",
         "Adreinne",
         "Brooklyn",
         "Bedford-Stuyvesant",
         "40.68111",
         "-73.95591",
         "Entire home/apt",
         "110",
         "7",
         "61",
         "2019-05-25",
         "0.52",
         "1",
         "265"
        ],
        [
         "48",
         "13050",
         "bright and stylish duplex",
         "50846",
         "Jennifer",
         "Brooklyn",
         "Bedford-Stuyvesant",
         "40.68554",
         "-73.9409",
         "Entire home/apt",
         "115",
         "3",
         "11",
         "2017-01-01",
         "0.1",
         "1",
         "0"
        ],
        [
         "49",
         "13394",
         "Fort Greene brownstone ",
         "52335",
         "Alexander",
         "Brooklyn",
         "Fort Greene",
         "40.69142",
         "-73.97376",
         "Private room",
         "80",
         "3",
         "135",
         "2019-06-17",
         "1.16",
         "2",
         "192"
        ]
       ],
       "shape": {
        "columns": 16,
        "rows": 48895
       }
      },
      "text/html": [
       "<div>\n",
       "<style scoped>\n",
       "    .dataframe tbody tr th:only-of-type {\n",
       "        vertical-align: middle;\n",
       "    }\n",
       "\n",
       "    .dataframe tbody tr th {\n",
       "        vertical-align: top;\n",
       "    }\n",
       "\n",
       "    .dataframe thead th {\n",
       "        text-align: right;\n",
       "    }\n",
       "</style>\n",
       "<table border=\"1\" class=\"dataframe\">\n",
       "  <thead>\n",
       "    <tr style=\"text-align: right;\">\n",
       "      <th></th>\n",
       "      <th>id</th>\n",
       "      <th>name</th>\n",
       "      <th>host_id</th>\n",
       "      <th>host_name</th>\n",
       "      <th>neighbourhood_group</th>\n",
       "      <th>neighbourhood</th>\n",
       "      <th>latitude</th>\n",
       "      <th>longitude</th>\n",
       "      <th>room_type</th>\n",
       "      <th>price</th>\n",
       "      <th>minimum_nights</th>\n",
       "      <th>number_of_reviews</th>\n",
       "      <th>last_review</th>\n",
       "      <th>reviews_per_month</th>\n",
       "      <th>calculated_host_listings_count</th>\n",
       "      <th>availability_365</th>\n",
       "    </tr>\n",
       "  </thead>\n",
       "  <tbody>\n",
       "    <tr>\n",
       "      <th>0</th>\n",
       "      <td>2539</td>\n",
       "      <td>Clean &amp; quiet apt home by the park</td>\n",
       "      <td>2787</td>\n",
       "      <td>John</td>\n",
       "      <td>Brooklyn</td>\n",
       "      <td>Kensington</td>\n",
       "      <td>40.64749</td>\n",
       "      <td>-73.97237</td>\n",
       "      <td>Private room</td>\n",
       "      <td>149</td>\n",
       "      <td>1</td>\n",
       "      <td>9</td>\n",
       "      <td>2018-10-19</td>\n",
       "      <td>0.21</td>\n",
       "      <td>6</td>\n",
       "      <td>365</td>\n",
       "    </tr>\n",
       "    <tr>\n",
       "      <th>1</th>\n",
       "      <td>2595</td>\n",
       "      <td>Skylit Midtown Castle</td>\n",
       "      <td>2845</td>\n",
       "      <td>Jennifer</td>\n",
       "      <td>Manhattan</td>\n",
       "      <td>Midtown</td>\n",
       "      <td>40.75362</td>\n",
       "      <td>-73.98377</td>\n",
       "      <td>Entire home/apt</td>\n",
       "      <td>225</td>\n",
       "      <td>1</td>\n",
       "      <td>45</td>\n",
       "      <td>2019-05-21</td>\n",
       "      <td>0.38</td>\n",
       "      <td>2</td>\n",
       "      <td>355</td>\n",
       "    </tr>\n",
       "    <tr>\n",
       "      <th>2</th>\n",
       "      <td>3647</td>\n",
       "      <td>THE VILLAGE OF HARLEM....NEW YORK !</td>\n",
       "      <td>4632</td>\n",
       "      <td>Elisabeth</td>\n",
       "      <td>Manhattan</td>\n",
       "      <td>Harlem</td>\n",
       "      <td>40.80902</td>\n",
       "      <td>-73.94190</td>\n",
       "      <td>Private room</td>\n",
       "      <td>150</td>\n",
       "      <td>3</td>\n",
       "      <td>0</td>\n",
       "      <td>NaN</td>\n",
       "      <td>NaN</td>\n",
       "      <td>1</td>\n",
       "      <td>365</td>\n",
       "    </tr>\n",
       "    <tr>\n",
       "      <th>3</th>\n",
       "      <td>3831</td>\n",
       "      <td>Cozy Entire Floor of Brownstone</td>\n",
       "      <td>4869</td>\n",
       "      <td>LisaRoxanne</td>\n",
       "      <td>Brooklyn</td>\n",
       "      <td>Clinton Hill</td>\n",
       "      <td>40.68514</td>\n",
       "      <td>-73.95976</td>\n",
       "      <td>Entire home/apt</td>\n",
       "      <td>89</td>\n",
       "      <td>1</td>\n",
       "      <td>270</td>\n",
       "      <td>2019-07-05</td>\n",
       "      <td>4.64</td>\n",
       "      <td>1</td>\n",
       "      <td>194</td>\n",
       "    </tr>\n",
       "    <tr>\n",
       "      <th>4</th>\n",
       "      <td>5022</td>\n",
       "      <td>Entire Apt: Spacious Studio/Loft by central park</td>\n",
       "      <td>7192</td>\n",
       "      <td>Laura</td>\n",
       "      <td>Manhattan</td>\n",
       "      <td>East Harlem</td>\n",
       "      <td>40.79851</td>\n",
       "      <td>-73.94399</td>\n",
       "      <td>Entire home/apt</td>\n",
       "      <td>80</td>\n",
       "      <td>10</td>\n",
       "      <td>9</td>\n",
       "      <td>2018-11-19</td>\n",
       "      <td>0.10</td>\n",
       "      <td>1</td>\n",
       "      <td>0</td>\n",
       "    </tr>\n",
       "    <tr>\n",
       "      <th>...</th>\n",
       "      <td>...</td>\n",
       "      <td>...</td>\n",
       "      <td>...</td>\n",
       "      <td>...</td>\n",
       "      <td>...</td>\n",
       "      <td>...</td>\n",
       "      <td>...</td>\n",
       "      <td>...</td>\n",
       "      <td>...</td>\n",
       "      <td>...</td>\n",
       "      <td>...</td>\n",
       "      <td>...</td>\n",
       "      <td>...</td>\n",
       "      <td>...</td>\n",
       "      <td>...</td>\n",
       "      <td>...</td>\n",
       "    </tr>\n",
       "    <tr>\n",
       "      <th>48890</th>\n",
       "      <td>36484665</td>\n",
       "      <td>Charming one bedroom - newly renovated rowhouse</td>\n",
       "      <td>8232441</td>\n",
       "      <td>Sabrina</td>\n",
       "      <td>Brooklyn</td>\n",
       "      <td>Bedford-Stuyvesant</td>\n",
       "      <td>40.67853</td>\n",
       "      <td>-73.94995</td>\n",
       "      <td>Private room</td>\n",
       "      <td>70</td>\n",
       "      <td>2</td>\n",
       "      <td>0</td>\n",
       "      <td>NaN</td>\n",
       "      <td>NaN</td>\n",
       "      <td>2</td>\n",
       "      <td>9</td>\n",
       "    </tr>\n",
       "    <tr>\n",
       "      <th>48891</th>\n",
       "      <td>36485057</td>\n",
       "      <td>Affordable room in Bushwick/East Williamsburg</td>\n",
       "      <td>6570630</td>\n",
       "      <td>Marisol</td>\n",
       "      <td>Brooklyn</td>\n",
       "      <td>Bushwick</td>\n",
       "      <td>40.70184</td>\n",
       "      <td>-73.93317</td>\n",
       "      <td>Private room</td>\n",
       "      <td>40</td>\n",
       "      <td>4</td>\n",
       "      <td>0</td>\n",
       "      <td>NaN</td>\n",
       "      <td>NaN</td>\n",
       "      <td>2</td>\n",
       "      <td>36</td>\n",
       "    </tr>\n",
       "    <tr>\n",
       "      <th>48892</th>\n",
       "      <td>36485431</td>\n",
       "      <td>Sunny Studio at Historical Neighborhood</td>\n",
       "      <td>23492952</td>\n",
       "      <td>Ilgar &amp; Aysel</td>\n",
       "      <td>Manhattan</td>\n",
       "      <td>Harlem</td>\n",
       "      <td>40.81475</td>\n",
       "      <td>-73.94867</td>\n",
       "      <td>Entire home/apt</td>\n",
       "      <td>115</td>\n",
       "      <td>10</td>\n",
       "      <td>0</td>\n",
       "      <td>NaN</td>\n",
       "      <td>NaN</td>\n",
       "      <td>1</td>\n",
       "      <td>27</td>\n",
       "    </tr>\n",
       "    <tr>\n",
       "      <th>48893</th>\n",
       "      <td>36485609</td>\n",
       "      <td>43rd St. Time Square-cozy single bed</td>\n",
       "      <td>30985759</td>\n",
       "      <td>Taz</td>\n",
       "      <td>Manhattan</td>\n",
       "      <td>Hell's Kitchen</td>\n",
       "      <td>40.75751</td>\n",
       "      <td>-73.99112</td>\n",
       "      <td>Shared room</td>\n",
       "      <td>55</td>\n",
       "      <td>1</td>\n",
       "      <td>0</td>\n",
       "      <td>NaN</td>\n",
       "      <td>NaN</td>\n",
       "      <td>6</td>\n",
       "      <td>2</td>\n",
       "    </tr>\n",
       "    <tr>\n",
       "      <th>48894</th>\n",
       "      <td>36487245</td>\n",
       "      <td>Trendy duplex in the very heart of Hell's Kitchen</td>\n",
       "      <td>68119814</td>\n",
       "      <td>Christophe</td>\n",
       "      <td>Manhattan</td>\n",
       "      <td>Hell's Kitchen</td>\n",
       "      <td>40.76404</td>\n",
       "      <td>-73.98933</td>\n",
       "      <td>Private room</td>\n",
       "      <td>90</td>\n",
       "      <td>7</td>\n",
       "      <td>0</td>\n",
       "      <td>NaN</td>\n",
       "      <td>NaN</td>\n",
       "      <td>1</td>\n",
       "      <td>23</td>\n",
       "    </tr>\n",
       "  </tbody>\n",
       "</table>\n",
       "<p>48895 rows × 16 columns</p>\n",
       "</div>"
      ],
      "text/plain": [
       "             id                                               name   host_id  \\\n",
       "0          2539                 Clean & quiet apt home by the park      2787   \n",
       "1          2595                              Skylit Midtown Castle      2845   \n",
       "2          3647                THE VILLAGE OF HARLEM....NEW YORK !      4632   \n",
       "3          3831                    Cozy Entire Floor of Brownstone      4869   \n",
       "4          5022   Entire Apt: Spacious Studio/Loft by central park      7192   \n",
       "...         ...                                                ...       ...   \n",
       "48890  36484665    Charming one bedroom - newly renovated rowhouse   8232441   \n",
       "48891  36485057      Affordable room in Bushwick/East Williamsburg   6570630   \n",
       "48892  36485431            Sunny Studio at Historical Neighborhood  23492952   \n",
       "48893  36485609               43rd St. Time Square-cozy single bed  30985759   \n",
       "48894  36487245  Trendy duplex in the very heart of Hell's Kitchen  68119814   \n",
       "\n",
       "           host_name neighbourhood_group       neighbourhood  latitude  \\\n",
       "0               John            Brooklyn          Kensington  40.64749   \n",
       "1           Jennifer           Manhattan             Midtown  40.75362   \n",
       "2          Elisabeth           Manhattan              Harlem  40.80902   \n",
       "3        LisaRoxanne            Brooklyn        Clinton Hill  40.68514   \n",
       "4              Laura           Manhattan         East Harlem  40.79851   \n",
       "...              ...                 ...                 ...       ...   \n",
       "48890        Sabrina            Brooklyn  Bedford-Stuyvesant  40.67853   \n",
       "48891        Marisol            Brooklyn            Bushwick  40.70184   \n",
       "48892  Ilgar & Aysel           Manhattan              Harlem  40.81475   \n",
       "48893            Taz           Manhattan      Hell's Kitchen  40.75751   \n",
       "48894     Christophe           Manhattan      Hell's Kitchen  40.76404   \n",
       "\n",
       "       longitude        room_type  price  minimum_nights  number_of_reviews  \\\n",
       "0      -73.97237     Private room    149               1                  9   \n",
       "1      -73.98377  Entire home/apt    225               1                 45   \n",
       "2      -73.94190     Private room    150               3                  0   \n",
       "3      -73.95976  Entire home/apt     89               1                270   \n",
       "4      -73.94399  Entire home/apt     80              10                  9   \n",
       "...          ...              ...    ...             ...                ...   \n",
       "48890  -73.94995     Private room     70               2                  0   \n",
       "48891  -73.93317     Private room     40               4                  0   \n",
       "48892  -73.94867  Entire home/apt    115              10                  0   \n",
       "48893  -73.99112      Shared room     55               1                  0   \n",
       "48894  -73.98933     Private room     90               7                  0   \n",
       "\n",
       "      last_review  reviews_per_month  calculated_host_listings_count  \\\n",
       "0      2018-10-19               0.21                               6   \n",
       "1      2019-05-21               0.38                               2   \n",
       "2             NaN                NaN                               1   \n",
       "3      2019-07-05               4.64                               1   \n",
       "4      2018-11-19               0.10                               1   \n",
       "...           ...                ...                             ...   \n",
       "48890         NaN                NaN                               2   \n",
       "48891         NaN                NaN                               2   \n",
       "48892         NaN                NaN                               1   \n",
       "48893         NaN                NaN                               6   \n",
       "48894         NaN                NaN                               1   \n",
       "\n",
       "       availability_365  \n",
       "0                   365  \n",
       "1                   355  \n",
       "2                   365  \n",
       "3                   194  \n",
       "4                     0  \n",
       "...                 ...  \n",
       "48890                 9  \n",
       "48891                36  \n",
       "48892                27  \n",
       "48893                 2  \n",
       "48894                23  \n",
       "\n",
       "[48895 rows x 16 columns]"
      ]
     },
     "execution_count": 20,
     "metadata": {},
     "output_type": "execute_result"
    }
   ],
   "source": [
    "df"
   ]
  },
  {
   "cell_type": "code",
   "execution_count": 5,
   "id": "00e48055",
   "metadata": {},
   "outputs": [
    {
     "data": {
      "text/plain": [
       "(48895, 16)"
      ]
     },
     "execution_count": 5,
     "metadata": {},
     "output_type": "execute_result"
    }
   ],
   "source": [
    "df.shape"
   ]
  },
  {
   "cell_type": "markdown",
   "id": "59a3be53",
   "metadata": {},
   "source": [
    "### Interesante hacer agrupaciones por barrio y propietario, aunque observamos que hay demasiados valores lo que imposibilita un buen análisis"
   ]
  },
  {
   "cell_type": "code",
   "execution_count": 21,
   "id": "50b23393",
   "metadata": {},
   "outputs": [
    {
     "data": {
      "text/plain": [
       "(host_name\n",
       " Michael          417\n",
       " David            403\n",
       " Sonder (NYC)     327\n",
       " John             294\n",
       " Alex             279\n",
       "                 ... \n",
       " Pujan              1\n",
       " Raheem             1\n",
       " Rusaa              1\n",
       " Erin At Bedly      1\n",
       " Brad & Rachel      1\n",
       " Name: count, Length: 11452, dtype: int64,\n",
       " neighbourhood\n",
       " Williamsburg          3920\n",
       " Bedford-Stuyvesant    3714\n",
       " Harlem                2658\n",
       " Bushwick              2465\n",
       " Upper West Side       1971\n",
       "                       ... \n",
       " Richmondtown             1\n",
       " Fort Wadsworth           1\n",
       " New Dorp                 1\n",
       " Rossville                1\n",
       " Willowbrook              1\n",
       " Name: count, Length: 221, dtype: int64)"
      ]
     },
     "execution_count": 21,
     "metadata": {},
     "output_type": "execute_result"
    }
   ],
   "source": [
    "df['host_name'].value_counts(), df['neighbourhood'].value_counts()"
   ]
  },
  {
   "cell_type": "code",
   "execution_count": 7,
   "id": "59ef5d6c",
   "metadata": {},
   "outputs": [
    {
     "data": {
      "application/vnd.microsoft.datawrangler.viewer.v0+json": {
       "columns": [
        {
         "name": "index",
         "rawType": "int64",
         "type": "integer"
        },
        {
         "name": "id",
         "rawType": "int64",
         "type": "integer"
        },
        {
         "name": "name",
         "rawType": "object",
         "type": "string"
        },
        {
         "name": "host_id",
         "rawType": "int64",
         "type": "integer"
        },
        {
         "name": "host_name",
         "rawType": "object",
         "type": "string"
        },
        {
         "name": "neighbourhood_group",
         "rawType": "object",
         "type": "string"
        },
        {
         "name": "neighbourhood",
         "rawType": "object",
         "type": "string"
        },
        {
         "name": "latitude",
         "rawType": "float64",
         "type": "float"
        },
        {
         "name": "longitude",
         "rawType": "float64",
         "type": "float"
        },
        {
         "name": "room_type",
         "rawType": "object",
         "type": "string"
        },
        {
         "name": "price",
         "rawType": "int64",
         "type": "integer"
        },
        {
         "name": "minimum_nights",
         "rawType": "int64",
         "type": "integer"
        },
        {
         "name": "number_of_reviews",
         "rawType": "int64",
         "type": "integer"
        },
        {
         "name": "last_review",
         "rawType": "object",
         "type": "unknown"
        },
        {
         "name": "reviews_per_month",
         "rawType": "float64",
         "type": "float"
        },
        {
         "name": "calculated_host_listings_count",
         "rawType": "int64",
         "type": "integer"
        },
        {
         "name": "availability_365",
         "rawType": "int64",
         "type": "integer"
        }
       ],
       "ref": "6f4ae07f-472a-4368-9ad6-9b1498e71896",
       "rows": [
        [
         "38293",
         "30181691",
         "Sonder | 180 Water | Incredible 2BR + Rooftop",
         "219517861",
         "Sonder (NYC)",
         "Manhattan",
         "Financial District",
         "40.70637",
         "-74.00645",
         "Entire home/apt",
         "302",
         "29",
         "0",
         null,
         null,
         "327",
         "309"
        ],
        [
         "38294",
         "30181945",
         "Sonder | 180 Water | Premier 1BR + Rooftop",
         "219517861",
         "Sonder (NYC)",
         "Manhattan",
         "Financial District",
         "40.70771",
         "-74.00641",
         "Entire home/apt",
         "229",
         "29",
         "1",
         "2019-05-29",
         "0.73",
         "327",
         "219"
        ],
        [
         "38588",
         "30347708",
         "Sonder | 180 Water | Charming 1BR + Rooftop",
         "219517861",
         "Sonder (NYC)",
         "Manhattan",
         "Financial District",
         "40.70743",
         "-74.00443",
         "Entire home/apt",
         "232",
         "29",
         "1",
         "2019-05-21",
         "0.6",
         "327",
         "159"
        ],
        [
         "39769",
         "30937590",
         "Sonder | The Nash | Artsy 1BR + Rooftop",
         "219517861",
         "Sonder (NYC)",
         "Manhattan",
         "Murray Hill",
         "40.74792",
         "-73.97614",
         "Entire home/apt",
         "262",
         "2",
         "8",
         "2019-06-09",
         "1.86",
         "327",
         "91"
        ],
        [
         "39770",
         "30937591",
         "Sonder | The Nash | Lovely Studio + Rooftop",
         "219517861",
         "Sonder (NYC)",
         "Manhattan",
         "Murray Hill",
         "40.74771",
         "-73.97528",
         "Entire home/apt",
         "255",
         "2",
         "14",
         "2019-06-10",
         "2.59",
         "327",
         "81"
        ],
        [
         "39771",
         "30937594",
         "Sonder | The Nash | Brilliant Studio + Rooftop",
         "219517861",
         "Sonder (NYC)",
         "Manhattan",
         "Murray Hill",
         "40.74845",
         "-73.97446",
         "Entire home/apt",
         "245",
         "2",
         "4",
         "2019-06-08",
         "0.94",
         "327",
         "137"
        ],
        [
         "39772",
         "30937595",
         "Sonder | 11th Ave | Bright 1BR + Gym",
         "219517861",
         "Sonder (NYC)",
         "Manhattan",
         "Hell's Kitchen",
         "40.76188",
         "-73.99616",
         "Entire home/apt",
         "185",
         "29",
         "1",
         "2019-06-20",
         "1.0",
         "327",
         "281"
        ],
        [
         "39773",
         "30937596",
         "Sonder | 11th Ave | Contemporary 1BR + Gym",
         "219517861",
         "Sonder (NYC)",
         "Manhattan",
         "Hell's Kitchen",
         "40.76037",
         "-73.99744",
         "Entire home/apt",
         "185",
         "29",
         "1",
         "2019-06-10",
         "1.0",
         "327",
         "332"
        ],
        [
         "39774",
         "30937597",
         "Sonder | The Nash | Pristine Studio + Gym",
         "219517861",
         "Sonder (NYC)",
         "Manhattan",
         "Murray Hill",
         "40.74884",
         "-73.97589",
         "Entire home/apt",
         "252",
         "2",
         "7",
         "2019-06-23",
         "1.19",
         "327",
         "117"
        ],
        [
         "39775",
         "30937598",
         "Sunny 1BR in Hell's Kitchen by Sonder",
         "219517861",
         "Sonder (NYC)",
         "Manhattan",
         "Hell's Kitchen",
         "40.76079",
         "-73.99807",
         "Entire home/apt",
         "189",
         "29",
         "1",
         "2019-06-08",
         "0.94",
         "327",
         "325"
        ],
        [
         "39776",
         "30937740",
         "Sonder | The Nash | Airy Studio + Fitness Center",
         "219517861",
         "Sonder (NYC)",
         "Manhattan",
         "Murray Hill",
         "40.74896",
         "-73.97472",
         "Entire home/apt",
         "228",
         "2",
         "5",
         "2019-06-19",
         "0.91",
         "327",
         "111"
        ],
        [
         "39777",
         "30937747",
         "Sonder | The Nash | Bohemian Studio + Rooftop",
         "219517861",
         "Sonder (NYC)",
         "Manhattan",
         "Murray Hill",
         "40.74737",
         "-73.9742",
         "Entire home/apt",
         "240",
         "2",
         "4",
         "2019-06-01",
         "1.06",
         "327",
         "99"
        ],
        [
         "39778",
         "30937750",
         "Sonder | The Nash | Simple Studio + Gym",
         "219517861",
         "Sonder (NYC)",
         "Manhattan",
         "Murray Hill",
         "40.74846",
         "-73.97448",
         "Entire home/apt",
         "241",
         "2",
         "4",
         "2019-06-03",
         "1.3",
         "327",
         "130"
        ],
        [
         "39779",
         "30937756",
         "Sonder | The Nash | Creative 1BR + Gym",
         "219517861",
         "Sonder (NYC)",
         "Manhattan",
         "Murray Hill",
         "40.74871",
         "-73.97446",
         "Entire home/apt",
         "265",
         "2",
         "5",
         "2019-06-12",
         "1.21",
         "327",
         "83"
        ],
        [
         "39780",
         "30937759",
         "Sonder | The Nash | Bohemian 1BR + Rooftop",
         "219517861",
         "Sonder (NYC)",
         "Manhattan",
         "Murray Hill",
         "40.74846",
         "-73.97611",
         "Entire home/apt",
         "263",
         "2",
         "5",
         "2019-05-18",
         "0.99",
         "327",
         "62"
        ],
        [
         "39781",
         "30937762",
         "Sonder | The Nash | Charming Studio + Gym",
         "219517861",
         "Sonder (NYC)",
         "Manhattan",
         "Murray Hill",
         "40.74909",
         "-73.97585",
         "Entire home/apt",
         "243",
         "2",
         "6",
         "2019-06-21",
         "1.09",
         "327",
         "153"
        ],
        [
         "39782",
         "30937764",
         "Sonder | The Nash | Polished Studio + Rooftop",
         "219517861",
         "Sonder (NYC)",
         "Manhattan",
         "Murray Hill",
         "40.74845",
         "-73.97458",
         "Entire home/apt",
         "254",
         "2",
         "1",
         "2019-04-11",
         "0.34",
         "327",
         "159"
        ],
        [
         "40476",
         "31378549",
         "Sonder | 180 Water | Chic Studio + Rooftop",
         "219517861",
         "Sonder (NYC)",
         "Manhattan",
         "Financial District",
         "40.70768",
         "-74.00603",
         "Entire home/apt",
         "197",
         "29",
         "2",
         "2019-06-02",
         "0.51",
         "327",
         "334"
        ],
        [
         "41362",
         "32218558",
         "Sonder | Stock Exchange | Welcoming 1BR + Sofa Bed",
         "219517861",
         "Sonder (NYC)",
         "Manhattan",
         "Financial District",
         "40.70584",
         "-74.0106",
         "Entire home/apt",
         "245",
         "2",
         "6",
         "2019-05-19",
         "1.65",
         "327",
         "272"
        ],
        [
         "41363",
         "32218659",
         "Sonder | Stock Exchange | Amazing 1BR + Kitchen",
         "219517861",
         "Sonder (NYC)",
         "Manhattan",
         "Financial District",
         "40.70608",
         "-74.012",
         "Entire home/apt",
         "245",
         "2",
         "2",
         "2019-06-18",
         "2.0",
         "327",
         "299"
        ],
        [
         "41364",
         "32218803",
         "Sonder | Wall Street | Quaint Studio + Kitchen",
         "219517861",
         "Sonder (NYC)",
         "Manhattan",
         "Financial District",
         "40.70658",
         "-74.01036",
         "Private room",
         "200",
         "2",
         "13",
         "2019-06-18",
         "2.81",
         "327",
         "352"
        ],
        [
         "41365",
         "32219550",
         "Sonder | Stock Exchange | Peaceful 1BR + Sofa Bed",
         "219517861",
         "Sonder (NYC)",
         "Manhattan",
         "Financial District",
         "40.70623",
         "-74.01198",
         "Entire home/apt",
         "229",
         "2",
         "6",
         "2019-06-21",
         "3.0",
         "327",
         "355"
        ],
        [
         "41366",
         "32219678",
         "Sonder | Wall Street | Quaint Studio + Laundry",
         "219517861",
         "Sonder (NYC)",
         "Manhattan",
         "Financial District",
         "40.70564",
         "-74.01162",
         "Private room",
         "204",
         "2",
         "4",
         "2019-04-29",
         "0.96",
         "327",
         "327"
        ],
        [
         "41373",
         "32223317",
         "Sonder | Stock Exchange | Premier 2BR + Laundry",
         "219517861",
         "Sonder (NYC)",
         "Manhattan",
         "Financial District",
         "40.7058",
         "-74.0121",
         "Entire home/apt",
         "404",
         "2",
         "10",
         "2019-05-27",
         "2.26",
         "327",
         "330"
        ],
        [
         "41374",
         "32223854",
         "Sonder | Stock Exchange | Classic 1BR + Kitchen",
         "219517861",
         "Sonder (NYC)",
         "Manhattan",
         "Financial District",
         "40.70641",
         "-74.01047",
         "Entire home/apt",
         "234",
         "2",
         "2",
         "2019-06-04",
         "1.46",
         "327",
         "332"
        ],
        [
         "41375",
         "32224165",
         "Sonder | Stock Exchange | Modern 2BR + Lounge",
         "219517861",
         "Sonder (NYC)",
         "Manhattan",
         "Financial District",
         "40.70621",
         "-74.01238",
         "Entire home/apt",
         "425",
         "2",
         "8",
         "2019-05-27",
         "2.11",
         "327",
         "339"
        ],
        [
         "41376",
         "32224172",
         "Sonder | Stock Exchange | Restful 1BR + Kitchen",
         "219517861",
         "Sonder (NYC)",
         "Manhattan",
         "Financial District",
         "40.70752",
         "-74.01046",
         "Entire home/apt",
         "235",
         "2",
         "7",
         "2019-06-24",
         "1.52",
         "327",
         "306"
        ],
        [
         "41377",
         "32224211",
         "Sonder | Stock Exchange | Calming 3BR + Sofa Bed",
         "219517861",
         "Sonder (NYC)",
         "Manhattan",
         "Financial District",
         "40.70645",
         "-74.01203",
         "Entire home/apt",
         "503",
         "2",
         "5",
         "2019-06-22",
         "1.34",
         "327",
         "315"
        ],
        [
         "41380",
         "32225184",
         "Sonder | Wall Street | Calming 1BR + Laundry",
         "219517861",
         "Sonder (NYC)",
         "Manhattan",
         "Financial District",
         "40.70721",
         "-74.01226",
         "Private room",
         "258",
         "2",
         "6",
         "2019-05-12",
         "1.27",
         "327",
         "332"
        ],
        [
         "41381",
         "32225186",
         "Sonder | Stock Exchange | Tranquil 2BR + Lounge",
         "219517861",
         "Sonder (NYC)",
         "Manhattan",
         "Financial District",
         "40.70714",
         "-74.01233",
         "Entire home/apt",
         "392",
         "2",
         "2",
         "2019-05-13",
         "0.63",
         "327",
         "286"
        ],
        [
         "41382",
         "32225187",
         "Sonder | Wall Street | Dreamy 2BR + Laundry",
         "219517861",
         "Sonder (NYC)",
         "Manhattan",
         "Financial District",
         "40.70573",
         "-74.01077",
         "Private room",
         "375",
         "2",
         "5",
         "2019-06-23",
         "1.24",
         "327",
         "280"
        ],
        [
         "41383",
         "32225188",
         "Sonder | Stock Exchange | Private 1BR + Lounge",
         "219517861",
         "Sonder (NYC)",
         "Manhattan",
         "Financial District",
         "40.70644",
         "-74.01214",
         "Entire home/apt",
         "231",
         "2",
         "7",
         "2019-05-13",
         "1.69",
         "327",
         "347"
        ],
        [
         "41384",
         "32225189",
         "Sonder | Stock Exchange | Artsy Studio + Laundry",
         "219517861",
         "Sonder (NYC)",
         "Manhattan",
         "Financial District",
         "40.70624",
         "-74.01076",
         "Entire home/apt",
         "194",
         "2",
         "8",
         "2019-06-18",
         "1.85",
         "327",
         "341"
        ],
        [
         "41385",
         "32225195",
         "Sonder | Stock Exchange | Beautiful 1BR + Kitchen",
         "219517861",
         "Sonder (NYC)",
         "Manhattan",
         "Financial District",
         "40.70732",
         "-74.01029",
         "Entire home/apt",
         "240",
         "2",
         "8",
         "2019-06-20",
         "1.98",
         "327",
         "357"
        ],
        [
         "41386",
         "32225197",
         "Sonder | Stock Exchange | Private 1BR + Sofa Bed",
         "219517861",
         "Sonder (NYC)",
         "Manhattan",
         "Financial District",
         "40.7075",
         "-74.01023",
         "Entire home/apt",
         "229",
         "2",
         "7",
         "2019-05-17",
         "1.75",
         "327",
         "346"
        ],
        [
         "41387",
         "32225203",
         "Sonder | Stock Exchange | Upscale 1BR + Sofa Bed",
         "219517861",
         "Sonder (NYC)",
         "Manhattan",
         "Financial District",
         "40.70737",
         "-74.01103",
         "Entire home/apt",
         "230",
         "2",
         "5",
         "2019-06-16",
         "1.49",
         "327",
         "346"
        ],
        [
         "41388",
         "32225206",
         "Sonder | Stock Exchange | Original 3BR + Sofa Bed",
         "219517861",
         "Sonder (NYC)",
         "Manhattan",
         "Financial District",
         "40.70587",
         "-74.01092",
         "Entire home/apt",
         "472",
         "2",
         "12",
         "2019-06-15",
         "2.67",
         "327",
         "234"
        ],
        [
         "41389",
         "32225207",
         "Sonder | Wall Street | Distinct 1BR + Laundry",
         "219517861",
         "Sonder (NYC)",
         "Manhattan",
         "Financial District",
         "40.70727",
         "-74.01072",
         "Private room",
         "256",
         "2",
         "16",
         "2019-06-20",
         "3.75",
         "327",
         "329"
        ],
        [
         "41401",
         "32236518",
         "Sonder | Stock Exchange | Expansive 3BR + Lounge",
         "219517861",
         "Sonder (NYC)",
         "Manhattan",
         "Financial District",
         "40.70775",
         "-74.01047",
         "Entire home/apt",
         "454",
         "2",
         "11",
         "2019-06-11",
         "3.33",
         "327",
         "297"
        ],
        [
         "41402",
         "32236681",
         "Sonder | Wall Street | Eclectic 1BR + Rooftop",
         "219517861",
         "Sonder (NYC)",
         "Manhattan",
         "Financial District",
         "40.70615",
         "-74.01243",
         "Private room",
         "262",
         "2",
         "6",
         "2019-06-05",
         "1.59",
         "327",
         "328"
        ],
        [
         "41403",
         "32236951",
         "Sonder | Stock Exchange | Incredible 3BR + Lounge",
         "219517861",
         "Sonder (NYC)",
         "Manhattan",
         "Financial District",
         "40.70734",
         "-74.01064",
         "Entire home/apt",
         "472",
         "2",
         "6",
         "2019-06-10",
         "1.41",
         "327",
         "316"
        ],
        [
         "41404",
         "32237138",
         "Sonder | Stock Exchange | Lively Studio + Kitchen",
         "219517861",
         "Sonder (NYC)",
         "Manhattan",
         "Financial District",
         "40.70714",
         "-74.01225",
         "Entire home/apt",
         "203",
         "2",
         "7",
         "2019-06-24",
         "1.88",
         "327",
         "338"
        ],
        [
         "41405",
         "32237148",
         "Sonder | Stock Exchange | Dreamy 1BR + Kitchen",
         "219517861",
         "Sonder (NYC)",
         "Manhattan",
         "Financial District",
         "40.70795",
         "-74.01046",
         "Entire home/apt",
         "247",
         "2",
         "9",
         "2019-05-28",
         "2.13",
         "327",
         "263"
        ],
        [
         "41406",
         "32237240",
         "Sonder | Stock Exchange | Dreamy 2BR + Sofa Bed",
         "219517861",
         "Sonder (NYC)",
         "Manhattan",
         "Financial District",
         "40.70649",
         "-74.01227",
         "Entire home/apt",
         "377",
         "2",
         "15",
         "2019-06-21",
         "3.52",
         "327",
         "273"
        ],
        [
         "41407",
         "32237306",
         "Sonder | Stock Exchange | Calming 1BR + Sofa Bed",
         "219517861",
         "Sonder (NYC)",
         "Manhattan",
         "Financial District",
         "40.70586",
         "-74.01078",
         "Entire home/apt",
         "229",
         "2",
         "14",
         "2019-06-23",
         "3.65",
         "327",
         "323"
        ],
        [
         "41408",
         "32237394",
         "Sonder | Stock Exchange | Private 1BR + Kitchen",
         "219517861",
         "Sonder (NYC)",
         "Manhattan",
         "Financial District",
         "40.70789",
         "-74.01229",
         "Entire home/apt",
         "234",
         "2",
         "12",
         "2019-06-16",
         "3.05",
         "327",
         "340"
        ],
        [
         "41409",
         "32237413",
         "Sonder | Stock Exchange | Expansive 3BR + Kitchen",
         "219517861",
         "Sonder (NYC)",
         "Manhattan",
         "Financial District",
         "40.70631",
         "-74.01098",
         "Entire home/apt",
         "503",
         "2",
         "7",
         "2019-05-28",
         "2.1",
         "327",
         "294"
        ],
        [
         "41410",
         "32237469",
         "Sonder | Stock Exchange | Welcoming 1BR + Laundry",
         "219517861",
         "Sonder (NYC)",
         "Manhattan",
         "Financial District",
         "40.7074",
         "-74.01175",
         "Entire home/apt",
         "228",
         "2",
         "2",
         "2019-05-18",
         "0.73",
         "327",
         "350"
        ],
        [
         "41411",
         "32237493",
         "Sonder | Stock Exchange | Serene 2BR + Sofa Bed",
         "219517861",
         "Sonder (NYC)",
         "Manhattan",
         "Financial District",
         "40.7065",
         "-74.01171",
         "Entire home/apt",
         "404",
         "2",
         "15",
         "2019-06-09",
         "3.19",
         "327",
         "310"
        ],
        [
         "41412",
         "32237560",
         "Sonder | Wall Street | Simple 1BR + Kitchen",
         "219517861",
         "Sonder (NYC)",
         "Manhattan",
         "Financial District",
         "40.70721",
         "-74.01044",
         "Entire home/apt",
         "252",
         "2",
         "12",
         "2019-06-19",
         "3.03",
         "327",
         "302"
        ]
       ],
       "shape": {
        "columns": 16,
        "rows": 327
       }
      },
      "text/html": [
       "<div>\n",
       "<style scoped>\n",
       "    .dataframe tbody tr th:only-of-type {\n",
       "        vertical-align: middle;\n",
       "    }\n",
       "\n",
       "    .dataframe tbody tr th {\n",
       "        vertical-align: top;\n",
       "    }\n",
       "\n",
       "    .dataframe thead th {\n",
       "        text-align: right;\n",
       "    }\n",
       "</style>\n",
       "<table border=\"1\" class=\"dataframe\">\n",
       "  <thead>\n",
       "    <tr style=\"text-align: right;\">\n",
       "      <th></th>\n",
       "      <th>id</th>\n",
       "      <th>name</th>\n",
       "      <th>host_id</th>\n",
       "      <th>host_name</th>\n",
       "      <th>neighbourhood_group</th>\n",
       "      <th>neighbourhood</th>\n",
       "      <th>latitude</th>\n",
       "      <th>longitude</th>\n",
       "      <th>room_type</th>\n",
       "      <th>price</th>\n",
       "      <th>minimum_nights</th>\n",
       "      <th>number_of_reviews</th>\n",
       "      <th>last_review</th>\n",
       "      <th>reviews_per_month</th>\n",
       "      <th>calculated_host_listings_count</th>\n",
       "      <th>availability_365</th>\n",
       "    </tr>\n",
       "  </thead>\n",
       "  <tbody>\n",
       "    <tr>\n",
       "      <th>38293</th>\n",
       "      <td>30181691</td>\n",
       "      <td>Sonder | 180 Water | Incredible 2BR + Rooftop</td>\n",
       "      <td>219517861</td>\n",
       "      <td>Sonder (NYC)</td>\n",
       "      <td>Manhattan</td>\n",
       "      <td>Financial District</td>\n",
       "      <td>40.70637</td>\n",
       "      <td>-74.00645</td>\n",
       "      <td>Entire home/apt</td>\n",
       "      <td>302</td>\n",
       "      <td>29</td>\n",
       "      <td>0</td>\n",
       "      <td>NaN</td>\n",
       "      <td>NaN</td>\n",
       "      <td>327</td>\n",
       "      <td>309</td>\n",
       "    </tr>\n",
       "    <tr>\n",
       "      <th>38294</th>\n",
       "      <td>30181945</td>\n",
       "      <td>Sonder | 180 Water | Premier 1BR + Rooftop</td>\n",
       "      <td>219517861</td>\n",
       "      <td>Sonder (NYC)</td>\n",
       "      <td>Manhattan</td>\n",
       "      <td>Financial District</td>\n",
       "      <td>40.70771</td>\n",
       "      <td>-74.00641</td>\n",
       "      <td>Entire home/apt</td>\n",
       "      <td>229</td>\n",
       "      <td>29</td>\n",
       "      <td>1</td>\n",
       "      <td>2019-05-29</td>\n",
       "      <td>0.73</td>\n",
       "      <td>327</td>\n",
       "      <td>219</td>\n",
       "    </tr>\n",
       "    <tr>\n",
       "      <th>38588</th>\n",
       "      <td>30347708</td>\n",
       "      <td>Sonder | 180 Water | Charming 1BR + Rooftop</td>\n",
       "      <td>219517861</td>\n",
       "      <td>Sonder (NYC)</td>\n",
       "      <td>Manhattan</td>\n",
       "      <td>Financial District</td>\n",
       "      <td>40.70743</td>\n",
       "      <td>-74.00443</td>\n",
       "      <td>Entire home/apt</td>\n",
       "      <td>232</td>\n",
       "      <td>29</td>\n",
       "      <td>1</td>\n",
       "      <td>2019-05-21</td>\n",
       "      <td>0.60</td>\n",
       "      <td>327</td>\n",
       "      <td>159</td>\n",
       "    </tr>\n",
       "    <tr>\n",
       "      <th>39769</th>\n",
       "      <td>30937590</td>\n",
       "      <td>Sonder | The Nash | Artsy 1BR + Rooftop</td>\n",
       "      <td>219517861</td>\n",
       "      <td>Sonder (NYC)</td>\n",
       "      <td>Manhattan</td>\n",
       "      <td>Murray Hill</td>\n",
       "      <td>40.74792</td>\n",
       "      <td>-73.97614</td>\n",
       "      <td>Entire home/apt</td>\n",
       "      <td>262</td>\n",
       "      <td>2</td>\n",
       "      <td>8</td>\n",
       "      <td>2019-06-09</td>\n",
       "      <td>1.86</td>\n",
       "      <td>327</td>\n",
       "      <td>91</td>\n",
       "    </tr>\n",
       "    <tr>\n",
       "      <th>39770</th>\n",
       "      <td>30937591</td>\n",
       "      <td>Sonder | The Nash | Lovely Studio + Rooftop</td>\n",
       "      <td>219517861</td>\n",
       "      <td>Sonder (NYC)</td>\n",
       "      <td>Manhattan</td>\n",
       "      <td>Murray Hill</td>\n",
       "      <td>40.74771</td>\n",
       "      <td>-73.97528</td>\n",
       "      <td>Entire home/apt</td>\n",
       "      <td>255</td>\n",
       "      <td>2</td>\n",
       "      <td>14</td>\n",
       "      <td>2019-06-10</td>\n",
       "      <td>2.59</td>\n",
       "      <td>327</td>\n",
       "      <td>81</td>\n",
       "    </tr>\n",
       "    <tr>\n",
       "      <th>...</th>\n",
       "      <td>...</td>\n",
       "      <td>...</td>\n",
       "      <td>...</td>\n",
       "      <td>...</td>\n",
       "      <td>...</td>\n",
       "      <td>...</td>\n",
       "      <td>...</td>\n",
       "      <td>...</td>\n",
       "      <td>...</td>\n",
       "      <td>...</td>\n",
       "      <td>...</td>\n",
       "      <td>...</td>\n",
       "      <td>...</td>\n",
       "      <td>...</td>\n",
       "      <td>...</td>\n",
       "      <td>...</td>\n",
       "    </tr>\n",
       "    <tr>\n",
       "      <th>47691</th>\n",
       "      <td>35871510</td>\n",
       "      <td>Sonder | 116 John | Vibrant Studio + Fitness Room</td>\n",
       "      <td>219517861</td>\n",
       "      <td>Sonder (NYC)</td>\n",
       "      <td>Manhattan</td>\n",
       "      <td>Financial District</td>\n",
       "      <td>40.70818</td>\n",
       "      <td>-74.00631</td>\n",
       "      <td>Entire home/apt</td>\n",
       "      <td>135</td>\n",
       "      <td>29</td>\n",
       "      <td>0</td>\n",
       "      <td>NaN</td>\n",
       "      <td>NaN</td>\n",
       "      <td>327</td>\n",
       "      <td>339</td>\n",
       "    </tr>\n",
       "    <tr>\n",
       "      <th>47692</th>\n",
       "      <td>35871511</td>\n",
       "      <td>Sonder | 116 John | Vibrant 1BR + Fitness Room</td>\n",
       "      <td>219517861</td>\n",
       "      <td>Sonder (NYC)</td>\n",
       "      <td>Manhattan</td>\n",
       "      <td>Financial District</td>\n",
       "      <td>40.70691</td>\n",
       "      <td>-74.00682</td>\n",
       "      <td>Entire home/apt</td>\n",
       "      <td>165</td>\n",
       "      <td>29</td>\n",
       "      <td>0</td>\n",
       "      <td>NaN</td>\n",
       "      <td>NaN</td>\n",
       "      <td>327</td>\n",
       "      <td>342</td>\n",
       "    </tr>\n",
       "    <tr>\n",
       "      <th>47693</th>\n",
       "      <td>35871515</td>\n",
       "      <td>Sonder | 116 John | Stunning 1BR + Rooftop</td>\n",
       "      <td>219517861</td>\n",
       "      <td>Sonder (NYC)</td>\n",
       "      <td>Manhattan</td>\n",
       "      <td>Financial District</td>\n",
       "      <td>40.70772</td>\n",
       "      <td>-74.00673</td>\n",
       "      <td>Entire home/apt</td>\n",
       "      <td>165</td>\n",
       "      <td>29</td>\n",
       "      <td>0</td>\n",
       "      <td>NaN</td>\n",
       "      <td>NaN</td>\n",
       "      <td>327</td>\n",
       "      <td>347</td>\n",
       "    </tr>\n",
       "    <tr>\n",
       "      <th>47814</th>\n",
       "      <td>35936418</td>\n",
       "      <td>Sonder | 116 John | Polished Studio + Gym</td>\n",
       "      <td>219517861</td>\n",
       "      <td>Sonder (NYC)</td>\n",
       "      <td>Manhattan</td>\n",
       "      <td>Financial District</td>\n",
       "      <td>40.70840</td>\n",
       "      <td>-74.00518</td>\n",
       "      <td>Entire home/apt</td>\n",
       "      <td>699</td>\n",
       "      <td>29</td>\n",
       "      <td>0</td>\n",
       "      <td>NaN</td>\n",
       "      <td>NaN</td>\n",
       "      <td>327</td>\n",
       "      <td>327</td>\n",
       "    </tr>\n",
       "    <tr>\n",
       "      <th>47821</th>\n",
       "      <td>35937891</td>\n",
       "      <td>Sonder | 116 John | Simple Studio + Gym</td>\n",
       "      <td>219517861</td>\n",
       "      <td>Sonder (NYC)</td>\n",
       "      <td>Manhattan</td>\n",
       "      <td>Financial District</td>\n",
       "      <td>40.70707</td>\n",
       "      <td>-74.00557</td>\n",
       "      <td>Entire home/apt</td>\n",
       "      <td>699</td>\n",
       "      <td>29</td>\n",
       "      <td>0</td>\n",
       "      <td>NaN</td>\n",
       "      <td>NaN</td>\n",
       "      <td>327</td>\n",
       "      <td>341</td>\n",
       "    </tr>\n",
       "  </tbody>\n",
       "</table>\n",
       "<p>327 rows × 16 columns</p>\n",
       "</div>"
      ],
      "text/plain": [
       "             id                                               name    host_id  \\\n",
       "38293  30181691      Sonder | 180 Water | Incredible 2BR + Rooftop  219517861   \n",
       "38294  30181945         Sonder | 180 Water | Premier 1BR + Rooftop  219517861   \n",
       "38588  30347708        Sonder | 180 Water | Charming 1BR + Rooftop  219517861   \n",
       "39769  30937590            Sonder | The Nash | Artsy 1BR + Rooftop  219517861   \n",
       "39770  30937591        Sonder | The Nash | Lovely Studio + Rooftop  219517861   \n",
       "...         ...                                                ...        ...   \n",
       "47691  35871510  Sonder | 116 John | Vibrant Studio + Fitness Room  219517861   \n",
       "47692  35871511     Sonder | 116 John | Vibrant 1BR + Fitness Room  219517861   \n",
       "47693  35871515         Sonder | 116 John | Stunning 1BR + Rooftop  219517861   \n",
       "47814  35936418          Sonder | 116 John | Polished Studio + Gym  219517861   \n",
       "47821  35937891            Sonder | 116 John | Simple Studio + Gym  219517861   \n",
       "\n",
       "          host_name neighbourhood_group       neighbourhood  latitude  \\\n",
       "38293  Sonder (NYC)           Manhattan  Financial District  40.70637   \n",
       "38294  Sonder (NYC)           Manhattan  Financial District  40.70771   \n",
       "38588  Sonder (NYC)           Manhattan  Financial District  40.70743   \n",
       "39769  Sonder (NYC)           Manhattan         Murray Hill  40.74792   \n",
       "39770  Sonder (NYC)           Manhattan         Murray Hill  40.74771   \n",
       "...             ...                 ...                 ...       ...   \n",
       "47691  Sonder (NYC)           Manhattan  Financial District  40.70818   \n",
       "47692  Sonder (NYC)           Manhattan  Financial District  40.70691   \n",
       "47693  Sonder (NYC)           Manhattan  Financial District  40.70772   \n",
       "47814  Sonder (NYC)           Manhattan  Financial District  40.70840   \n",
       "47821  Sonder (NYC)           Manhattan  Financial District  40.70707   \n",
       "\n",
       "       longitude        room_type  price  minimum_nights  number_of_reviews  \\\n",
       "38293  -74.00645  Entire home/apt    302              29                  0   \n",
       "38294  -74.00641  Entire home/apt    229              29                  1   \n",
       "38588  -74.00443  Entire home/apt    232              29                  1   \n",
       "39769  -73.97614  Entire home/apt    262               2                  8   \n",
       "39770  -73.97528  Entire home/apt    255               2                 14   \n",
       "...          ...              ...    ...             ...                ...   \n",
       "47691  -74.00631  Entire home/apt    135              29                  0   \n",
       "47692  -74.00682  Entire home/apt    165              29                  0   \n",
       "47693  -74.00673  Entire home/apt    165              29                  0   \n",
       "47814  -74.00518  Entire home/apt    699              29                  0   \n",
       "47821  -74.00557  Entire home/apt    699              29                  0   \n",
       "\n",
       "      last_review  reviews_per_month  calculated_host_listings_count  \\\n",
       "38293         NaN                NaN                             327   \n",
       "38294  2019-05-29               0.73                             327   \n",
       "38588  2019-05-21               0.60                             327   \n",
       "39769  2019-06-09               1.86                             327   \n",
       "39770  2019-06-10               2.59                             327   \n",
       "...           ...                ...                             ...   \n",
       "47691         NaN                NaN                             327   \n",
       "47692         NaN                NaN                             327   \n",
       "47693         NaN                NaN                             327   \n",
       "47814         NaN                NaN                             327   \n",
       "47821         NaN                NaN                             327   \n",
       "\n",
       "       availability_365  \n",
       "38293               309  \n",
       "38294               219  \n",
       "38588               159  \n",
       "39769                91  \n",
       "39770                81  \n",
       "...                 ...  \n",
       "47691               339  \n",
       "47692               342  \n",
       "47693               347  \n",
       "47814               327  \n",
       "47821               341  \n",
       "\n",
       "[327 rows x 16 columns]"
      ]
     },
     "execution_count": 7,
     "metadata": {},
     "output_type": "execute_result"
    }
   ],
   "source": [
    "df.loc[df['calculated_host_listings_count'].idxmax()] #Busco el propietario con mayor número de inmuebles\n",
    "df.loc[df['host_name'] == 'Sonder (NYC)'] # Resulta ser una inmobiliaria que tiene una gran cantidad de propiedades"
   ]
  },
  {
   "cell_type": "code",
   "execution_count": 8,
   "id": "d541d76c",
   "metadata": {},
   "outputs": [
    {
     "name": "stdout",
     "output_type": "stream",
     "text": [
      "<class 'pandas.core.frame.DataFrame'>\n",
      "RangeIndex: 48895 entries, 0 to 48894\n",
      "Data columns (total 16 columns):\n",
      " #   Column                          Non-Null Count  Dtype  \n",
      "---  ------                          --------------  -----  \n",
      " 0   id                              48895 non-null  int64  \n",
      " 1   name                            48879 non-null  object \n",
      " 2   host_id                         48895 non-null  int64  \n",
      " 3   host_name                       48874 non-null  object \n",
      " 4   neighbourhood_group             48895 non-null  object \n",
      " 5   neighbourhood                   48895 non-null  object \n",
      " 6   latitude                        48895 non-null  float64\n",
      " 7   longitude                       48895 non-null  float64\n",
      " 8   room_type                       48895 non-null  object \n",
      " 9   price                           48895 non-null  int64  \n",
      " 10  minimum_nights                  48895 non-null  int64  \n",
      " 11  number_of_reviews               48895 non-null  int64  \n",
      " 12  last_review                     38843 non-null  object \n",
      " 13  reviews_per_month               38843 non-null  float64\n",
      " 14  calculated_host_listings_count  48895 non-null  int64  \n",
      " 15  availability_365                48895 non-null  int64  \n",
      "dtypes: float64(3), int64(7), object(6)\n",
      "memory usage: 6.0+ MB\n"
     ]
    }
   ],
   "source": [
    "df.info()"
   ]
  },
  {
   "cell_type": "code",
   "execution_count": 26,
   "id": "8136edd1",
   "metadata": {},
   "outputs": [
    {
     "data": {
      "application/vnd.microsoft.datawrangler.viewer.v0+json": {
       "columns": [
        {
         "name": "index",
         "rawType": "object",
         "type": "string"
        },
        {
         "name": "0",
         "rawType": "int64",
         "type": "integer"
        }
       ],
       "ref": "b183ff54-4e48-4719-8f34-33edb2d5ffb1",
       "rows": [
        [
         "id",
         "48895"
        ],
        [
         "name",
         "47905"
        ],
        [
         "host_id",
         "37457"
        ],
        [
         "host_name",
         "11452"
        ],
        [
         "neighbourhood_group",
         "5"
        ],
        [
         "neighbourhood",
         "221"
        ],
        [
         "latitude",
         "19048"
        ],
        [
         "longitude",
         "14718"
        ],
        [
         "room_type",
         "3"
        ],
        [
         "price",
         "674"
        ],
        [
         "minimum_nights",
         "109"
        ],
        [
         "number_of_reviews",
         "394"
        ],
        [
         "last_review",
         "1764"
        ],
        [
         "reviews_per_month",
         "937"
        ],
        [
         "calculated_host_listings_count",
         "47"
        ],
        [
         "availability_365",
         "366"
        ]
       ],
       "shape": {
        "columns": 1,
        "rows": 16
       }
      },
      "text/plain": [
       "id                                48895\n",
       "name                              47905\n",
       "host_id                           37457\n",
       "host_name                         11452\n",
       "neighbourhood_group                   5\n",
       "neighbourhood                       221\n",
       "latitude                          19048\n",
       "longitude                         14718\n",
       "room_type                             3\n",
       "price                               674\n",
       "minimum_nights                      109\n",
       "number_of_reviews                   394\n",
       "last_review                        1764\n",
       "reviews_per_month                   937\n",
       "calculated_host_listings_count       47\n",
       "availability_365                    366\n",
       "dtype: int64"
      ]
     },
     "execution_count": 26,
     "metadata": {},
     "output_type": "execute_result"
    }
   ],
   "source": [
    "df.nunique()"
   ]
  },
  {
   "cell_type": "code",
   "execution_count": null,
   "id": "8f2291c1",
   "metadata": {},
   "outputs": [
    {
     "data": {
      "text/plain": [
       "(host_id\n",
       " 219517861    327\n",
       " 107434423    232\n",
       " 30283594     121\n",
       " 137358866    103\n",
       " 16098958      96\n",
       "             ... \n",
       " 274040642      1\n",
       " 274035866      1\n",
       " 24680832       1\n",
       " 71142174       1\n",
       " 274025920      1\n",
       " Name: count, Length: 37457, dtype: int64,\n",
       " host_name\n",
       " Michael          417\n",
       " David            403\n",
       " Sonder (NYC)     327\n",
       " John             294\n",
       " Alex             279\n",
       "                 ... \n",
       " Pujan              1\n",
       " Raheem             1\n",
       " Rusaa              1\n",
       " Erin At Bedly      1\n",
       " Brad & Rachel      1\n",
       " Name: count, Length: 11452, dtype: int64,\n",
       " neighbourhood\n",
       " Williamsburg          3920\n",
       " Bedford-Stuyvesant    3714\n",
       " Harlem                2658\n",
       " Bushwick              2465\n",
       " Upper West Side       1971\n",
       "                       ... \n",
       " Richmondtown             1\n",
       " Fort Wadsworth           1\n",
       " New Dorp                 1\n",
       " Rossville                1\n",
       " Willowbrook              1\n",
       " Name: count, Length: 221, dtype: int64)"
      ]
     },
     "execution_count": 37,
     "metadata": {},
     "output_type": "execute_result"
    }
   ],
   "source": [
    "df['host_id'].value_counts(), df['host_name'].value_counts()"
   ]
  },
  {
   "cell_type": "code",
   "execution_count": 38,
   "id": "ebe0badf",
   "metadata": {},
   "outputs": [
    {
     "data": {
      "application/vnd.microsoft.datawrangler.viewer.v0+json": {
       "columns": [
        {
         "name": "neighbourhood",
         "rawType": "object",
         "type": "string"
        },
        {
         "name": "count",
         "rawType": "int64",
         "type": "integer"
        }
       ],
       "ref": "2dd56e38-c409-4fcc-a036-0fe14feda160",
       "rows": [
        [
         "Williamsburg",
         "3920"
        ],
        [
         "Bedford-Stuyvesant",
         "3714"
        ],
        [
         "Harlem",
         "2658"
        ],
        [
         "Bushwick",
         "2465"
        ],
        [
         "Upper West Side",
         "1971"
        ],
        [
         "Hell's Kitchen",
         "1958"
        ],
        [
         "East Village",
         "1853"
        ],
        [
         "Upper East Side",
         "1798"
        ],
        [
         "Crown Heights",
         "1564"
        ],
        [
         "Midtown",
         "1545"
        ],
        [
         "East Harlem",
         "1117"
        ],
        [
         "Greenpoint",
         "1115"
        ],
        [
         "Chelsea",
         "1113"
        ],
        [
         "Lower East Side",
         "911"
        ],
        [
         "Astoria",
         "900"
        ],
        [
         "Washington Heights",
         "899"
        ],
        [
         "West Village",
         "768"
        ],
        [
         "Financial District",
         "744"
        ],
        [
         "Flatbush",
         "621"
        ],
        [
         "Clinton Hill",
         "572"
        ],
        [
         "Long Island City",
         "537"
        ],
        [
         "Prospect-Lefferts Gardens",
         "535"
        ],
        [
         "Park Slope",
         "506"
        ],
        [
         "East Flatbush",
         "500"
        ],
        [
         "Fort Greene",
         "489"
        ],
        [
         "Murray Hill",
         "485"
        ],
        [
         "Kips Bay",
         "470"
        ],
        [
         "Flushing",
         "426"
        ],
        [
         "Ridgewood",
         "423"
        ],
        [
         "Greenwich Village",
         "392"
        ],
        [
         "Sunset Park",
         "390"
        ],
        [
         "Chinatown",
         "368"
        ],
        [
         "Sunnyside",
         "363"
        ],
        [
         "SoHo",
         "358"
        ],
        [
         "Prospect Heights",
         "357"
        ],
        [
         "Morningside Heights",
         "346"
        ],
        [
         "Gramercy",
         "338"
        ],
        [
         "Ditmars Steinway",
         "309"
        ],
        [
         "Theater District",
         "288"
        ],
        [
         "South Slope",
         "284"
        ],
        [
         "Nolita",
         "253"
        ],
        [
         "Inwood",
         "252"
        ],
        [
         "Gowanus",
         "247"
        ],
        [
         "Elmhurst",
         "237"
        ],
        [
         "Woodside",
         "235"
        ],
        [
         "Carroll Gardens",
         "233"
        ],
        [
         "Jamaica",
         "231"
        ],
        [
         "East New York",
         "218"
        ],
        [
         "Jackson Heights",
         "186"
        ],
        [
         "East Elmhurst",
         "185"
        ]
       ],
       "shape": {
        "columns": 1,
        "rows": 221
       }
      },
      "text/plain": [
       "neighbourhood\n",
       "Williamsburg          3920\n",
       "Bedford-Stuyvesant    3714\n",
       "Harlem                2658\n",
       "Bushwick              2465\n",
       "Upper West Side       1971\n",
       "                      ... \n",
       "Richmondtown             1\n",
       "Fort Wadsworth           1\n",
       "New Dorp                 1\n",
       "Rossville                1\n",
       "Willowbrook              1\n",
       "Name: count, Length: 221, dtype: int64"
      ]
     },
     "execution_count": 38,
     "metadata": {},
     "output_type": "execute_result"
    }
   ],
   "source": [
    "df['neighbourhood'].value_counts()"
   ]
  },
  {
   "cell_type": "markdown",
   "id": "6f4b35b4",
   "metadata": {},
   "source": [
    "## Limpieza de datos"
   ]
  },
  {
   "cell_type": "markdown",
   "id": "fa89ea86",
   "metadata": {},
   "source": [
    "### Eliminar duplicados:"
   ]
  },
  {
   "cell_type": "code",
   "execution_count": 41,
   "id": "6f52a9ac",
   "metadata": {},
   "outputs": [
    {
     "data": {
      "application/vnd.microsoft.datawrangler.viewer.v0+json": {
       "columns": [
        {
         "name": "index",
         "rawType": "int64",
         "type": "integer"
        },
        {
         "name": "0",
         "rawType": "bool",
         "type": "boolean"
        }
       ],
       "ref": "23edd99d-a64e-4d04-99a8-86fafccb3547",
       "rows": [
        [
         "0",
         "False"
        ],
        [
         "1",
         "False"
        ],
        [
         "2",
         "False"
        ],
        [
         "3",
         "False"
        ],
        [
         "4",
         "False"
        ],
        [
         "5",
         "False"
        ],
        [
         "6",
         "False"
        ],
        [
         "7",
         "False"
        ],
        [
         "8",
         "False"
        ],
        [
         "9",
         "False"
        ],
        [
         "10",
         "False"
        ],
        [
         "11",
         "False"
        ],
        [
         "12",
         "False"
        ],
        [
         "13",
         "False"
        ],
        [
         "14",
         "False"
        ],
        [
         "15",
         "False"
        ],
        [
         "16",
         "False"
        ],
        [
         "17",
         "False"
        ],
        [
         "18",
         "False"
        ],
        [
         "19",
         "False"
        ],
        [
         "20",
         "False"
        ],
        [
         "21",
         "False"
        ],
        [
         "22",
         "False"
        ],
        [
         "23",
         "False"
        ],
        [
         "24",
         "False"
        ],
        [
         "25",
         "False"
        ],
        [
         "26",
         "False"
        ],
        [
         "27",
         "False"
        ],
        [
         "28",
         "False"
        ],
        [
         "29",
         "False"
        ],
        [
         "30",
         "False"
        ],
        [
         "31",
         "False"
        ],
        [
         "32",
         "False"
        ],
        [
         "33",
         "False"
        ],
        [
         "34",
         "False"
        ],
        [
         "35",
         "False"
        ],
        [
         "36",
         "False"
        ],
        [
         "37",
         "False"
        ],
        [
         "38",
         "False"
        ],
        [
         "39",
         "False"
        ],
        [
         "40",
         "False"
        ],
        [
         "41",
         "False"
        ],
        [
         "42",
         "False"
        ],
        [
         "43",
         "False"
        ],
        [
         "44",
         "False"
        ],
        [
         "45",
         "False"
        ],
        [
         "46",
         "False"
        ],
        [
         "47",
         "False"
        ],
        [
         "48",
         "False"
        ],
        [
         "49",
         "False"
        ]
       ],
       "shape": {
        "columns": 1,
        "rows": 48895
       }
      },
      "text/plain": [
       "0        False\n",
       "1        False\n",
       "2        False\n",
       "3        False\n",
       "4        False\n",
       "         ...  \n",
       "48890    False\n",
       "48891    False\n",
       "48892    False\n",
       "48893    False\n",
       "48894    False\n",
       "Length: 48895, dtype: bool"
      ]
     },
     "execution_count": 41,
     "metadata": {},
     "output_type": "execute_result"
    }
   ],
   "source": [
    "df.duplicated()"
   ]
  },
  {
   "cell_type": "code",
   "execution_count": 43,
   "id": "7df3f178",
   "metadata": {},
   "outputs": [
    {
     "data": {
      "text/plain": [
       "(np.int64(0), np.int64(0))"
      ]
     },
     "execution_count": 43,
     "metadata": {},
     "output_type": "execute_result"
    }
   ],
   "source": [
    "df.drop('host_id', axis=1).duplicated().sum(), df.drop('host_name', axis=1).duplicated().sum()"
   ]
  },
  {
   "cell_type": "markdown",
   "id": "891de499",
   "metadata": {},
   "source": [
    "### Nos aseguramos que no existen duplicados en todo el dataset"
   ]
  },
  {
   "cell_type": "code",
   "execution_count": 48,
   "id": "c1a82097",
   "metadata": {},
   "outputs": [
    {
     "name": "stdout",
     "output_type": "stream",
     "text": [
      "(48895, 16)\n"
     ]
    },
    {
     "data": {
      "application/vnd.microsoft.datawrangler.viewer.v0+json": {
       "columns": [
        {
         "name": "index",
         "rawType": "int64",
         "type": "integer"
        },
        {
         "name": "id",
         "rawType": "int64",
         "type": "integer"
        },
        {
         "name": "name",
         "rawType": "object",
         "type": "string"
        },
        {
         "name": "host_id",
         "rawType": "int64",
         "type": "integer"
        },
        {
         "name": "host_name",
         "rawType": "object",
         "type": "string"
        },
        {
         "name": "neighbourhood_group",
         "rawType": "object",
         "type": "string"
        },
        {
         "name": "neighbourhood",
         "rawType": "object",
         "type": "string"
        },
        {
         "name": "latitude",
         "rawType": "float64",
         "type": "float"
        },
        {
         "name": "longitude",
         "rawType": "float64",
         "type": "float"
        },
        {
         "name": "room_type",
         "rawType": "object",
         "type": "string"
        },
        {
         "name": "price",
         "rawType": "int64",
         "type": "integer"
        },
        {
         "name": "minimum_nights",
         "rawType": "int64",
         "type": "integer"
        },
        {
         "name": "number_of_reviews",
         "rawType": "int64",
         "type": "integer"
        },
        {
         "name": "last_review",
         "rawType": "object",
         "type": "unknown"
        },
        {
         "name": "reviews_per_month",
         "rawType": "float64",
         "type": "float"
        },
        {
         "name": "calculated_host_listings_count",
         "rawType": "int64",
         "type": "integer"
        },
        {
         "name": "availability_365",
         "rawType": "int64",
         "type": "integer"
        }
       ],
       "ref": "561e37df-32e1-4346-9610-90bc1cfd9305",
       "rows": [
        [
         "0",
         "2539",
         "Clean & quiet apt home by the park",
         "2787",
         "John",
         "Brooklyn",
         "Kensington",
         "40.64749",
         "-73.97237",
         "Private room",
         "149",
         "1",
         "9",
         "2018-10-19",
         "0.21",
         "6",
         "365"
        ],
        [
         "1",
         "2595",
         "Skylit Midtown Castle",
         "2845",
         "Jennifer",
         "Manhattan",
         "Midtown",
         "40.75362",
         "-73.98377",
         "Entire home/apt",
         "225",
         "1",
         "45",
         "2019-05-21",
         "0.38",
         "2",
         "355"
        ],
        [
         "2",
         "3647",
         "THE VILLAGE OF HARLEM....NEW YORK !",
         "4632",
         "Elisabeth",
         "Manhattan",
         "Harlem",
         "40.80902",
         "-73.9419",
         "Private room",
         "150",
         "3",
         "0",
         null,
         null,
         "1",
         "365"
        ],
        [
         "3",
         "3831",
         "Cozy Entire Floor of Brownstone",
         "4869",
         "LisaRoxanne",
         "Brooklyn",
         "Clinton Hill",
         "40.68514",
         "-73.95976",
         "Entire home/apt",
         "89",
         "1",
         "270",
         "2019-07-05",
         "4.64",
         "1",
         "194"
        ],
        [
         "4",
         "5022",
         "Entire Apt: Spacious Studio/Loft by central park",
         "7192",
         "Laura",
         "Manhattan",
         "East Harlem",
         "40.79851",
         "-73.94399",
         "Entire home/apt",
         "80",
         "10",
         "9",
         "2018-11-19",
         "0.1",
         "1",
         "0"
        ]
       ],
       "shape": {
        "columns": 16,
        "rows": 5
       }
      },
      "text/html": [
       "<div>\n",
       "<style scoped>\n",
       "    .dataframe tbody tr th:only-of-type {\n",
       "        vertical-align: middle;\n",
       "    }\n",
       "\n",
       "    .dataframe tbody tr th {\n",
       "        vertical-align: top;\n",
       "    }\n",
       "\n",
       "    .dataframe thead th {\n",
       "        text-align: right;\n",
       "    }\n",
       "</style>\n",
       "<table border=\"1\" class=\"dataframe\">\n",
       "  <thead>\n",
       "    <tr style=\"text-align: right;\">\n",
       "      <th></th>\n",
       "      <th>id</th>\n",
       "      <th>name</th>\n",
       "      <th>host_id</th>\n",
       "      <th>host_name</th>\n",
       "      <th>neighbourhood_group</th>\n",
       "      <th>neighbourhood</th>\n",
       "      <th>latitude</th>\n",
       "      <th>longitude</th>\n",
       "      <th>room_type</th>\n",
       "      <th>price</th>\n",
       "      <th>minimum_nights</th>\n",
       "      <th>number_of_reviews</th>\n",
       "      <th>last_review</th>\n",
       "      <th>reviews_per_month</th>\n",
       "      <th>calculated_host_listings_count</th>\n",
       "      <th>availability_365</th>\n",
       "    </tr>\n",
       "  </thead>\n",
       "  <tbody>\n",
       "    <tr>\n",
       "      <th>0</th>\n",
       "      <td>2539</td>\n",
       "      <td>Clean &amp; quiet apt home by the park</td>\n",
       "      <td>2787</td>\n",
       "      <td>John</td>\n",
       "      <td>Brooklyn</td>\n",
       "      <td>Kensington</td>\n",
       "      <td>40.64749</td>\n",
       "      <td>-73.97237</td>\n",
       "      <td>Private room</td>\n",
       "      <td>149</td>\n",
       "      <td>1</td>\n",
       "      <td>9</td>\n",
       "      <td>2018-10-19</td>\n",
       "      <td>0.21</td>\n",
       "      <td>6</td>\n",
       "      <td>365</td>\n",
       "    </tr>\n",
       "    <tr>\n",
       "      <th>1</th>\n",
       "      <td>2595</td>\n",
       "      <td>Skylit Midtown Castle</td>\n",
       "      <td>2845</td>\n",
       "      <td>Jennifer</td>\n",
       "      <td>Manhattan</td>\n",
       "      <td>Midtown</td>\n",
       "      <td>40.75362</td>\n",
       "      <td>-73.98377</td>\n",
       "      <td>Entire home/apt</td>\n",
       "      <td>225</td>\n",
       "      <td>1</td>\n",
       "      <td>45</td>\n",
       "      <td>2019-05-21</td>\n",
       "      <td>0.38</td>\n",
       "      <td>2</td>\n",
       "      <td>355</td>\n",
       "    </tr>\n",
       "    <tr>\n",
       "      <th>2</th>\n",
       "      <td>3647</td>\n",
       "      <td>THE VILLAGE OF HARLEM....NEW YORK !</td>\n",
       "      <td>4632</td>\n",
       "      <td>Elisabeth</td>\n",
       "      <td>Manhattan</td>\n",
       "      <td>Harlem</td>\n",
       "      <td>40.80902</td>\n",
       "      <td>-73.94190</td>\n",
       "      <td>Private room</td>\n",
       "      <td>150</td>\n",
       "      <td>3</td>\n",
       "      <td>0</td>\n",
       "      <td>NaN</td>\n",
       "      <td>NaN</td>\n",
       "      <td>1</td>\n",
       "      <td>365</td>\n",
       "    </tr>\n",
       "    <tr>\n",
       "      <th>3</th>\n",
       "      <td>3831</td>\n",
       "      <td>Cozy Entire Floor of Brownstone</td>\n",
       "      <td>4869</td>\n",
       "      <td>LisaRoxanne</td>\n",
       "      <td>Brooklyn</td>\n",
       "      <td>Clinton Hill</td>\n",
       "      <td>40.68514</td>\n",
       "      <td>-73.95976</td>\n",
       "      <td>Entire home/apt</td>\n",
       "      <td>89</td>\n",
       "      <td>1</td>\n",
       "      <td>270</td>\n",
       "      <td>2019-07-05</td>\n",
       "      <td>4.64</td>\n",
       "      <td>1</td>\n",
       "      <td>194</td>\n",
       "    </tr>\n",
       "    <tr>\n",
       "      <th>4</th>\n",
       "      <td>5022</td>\n",
       "      <td>Entire Apt: Spacious Studio/Loft by central park</td>\n",
       "      <td>7192</td>\n",
       "      <td>Laura</td>\n",
       "      <td>Manhattan</td>\n",
       "      <td>East Harlem</td>\n",
       "      <td>40.79851</td>\n",
       "      <td>-73.94399</td>\n",
       "      <td>Entire home/apt</td>\n",
       "      <td>80</td>\n",
       "      <td>10</td>\n",
       "      <td>9</td>\n",
       "      <td>2018-11-19</td>\n",
       "      <td>0.10</td>\n",
       "      <td>1</td>\n",
       "      <td>0</td>\n",
       "    </tr>\n",
       "  </tbody>\n",
       "</table>\n",
       "</div>"
      ],
      "text/plain": [
       "     id                                              name  host_id  \\\n",
       "0  2539                Clean & quiet apt home by the park     2787   \n",
       "1  2595                             Skylit Midtown Castle     2845   \n",
       "2  3647               THE VILLAGE OF HARLEM....NEW YORK !     4632   \n",
       "3  3831                   Cozy Entire Floor of Brownstone     4869   \n",
       "4  5022  Entire Apt: Spacious Studio/Loft by central park     7192   \n",
       "\n",
       "     host_name neighbourhood_group neighbourhood  latitude  longitude  \\\n",
       "0         John            Brooklyn    Kensington  40.64749  -73.97237   \n",
       "1     Jennifer           Manhattan       Midtown  40.75362  -73.98377   \n",
       "2    Elisabeth           Manhattan        Harlem  40.80902  -73.94190   \n",
       "3  LisaRoxanne            Brooklyn  Clinton Hill  40.68514  -73.95976   \n",
       "4        Laura           Manhattan   East Harlem  40.79851  -73.94399   \n",
       "\n",
       "         room_type  price  minimum_nights  number_of_reviews last_review  \\\n",
       "0     Private room    149               1                  9  2018-10-19   \n",
       "1  Entire home/apt    225               1                 45  2019-05-21   \n",
       "2     Private room    150               3                  0         NaN   \n",
       "3  Entire home/apt     89               1                270  2019-07-05   \n",
       "4  Entire home/apt     80              10                  9  2018-11-19   \n",
       "\n",
       "   reviews_per_month  calculated_host_listings_count  availability_365  \n",
       "0               0.21                               6               365  \n",
       "1               0.38                               2               355  \n",
       "2                NaN                               1               365  \n",
       "3               4.64                               1               194  \n",
       "4               0.10                               1                 0  "
      ]
     },
     "execution_count": 48,
     "metadata": {},
     "output_type": "execute_result"
    }
   ],
   "source": [
    "if df.duplicated().sum():\n",
    "    df = df.drop_duplicates()\n",
    "print(df.shape)\n",
    "df.head()"
   ]
  },
  {
   "cell_type": "markdown",
   "id": "51aa8cc1",
   "metadata": {},
   "source": [
    "### No hay filas duplicadas"
   ]
  },
  {
   "cell_type": "markdown",
   "id": "2f5826da",
   "metadata": {},
   "source": [
    "### Valores nulos o faltantes:"
   ]
  },
  {
   "cell_type": "code",
   "execution_count": 10,
   "id": "63f1c4f4",
   "metadata": {},
   "outputs": [
    {
     "data": {
      "application/vnd.microsoft.datawrangler.viewer.v0+json": {
       "columns": [
        {
         "name": "index",
         "rawType": "object",
         "type": "string"
        },
        {
         "name": "0",
         "rawType": "float64",
         "type": "float"
        }
       ],
       "ref": "89723e3d-2beb-4e59-a4b1-3e77c1acd8c3",
       "rows": [
        [
         "last_review",
         "0.20558339298496778"
        ],
        [
         "reviews_per_month",
         "0.20558339298496778"
        ],
        [
         "host_name",
         "0.00042949176807444524"
        ],
        [
         "name",
         "0.00032723182329481544"
        ],
        [
         "neighbourhood_group",
         "0.0"
        ],
        [
         "neighbourhood",
         "0.0"
        ],
        [
         "id",
         "0.0"
        ],
        [
         "host_id",
         "0.0"
        ],
        [
         "longitude",
         "0.0"
        ],
        [
         "latitude",
         "0.0"
        ],
        [
         "room_type",
         "0.0"
        ],
        [
         "price",
         "0.0"
        ],
        [
         "number_of_reviews",
         "0.0"
        ],
        [
         "minimum_nights",
         "0.0"
        ],
        [
         "calculated_host_listings_count",
         "0.0"
        ],
        [
         "availability_365",
         "0.0"
        ]
       ],
       "shape": {
        "columns": 1,
        "rows": 16
       }
      },
      "text/plain": [
       "last_review                       0.205583\n",
       "reviews_per_month                 0.205583\n",
       "host_name                         0.000429\n",
       "name                              0.000327\n",
       "neighbourhood_group               0.000000\n",
       "neighbourhood                     0.000000\n",
       "id                                0.000000\n",
       "host_id                           0.000000\n",
       "longitude                         0.000000\n",
       "latitude                          0.000000\n",
       "room_type                         0.000000\n",
       "price                             0.000000\n",
       "number_of_reviews                 0.000000\n",
       "minimum_nights                    0.000000\n",
       "calculated_host_listings_count    0.000000\n",
       "availability_365                  0.000000\n",
       "dtype: float64"
      ]
     },
     "execution_count": 10,
     "metadata": {},
     "output_type": "execute_result"
    }
   ],
   "source": [
    "df.isnull().sum().sort_values(ascending=False) / len(df)"
   ]
  },
  {
   "cell_type": "markdown",
   "id": "cea44bbd",
   "metadata": {},
   "source": [
    "### Existe un porcentaje considerable de valores nulos en 'last_review'  y 'reviews_per_month'"
   ]
  },
  {
   "cell_type": "markdown",
   "id": "daf0d267",
   "metadata": {},
   "source": [
    "### Limpieza de datos: Eliminar información irrelevante\n",
    "    \n",
    "Decido eliminar variables redundantes y que no aportan información destacada, en este caso: 'id','host_id', 'name', 'host_name', 'last_review', 'reviews_per_month', 'neighbourhood'"
   ]
  },
  {
   "cell_type": "code",
   "execution_count": 49,
   "id": "63792d51",
   "metadata": {},
   "outputs": [
    {
     "data": {
      "application/vnd.microsoft.datawrangler.viewer.v0+json": {
       "columns": [
        {
         "name": "index",
         "rawType": "int64",
         "type": "integer"
        },
        {
         "name": "neighbourhood_group",
         "rawType": "object",
         "type": "string"
        },
        {
         "name": "latitude",
         "rawType": "float64",
         "type": "float"
        },
        {
         "name": "longitude",
         "rawType": "float64",
         "type": "float"
        },
        {
         "name": "room_type",
         "rawType": "object",
         "type": "string"
        },
        {
         "name": "price",
         "rawType": "int64",
         "type": "integer"
        },
        {
         "name": "minimum_nights",
         "rawType": "int64",
         "type": "integer"
        },
        {
         "name": "number_of_reviews",
         "rawType": "int64",
         "type": "integer"
        },
        {
         "name": "calculated_host_listings_count",
         "rawType": "int64",
         "type": "integer"
        },
        {
         "name": "availability_365",
         "rawType": "int64",
         "type": "integer"
        }
       ],
       "ref": "e246822c-40da-42ba-9e81-af03a94298c3",
       "rows": [
        [
         "0",
         "Brooklyn",
         "40.64749",
         "-73.97237",
         "Private room",
         "149",
         "1",
         "9",
         "6",
         "365"
        ],
        [
         "1",
         "Manhattan",
         "40.75362",
         "-73.98377",
         "Entire home/apt",
         "225",
         "1",
         "45",
         "2",
         "355"
        ],
        [
         "2",
         "Manhattan",
         "40.80902",
         "-73.9419",
         "Private room",
         "150",
         "3",
         "0",
         "1",
         "365"
        ],
        [
         "3",
         "Brooklyn",
         "40.68514",
         "-73.95976",
         "Entire home/apt",
         "89",
         "1",
         "270",
         "1",
         "194"
        ],
        [
         "4",
         "Manhattan",
         "40.79851",
         "-73.94399",
         "Entire home/apt",
         "80",
         "10",
         "9",
         "1",
         "0"
        ]
       ],
       "shape": {
        "columns": 9,
        "rows": 5
       }
      },
      "text/html": [
       "<div>\n",
       "<style scoped>\n",
       "    .dataframe tbody tr th:only-of-type {\n",
       "        vertical-align: middle;\n",
       "    }\n",
       "\n",
       "    .dataframe tbody tr th {\n",
       "        vertical-align: top;\n",
       "    }\n",
       "\n",
       "    .dataframe thead th {\n",
       "        text-align: right;\n",
       "    }\n",
       "</style>\n",
       "<table border=\"1\" class=\"dataframe\">\n",
       "  <thead>\n",
       "    <tr style=\"text-align: right;\">\n",
       "      <th></th>\n",
       "      <th>neighbourhood_group</th>\n",
       "      <th>latitude</th>\n",
       "      <th>longitude</th>\n",
       "      <th>room_type</th>\n",
       "      <th>price</th>\n",
       "      <th>minimum_nights</th>\n",
       "      <th>number_of_reviews</th>\n",
       "      <th>calculated_host_listings_count</th>\n",
       "      <th>availability_365</th>\n",
       "    </tr>\n",
       "  </thead>\n",
       "  <tbody>\n",
       "    <tr>\n",
       "      <th>0</th>\n",
       "      <td>Brooklyn</td>\n",
       "      <td>40.64749</td>\n",
       "      <td>-73.97237</td>\n",
       "      <td>Private room</td>\n",
       "      <td>149</td>\n",
       "      <td>1</td>\n",
       "      <td>9</td>\n",
       "      <td>6</td>\n",
       "      <td>365</td>\n",
       "    </tr>\n",
       "    <tr>\n",
       "      <th>1</th>\n",
       "      <td>Manhattan</td>\n",
       "      <td>40.75362</td>\n",
       "      <td>-73.98377</td>\n",
       "      <td>Entire home/apt</td>\n",
       "      <td>225</td>\n",
       "      <td>1</td>\n",
       "      <td>45</td>\n",
       "      <td>2</td>\n",
       "      <td>355</td>\n",
       "    </tr>\n",
       "    <tr>\n",
       "      <th>2</th>\n",
       "      <td>Manhattan</td>\n",
       "      <td>40.80902</td>\n",
       "      <td>-73.94190</td>\n",
       "      <td>Private room</td>\n",
       "      <td>150</td>\n",
       "      <td>3</td>\n",
       "      <td>0</td>\n",
       "      <td>1</td>\n",
       "      <td>365</td>\n",
       "    </tr>\n",
       "    <tr>\n",
       "      <th>3</th>\n",
       "      <td>Brooklyn</td>\n",
       "      <td>40.68514</td>\n",
       "      <td>-73.95976</td>\n",
       "      <td>Entire home/apt</td>\n",
       "      <td>89</td>\n",
       "      <td>1</td>\n",
       "      <td>270</td>\n",
       "      <td>1</td>\n",
       "      <td>194</td>\n",
       "    </tr>\n",
       "    <tr>\n",
       "      <th>4</th>\n",
       "      <td>Manhattan</td>\n",
       "      <td>40.79851</td>\n",
       "      <td>-73.94399</td>\n",
       "      <td>Entire home/apt</td>\n",
       "      <td>80</td>\n",
       "      <td>10</td>\n",
       "      <td>9</td>\n",
       "      <td>1</td>\n",
       "      <td>0</td>\n",
       "    </tr>\n",
       "  </tbody>\n",
       "</table>\n",
       "</div>"
      ],
      "text/plain": [
       "  neighbourhood_group  latitude  longitude        room_type  price  \\\n",
       "0            Brooklyn  40.64749  -73.97237     Private room    149   \n",
       "1           Manhattan  40.75362  -73.98377  Entire home/apt    225   \n",
       "2           Manhattan  40.80902  -73.94190     Private room    150   \n",
       "3            Brooklyn  40.68514  -73.95976  Entire home/apt     89   \n",
       "4           Manhattan  40.79851  -73.94399  Entire home/apt     80   \n",
       "\n",
       "   minimum_nights  number_of_reviews  calculated_host_listings_count  \\\n",
       "0               1                  9                               6   \n",
       "1               1                 45                               2   \n",
       "2               3                  0                               1   \n",
       "3               1                270                               1   \n",
       "4              10                  9                               1   \n",
       "\n",
       "   availability_365  \n",
       "0               365  \n",
       "1               355  \n",
       "2               365  \n",
       "3               194  \n",
       "4                 0  "
      ]
     },
     "execution_count": 49,
     "metadata": {},
     "output_type": "execute_result"
    }
   ],
   "source": [
    "df.drop(['id','host_id', 'name', 'host_name', 'last_review', 'reviews_per_month', 'neighbourhood' ], axis = 1, inplace = True)\n",
    "df.head()"
   ]
  },
  {
   "cell_type": "code",
   "execution_count": 12,
   "id": "eb12e2e4",
   "metadata": {},
   "outputs": [
    {
     "data": {
      "application/vnd.microsoft.datawrangler.viewer.v0+json": {
       "columns": [
        {
         "name": "index",
         "rawType": "object",
         "type": "string"
        },
        {
         "name": "0",
         "rawType": "float64",
         "type": "float"
        }
       ],
       "ref": "aea383b0-002d-4ac9-9742-ab1eb6630a42",
       "rows": [
        [
         "host_name",
         "0.00042949176807444524"
        ],
        [
         "host_id",
         "0.0"
        ],
        [
         "neighbourhood",
         "0.0"
        ],
        [
         "latitude",
         "0.0"
        ],
        [
         "longitude",
         "0.0"
        ],
        [
         "room_type",
         "0.0"
        ],
        [
         "price",
         "0.0"
        ],
        [
         "minimum_nights",
         "0.0"
        ],
        [
         "number_of_reviews",
         "0.0"
        ],
        [
         "calculated_host_listings_count",
         "0.0"
        ],
        [
         "availability_365",
         "0.0"
        ]
       ],
       "shape": {
        "columns": 1,
        "rows": 11
       }
      },
      "text/plain": [
       "host_name                         0.000429\n",
       "host_id                           0.000000\n",
       "neighbourhood                     0.000000\n",
       "latitude                          0.000000\n",
       "longitude                         0.000000\n",
       "room_type                         0.000000\n",
       "price                             0.000000\n",
       "minimum_nights                    0.000000\n",
       "number_of_reviews                 0.000000\n",
       "calculated_host_listings_count    0.000000\n",
       "availability_365                  0.000000\n",
       "dtype: float64"
      ]
     },
     "execution_count": 12,
     "metadata": {},
     "output_type": "execute_result"
    }
   ],
   "source": [
    "df.isnull().sum().sort_values(ascending=False) / len(df)"
   ]
  },
  {
   "cell_type": "code",
   "execution_count": 13,
   "id": "6eb32a27",
   "metadata": {},
   "outputs": [
    {
     "data": {
      "application/vnd.microsoft.datawrangler.viewer.v0+json": {
       "columns": [
        {
         "name": "index",
         "rawType": "object",
         "type": "string"
        },
        {
         "name": "count",
         "rawType": "float64",
         "type": "float"
        },
        {
         "name": "mean",
         "rawType": "float64",
         "type": "float"
        },
        {
         "name": "std",
         "rawType": "float64",
         "type": "float"
        },
        {
         "name": "min",
         "rawType": "float64",
         "type": "float"
        },
        {
         "name": "25%",
         "rawType": "float64",
         "type": "float"
        },
        {
         "name": "50%",
         "rawType": "float64",
         "type": "float"
        },
        {
         "name": "75%",
         "rawType": "float64",
         "type": "float"
        },
        {
         "name": "max",
         "rawType": "float64",
         "type": "float"
        }
       ],
       "ref": "26c8dc58-0f5f-42b9-91b0-6e9273cd27c9",
       "rows": [
        [
         "host_id",
         "48895.0",
         "67620010.64661008",
         "78610967.03266661",
         "2438.0",
         "7822033.0",
         "30793816.0",
         "107434423.0",
         "274321313.0"
        ],
        [
         "latitude",
         "48895.0",
         "40.72894888066264",
         "0.054530078057371915",
         "40.49979",
         "40.6901",
         "40.72307",
         "40.763115",
         "40.91306"
        ],
        [
         "longitude",
         "48895.0",
         "-73.95216961468452",
         "0.04615673610637153",
         "-74.24442",
         "-73.98307",
         "-73.95568",
         "-73.936275",
         "-73.71299"
        ],
        [
         "price",
         "48895.0",
         "152.7206871868289",
         "240.15416974718758",
         "0.0",
         "69.0",
         "106.0",
         "175.0",
         "10000.0"
        ],
        [
         "minimum_nights",
         "48895.0",
         "7.029962163820431",
         "20.51054953317987",
         "1.0",
         "1.0",
         "3.0",
         "5.0",
         "1250.0"
        ],
        [
         "number_of_reviews",
         "48895.0",
         "23.274465691788528",
         "44.55058226668393",
         "0.0",
         "1.0",
         "5.0",
         "24.0",
         "629.0"
        ],
        [
         "calculated_host_listings_count",
         "48895.0",
         "7.143982002249719",
         "32.95251884941993",
         "1.0",
         "1.0",
         "1.0",
         "2.0",
         "327.0"
        ],
        [
         "availability_365",
         "48895.0",
         "112.78132733408324",
         "131.62228885171479",
         "0.0",
         "0.0",
         "45.0",
         "227.0",
         "365.0"
        ]
       ],
       "shape": {
        "columns": 8,
        "rows": 8
       }
      },
      "text/html": [
       "<div>\n",
       "<style scoped>\n",
       "    .dataframe tbody tr th:only-of-type {\n",
       "        vertical-align: middle;\n",
       "    }\n",
       "\n",
       "    .dataframe tbody tr th {\n",
       "        vertical-align: top;\n",
       "    }\n",
       "\n",
       "    .dataframe thead th {\n",
       "        text-align: right;\n",
       "    }\n",
       "</style>\n",
       "<table border=\"1\" class=\"dataframe\">\n",
       "  <thead>\n",
       "    <tr style=\"text-align: right;\">\n",
       "      <th></th>\n",
       "      <th>count</th>\n",
       "      <th>mean</th>\n",
       "      <th>std</th>\n",
       "      <th>min</th>\n",
       "      <th>25%</th>\n",
       "      <th>50%</th>\n",
       "      <th>75%</th>\n",
       "      <th>max</th>\n",
       "    </tr>\n",
       "  </thead>\n",
       "  <tbody>\n",
       "    <tr>\n",
       "      <th>host_id</th>\n",
       "      <td>48895.0</td>\n",
       "      <td>6.762001e+07</td>\n",
       "      <td>7.861097e+07</td>\n",
       "      <td>2438.00000</td>\n",
       "      <td>7.822033e+06</td>\n",
       "      <td>3.079382e+07</td>\n",
       "      <td>1.074344e+08</td>\n",
       "      <td>2.743213e+08</td>\n",
       "    </tr>\n",
       "    <tr>\n",
       "      <th>latitude</th>\n",
       "      <td>48895.0</td>\n",
       "      <td>4.072895e+01</td>\n",
       "      <td>5.453008e-02</td>\n",
       "      <td>40.49979</td>\n",
       "      <td>4.069010e+01</td>\n",
       "      <td>4.072307e+01</td>\n",
       "      <td>4.076311e+01</td>\n",
       "      <td>4.091306e+01</td>\n",
       "    </tr>\n",
       "    <tr>\n",
       "      <th>longitude</th>\n",
       "      <td>48895.0</td>\n",
       "      <td>-7.395217e+01</td>\n",
       "      <td>4.615674e-02</td>\n",
       "      <td>-74.24442</td>\n",
       "      <td>-7.398307e+01</td>\n",
       "      <td>-7.395568e+01</td>\n",
       "      <td>-7.393627e+01</td>\n",
       "      <td>-7.371299e+01</td>\n",
       "    </tr>\n",
       "    <tr>\n",
       "      <th>price</th>\n",
       "      <td>48895.0</td>\n",
       "      <td>1.527207e+02</td>\n",
       "      <td>2.401542e+02</td>\n",
       "      <td>0.00000</td>\n",
       "      <td>6.900000e+01</td>\n",
       "      <td>1.060000e+02</td>\n",
       "      <td>1.750000e+02</td>\n",
       "      <td>1.000000e+04</td>\n",
       "    </tr>\n",
       "    <tr>\n",
       "      <th>minimum_nights</th>\n",
       "      <td>48895.0</td>\n",
       "      <td>7.029962e+00</td>\n",
       "      <td>2.051055e+01</td>\n",
       "      <td>1.00000</td>\n",
       "      <td>1.000000e+00</td>\n",
       "      <td>3.000000e+00</td>\n",
       "      <td>5.000000e+00</td>\n",
       "      <td>1.250000e+03</td>\n",
       "    </tr>\n",
       "    <tr>\n",
       "      <th>number_of_reviews</th>\n",
       "      <td>48895.0</td>\n",
       "      <td>2.327447e+01</td>\n",
       "      <td>4.455058e+01</td>\n",
       "      <td>0.00000</td>\n",
       "      <td>1.000000e+00</td>\n",
       "      <td>5.000000e+00</td>\n",
       "      <td>2.400000e+01</td>\n",
       "      <td>6.290000e+02</td>\n",
       "    </tr>\n",
       "    <tr>\n",
       "      <th>calculated_host_listings_count</th>\n",
       "      <td>48895.0</td>\n",
       "      <td>7.143982e+00</td>\n",
       "      <td>3.295252e+01</td>\n",
       "      <td>1.00000</td>\n",
       "      <td>1.000000e+00</td>\n",
       "      <td>1.000000e+00</td>\n",
       "      <td>2.000000e+00</td>\n",
       "      <td>3.270000e+02</td>\n",
       "    </tr>\n",
       "    <tr>\n",
       "      <th>availability_365</th>\n",
       "      <td>48895.0</td>\n",
       "      <td>1.127813e+02</td>\n",
       "      <td>1.316223e+02</td>\n",
       "      <td>0.00000</td>\n",
       "      <td>0.000000e+00</td>\n",
       "      <td>4.500000e+01</td>\n",
       "      <td>2.270000e+02</td>\n",
       "      <td>3.650000e+02</td>\n",
       "    </tr>\n",
       "  </tbody>\n",
       "</table>\n",
       "</div>"
      ],
      "text/plain": [
       "                                  count          mean           std  \\\n",
       "host_id                         48895.0  6.762001e+07  7.861097e+07   \n",
       "latitude                        48895.0  4.072895e+01  5.453008e-02   \n",
       "longitude                       48895.0 -7.395217e+01  4.615674e-02   \n",
       "price                           48895.0  1.527207e+02  2.401542e+02   \n",
       "minimum_nights                  48895.0  7.029962e+00  2.051055e+01   \n",
       "number_of_reviews               48895.0  2.327447e+01  4.455058e+01   \n",
       "calculated_host_listings_count  48895.0  7.143982e+00  3.295252e+01   \n",
       "availability_365                48895.0  1.127813e+02  1.316223e+02   \n",
       "\n",
       "                                       min           25%           50%  \\\n",
       "host_id                         2438.00000  7.822033e+06  3.079382e+07   \n",
       "latitude                          40.49979  4.069010e+01  4.072307e+01   \n",
       "longitude                        -74.24442 -7.398307e+01 -7.395568e+01   \n",
       "price                              0.00000  6.900000e+01  1.060000e+02   \n",
       "minimum_nights                     1.00000  1.000000e+00  3.000000e+00   \n",
       "number_of_reviews                  0.00000  1.000000e+00  5.000000e+00   \n",
       "calculated_host_listings_count     1.00000  1.000000e+00  1.000000e+00   \n",
       "availability_365                   0.00000  0.000000e+00  4.500000e+01   \n",
       "\n",
       "                                         75%           max  \n",
       "host_id                         1.074344e+08  2.743213e+08  \n",
       "latitude                        4.076311e+01  4.091306e+01  \n",
       "longitude                      -7.393627e+01 -7.371299e+01  \n",
       "price                           1.750000e+02  1.000000e+04  \n",
       "minimum_nights                  5.000000e+00  1.250000e+03  \n",
       "number_of_reviews               2.400000e+01  6.290000e+02  \n",
       "calculated_host_listings_count  2.000000e+00  3.270000e+02  \n",
       "availability_365                2.270000e+02  3.650000e+02  "
      ]
     },
     "execution_count": 13,
     "metadata": {},
     "output_type": "execute_result"
    }
   ],
   "source": [
    "df.describe().T"
   ]
  },
  {
   "cell_type": "markdown",
   "id": "dfadd793",
   "metadata": {},
   "source": [
    "## Análisis de variables:"
   ]
  },
  {
   "cell_type": "markdown",
   "id": "b56370cb",
   "metadata": {},
   "source": [
    "### Variables univariante: variables categóricas"
   ]
  },
  {
   "cell_type": "code",
   "execution_count": 57,
   "id": "1d1beba8",
   "metadata": {},
   "outputs": [
    {
     "data": {
      "image/png": "[encoded data removed]",
      "text/plain": [
       "<Figure size 1000x500 with 2 Axes>"
      ]
     },
     "metadata": {},
     "output_type": "display_data"
    }
   ],
   "source": [
    "fig, axis = plt.subplots(1, 2, figsize=(10, 5))\n",
    "sns.set_style(\"whitegrid\")\n",
    "sns.histplot(ax=axis[0], data=df, x=\"room_type\")\n",
    "sns.histplot(ax=axis[1], data=df, x=\"neighbourhood_group\")\n",
    "plt.tight_layout()\n",
    "plt.show()"
   ]
  },
  {
   "cell_type": "markdown",
   "id": "8faaf789",
   "metadata": {},
   "source": [
    "### Observamos que hay más viviendas de tipo 'Entire home' y que la mayoría se encuentran en Brooklyn y Manhattan"
   ]
  },
  {
   "cell_type": "markdown",
   "id": "58ee9031",
   "metadata": {},
   "source": [
    "### Variables univariante: variables númericas"
   ]
  },
  {
   "cell_type": "code",
   "execution_count": 62,
   "id": "19fb32dc",
   "metadata": {},
   "outputs": [
    {
     "data": {
      "image/png": "[encoded data removed]",
      "text/plain": [
       "<Figure size 1500x500 with 10 Axes>"
      ]
     },
     "metadata": {},
     "output_type": "display_data"
    }
   ],
   "source": [
    "fig, axis = plt.subplots(2, 5, figsize=(15, 5), gridspec_kw={'height_ratios': [5, 2]})\n",
    "sns.set_style(\"whitegrid\")\n",
    "sns.histplot(ax=axis[0, 0], data=df, x=\"price\").set(xlabel=None, ylabel=None)\n",
    "sns.boxplot(ax=axis[1, 0], data=df, x=\"price\")\n",
    "sns.histplot(ax=axis[0, 1], data=df, x=\"minimum_nights\").set(xlabel=None)\n",
    "sns.boxplot(ax=axis[1, 1], data=df, x=\"minimum_nights\")\n",
    "sns.histplot(ax=axis[0, 2], data=df, x=\"number_of_reviews\").set(xlabel=None, ylabel=None)\n",
    "sns.boxplot(ax=axis[1, 2], data=df, x=\"number_of_reviews\")\n",
    "sns.histplot(ax=axis[0, 3], data=df, x=\"calculated_host_listings_count\").set(xlabel=None)\n",
    "sns.boxplot(ax=axis[1, 3], data=df, x=\"calculated_host_listings_count\")\n",
    "sns.histplot(ax=axis[0, 4], data=df, x=\"availability_365\").set(xlabel=None, ylabel=None)\n",
    "sns.boxplot(ax=axis[1, 4], data=df, x=\"availability_365\")\n",
    "\n",
    "\n",
    "plt.tight_layout()\n",
    "plt.show()"
   ]
  },
  {
   "cell_type": "markdown",
   "id": "6d7e179b",
   "metadata": {},
   "source": [
    "> #### Observaciones:\n",
    ">\n",
    "> - La combinación de los dos gráficos nos permite conocer las distribuciones y sus características estadísticas.\n",
    "> - De la visualización resultante podemos tener claro las variables que cuentan con valores atípicos.\n",
    "> - Las distribuciones tienen asimetría, sesgada hacia la izquierda\n",
    "> - Sería interesante analizar la variable price, a considerar como target"
   ]
  },
  {
   "cell_type": "markdown",
   "id": "549cf56b",
   "metadata": {},
   "source": [
    "### Análisis de Variables Multivariante: procedemos a buscar todas las posibles relaciones que existen entre las variables"
   ]
  },
  {
   "cell_type": "markdown",
   "id": "9baad175",
   "metadata": {},
   "source": [
    "### Codificación de variables categóricas para el estudio de correlaciones, análisis númerico-categórico"
   ]
  },
  {
   "cell_type": "code",
   "execution_count": 85,
   "id": "786deadf",
   "metadata": {},
   "outputs": [],
   "source": [
    "df[\"room_type_n\"] = pd.factorize(df[\"room_type\"])[0]\n",
    "df[\"neighbourhood_group_n\"] = pd.factorize(df[\"neighbourhood_group\"])[0]"
   ]
  },
  {
   "cell_type": "code",
   "execution_count": null,
   "id": "bb1b795d",
   "metadata": {},
   "outputs": [
    {
     "data": {
      "image/png": "[encoded data removed]",
      "text/plain": [
       "<Figure size 1000x700 with 2 Axes>"
      ]
     },
     "metadata": {},
     "output_type": "display_data"
    }
   ],
   "source": [
    "corr = df[['latitude', 'longitude', 'price', 'minimum_nights', 'number_of_reviews', 'calculated_host_listings_count', 'availability_365', 'room_type_n', 'neighbourhood_group_n']].corr()\n",
    "mask = np.triu(np.ones_like(corr, dtype=bool))\n",
    "fig, axis = plt.subplots(figsize=(10, 7))\n",
    "sns.heatmap(corr, mask=mask, annot=True, fmt=\".2f\")\n",
    "plt.tight_layout()\n",
    "plt.show()"
   ]
  },
  {
   "cell_type": "markdown",
   "id": "67db9ac6",
   "metadata": {},
   "source": [
    "### Observaciones:\n",
    ">- El precio se relaciona directamente con el tipo de vivienda\n",
    ">- Existe una correlación indirecta entre la zona y el precio: hay relación entre el precio y las coordenadas geográficas que a su vez se relacionan con la zona (como era de esperar),\n",
    "   podemos deducir que la zona está relacionada con el precio\n",
    ">- El mínimo de noches se relacion con la cantidad de propietarios, puede ser objeto de estudio"
   ]
  },
  {
   "cell_type": "markdown",
   "id": "c9c3bceb",
   "metadata": {},
   "source": [
    "### Análisis de variables multivariante: númerico-númerico"
   ]
  },
  {
   "cell_type": "code",
   "execution_count": 83,
   "id": "a7e46d88",
   "metadata": {},
   "outputs": [
    {
     "data": {
      "image/png": "[encoded data removed]",
      "text/plain": [
       "<Figure size 1800x700 with 11 Axes>"
      ]
     },
     "metadata": {},
     "output_type": "display_data"
    }
   ],
   "source": [
    "corr_room_price = df[[\"price\", \"room_type_n\"]].corr()\n",
    "corr_longitude_price = df[[\"price\", \"longitude\"]].corr()\n",
    "corr_longitude_neighbourhood = df[[\"neighbourhood_group_n\", \"longitude\"]].corr()\n",
    "corr_availability_host = df[[\"availability_365\", \"calculated_host_listings_count\"]].corr()\n",
    "\n",
    "fig, axis = plt.subplots(2, 4, figsize=(18, 7))\n",
    "sns.set_style(\"whitegrid\")\n",
    "\n",
    "sns.regplot(ax=axis[0, 0], data=df, x=\"price\", y=\"room_type_n\", line_kws={'color': 'red'})\n",
    "sns.heatmap(ax=axis[1, 0], data=corr_room_price, annot=True, fmt=\".2f\", cbar=False)\n",
    "\n",
    "sns.regplot(ax=axis[0, 1], data=df, x=\"price\", y=\"longitude\", line_kws={'color': 'red'}).set(ylabel=None)\n",
    "sns.heatmap(ax=axis[1, 1], data=corr_longitude_price, annot=True, fmt=\".2f\")\n",
    "\n",
    "sns.regplot(ax=axis[0, 2], data=df, x=\"longitude\", y=\"neighbourhood_group_n\", line_kws={'color': 'red'}).set(ylabel=None)\n",
    "sns.heatmap(ax=axis[1, 2], data=corr_longitude_neighbourhood, annot=True, fmt=\".2f\")\n",
    "\n",
    "sns.regplot(ax=axis[0, 3], data=df, x=\"availability_365\", y=\"calculated_host_listings_count\", line_kws={'color': 'red'}).set(ylabel=None)\n",
    "sns.heatmap(ax=axis[1, 3], data=corr_availability_host, annot=True, fmt=\".2f\")\n",
    "\n",
    "plt.tight_layout()\n",
    "plt.show()"
   ]
  },
  {
   "cell_type": "markdown",
   "id": "74dd8406",
   "metadata": {},
   "source": [
    "### Observaciones:\n",
    "1. Hay mayor cantidad de viviendas tipo 1(entire home) y también son las que alcanzan un precio más elevado, seguidas por las tipo 0(shared room) y luego las tipo 2 (private room).\n",
    "2. Hay viviendas más caras en una franja de longitud, por debajo de los 1000$ se distribuyen por toda la ciudad.\n",
    "3. El último gráfico no aporta mucha información, esxisten 2 propietarios con un gran número de viviendas, seguramente inmobiliarias, con disponibilidad muy variada."
   ]
  },
  {
   "cell_type": "markdown",
   "id": "f5f80b48",
   "metadata": {},
   "source": [
    "### Análisis de variables multivariante: númerico-númerico"
   ]
  },
  {
   "cell_type": "code",
   "execution_count": 86,
   "id": "419df03a",
   "metadata": {},
   "outputs": [
    {
     "data": {
      "image/png": "[encoded data removed]",
      "text/plain": [
       "<Figure size 1200x500 with 2 Axes>"
      ]
     },
     "metadata": {},
     "output_type": "display_data"
    }
   ],
   "source": [
    "fig, axis = plt.subplots(1, 2, figsize=(12, 5))\n",
    "bins = [0, 50, 100, 150, 200, 300, 500, 1000, df[\"price\"].max()]\n",
    "labels = [\"0-50\", \"51-100\", \"101-150\", \"151-200\", \"201-300\", \"301-500\", \"501-1000\", \"1000+\"]\n",
    "df[\"price_range\"] = pd.cut(df[\"price\"], bins=bins, labels=labels, include_lowest=True)\n",
    "sns.set_style(\"whitegrid\")\n",
    "sns.countplot(ax=axis[0], data=df, x=\"price_range\", hue=\"room_type\")\n",
    "sns.countplot(ax=axis[1], data=df, x=\"price_range\", hue=\"neighbourhood_group\")\n",
    "plt.xlabel(\"Price Range\")\n",
    "plt.tight_layout()\n",
    "plt.show()"
   ]
  }
 ],
 "metadata": {
  "kernelspec": {
   "display_name": "Python 3",
   "language": "python",
   "name": "python3"
  },
  "language_info": {
   "codemirror_mode": {
    "name": "ipython",
    "version": 3
   },
   "file_extension": ".py",
   "mimetype": "text/x-python",
   "name": "python",
   "nbconvert_exporter": "python",
   "pygments_lexer": "ipython3",
   "version": "3.11.9"
  }
 },
 "nbformat": 4,
 "nbformat_minor": 5
}
