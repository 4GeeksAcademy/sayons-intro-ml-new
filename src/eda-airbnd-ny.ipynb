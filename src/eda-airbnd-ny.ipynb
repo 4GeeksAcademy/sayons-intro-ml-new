{
 "cells": [
  {
   "cell_type": "markdown",
   "id": "657988f4",
   "metadata": {},
   "source": [
    "# EDA "
   ]
  },
  {
   "cell_type": "code",
   "execution_count": 1,
   "id": "d7602b42",
   "metadata": {},
   "outputs": [],
   "source": [
    "import numpy as np\n",
    "import pandas as pd\n",
    "import matplotlib.pyplot as plt\n",
    "import seaborn as sns\n",
    "# split para modelado\n",
    "from sklearn.model_selection import train_test_split\n",
    "# Scaled | Escalado\n",
    "from sklearn.preprocessing import StandardScaler, MinMaxScaler\n",
    "# Encoding | Codificación\n",
    "from sklearn.preprocessing import LabelEncoder, OneHotEncoder, OrdinalEncoder\n",
    "# To save models\n",
    "import json\n",
    "import pickle\n"
   ]
  },
  {
   "cell_type": "markdown",
   "id": "5660b552",
   "metadata": {},
   "source": [
    "## Recopilación de datos"
   ]
  },
  {
   "cell_type": "code",
   "execution_count": 2,
   "id": "044a276c",
   "metadata": {},
   "outputs": [
    {
     "data": {
      "application/vnd.microsoft.datawrangler.viewer.v0+json": {
       "columns": [
        {
         "name": "index",
         "rawType": "int64",
         "type": "integer"
        },
        {
         "name": "id",
         "rawType": "int64",
         "type": "integer"
        },
        {
         "name": "name",
         "rawType": "object",
         "type": "string"
        },
        {
         "name": "host_id",
         "rawType": "int64",
         "type": "integer"
        },
        {
         "name": "host_name",
         "rawType": "object",
         "type": "string"
        },
        {
         "name": "neighbourhood_group",
         "rawType": "object",
         "type": "string"
        },
        {
         "name": "neighbourhood",
         "rawType": "object",
         "type": "string"
        },
        {
         "name": "latitude",
         "rawType": "float64",
         "type": "float"
        },
        {
         "name": "longitude",
         "rawType": "float64",
         "type": "float"
        },
        {
         "name": "room_type",
         "rawType": "object",
         "type": "string"
        },
        {
         "name": "price",
         "rawType": "int64",
         "type": "integer"
        },
        {
         "name": "minimum_nights",
         "rawType": "int64",
         "type": "integer"
        },
        {
         "name": "number_of_reviews",
         "rawType": "int64",
         "type": "integer"
        },
        {
         "name": "last_review",
         "rawType": "object",
         "type": "unknown"
        },
        {
         "name": "reviews_per_month",
         "rawType": "float64",
         "type": "float"
        },
        {
         "name": "calculated_host_listings_count",
         "rawType": "int64",
         "type": "integer"
        },
        {
         "name": "availability_365",
         "rawType": "int64",
         "type": "integer"
        }
       ],
       "ref": "e7886958-38d1-4003-8afa-0f18752a46f4",
       "rows": [
        [
         "0",
         "2539",
         "Clean & quiet apt home by the park",
         "2787",
         "John",
         "Brooklyn",
         "Kensington",
         "40.64749",
         "-73.97237",
         "Private room",
         "149",
         "1",
         "9",
         "2018-10-19",
         "0.21",
         "6",
         "365"
        ],
        [
         "1",
         "2595",
         "Skylit Midtown Castle",
         "2845",
         "Jennifer",
         "Manhattan",
         "Midtown",
         "40.75362",
         "-73.98377",
         "Entire home/apt",
         "225",
         "1",
         "45",
         "2019-05-21",
         "0.38",
         "2",
         "355"
        ],
        [
         "2",
         "3647",
         "THE VILLAGE OF HARLEM....NEW YORK !",
         "4632",
         "Elisabeth",
         "Manhattan",
         "Harlem",
         "40.80902",
         "-73.9419",
         "Private room",
         "150",
         "3",
         "0",
         null,
         null,
         "1",
         "365"
        ],
        [
         "3",
         "3831",
         "Cozy Entire Floor of Brownstone",
         "4869",
         "LisaRoxanne",
         "Brooklyn",
         "Clinton Hill",
         "40.68514",
         "-73.95976",
         "Entire home/apt",
         "89",
         "1",
         "270",
         "2019-07-05",
         "4.64",
         "1",
         "194"
        ],
        [
         "4",
         "5022",
         "Entire Apt: Spacious Studio/Loft by central park",
         "7192",
         "Laura",
         "Manhattan",
         "East Harlem",
         "40.79851",
         "-73.94399",
         "Entire home/apt",
         "80",
         "10",
         "9",
         "2018-11-19",
         "0.1",
         "1",
         "0"
        ]
       ],
       "shape": {
        "columns": 16,
        "rows": 5
       }
      },
      "text/html": [
       "<div>\n",
       "<style scoped>\n",
       "    .dataframe tbody tr th:only-of-type {\n",
       "        vertical-align: middle;\n",
       "    }\n",
       "\n",
       "    .dataframe tbody tr th {\n",
       "        vertical-align: top;\n",
       "    }\n",
       "\n",
       "    .dataframe thead th {\n",
       "        text-align: right;\n",
       "    }\n",
       "</style>\n",
       "<table border=\"1\" class=\"dataframe\">\n",
       "  <thead>\n",
       "    <tr style=\"text-align: right;\">\n",
       "      <th></th>\n",
       "      <th>id</th>\n",
       "      <th>name</th>\n",
       "      <th>host_id</th>\n",
       "      <th>host_name</th>\n",
       "      <th>neighbourhood_group</th>\n",
       "      <th>neighbourhood</th>\n",
       "      <th>latitude</th>\n",
       "      <th>longitude</th>\n",
       "      <th>room_type</th>\n",
       "      <th>price</th>\n",
       "      <th>minimum_nights</th>\n",
       "      <th>number_of_reviews</th>\n",
       "      <th>last_review</th>\n",
       "      <th>reviews_per_month</th>\n",
       "      <th>calculated_host_listings_count</th>\n",
       "      <th>availability_365</th>\n",
       "    </tr>\n",
       "  </thead>\n",
       "  <tbody>\n",
       "    <tr>\n",
       "      <th>0</th>\n",
       "      <td>2539</td>\n",
       "      <td>Clean &amp; quiet apt home by the park</td>\n",
       "      <td>2787</td>\n",
       "      <td>John</td>\n",
       "      <td>Brooklyn</td>\n",
       "      <td>Kensington</td>\n",
       "      <td>40.64749</td>\n",
       "      <td>-73.97237</td>\n",
       "      <td>Private room</td>\n",
       "      <td>149</td>\n",
       "      <td>1</td>\n",
       "      <td>9</td>\n",
       "      <td>2018-10-19</td>\n",
       "      <td>0.21</td>\n",
       "      <td>6</td>\n",
       "      <td>365</td>\n",
       "    </tr>\n",
       "    <tr>\n",
       "      <th>1</th>\n",
       "      <td>2595</td>\n",
       "      <td>Skylit Midtown Castle</td>\n",
       "      <td>2845</td>\n",
       "      <td>Jennifer</td>\n",
       "      <td>Manhattan</td>\n",
       "      <td>Midtown</td>\n",
       "      <td>40.75362</td>\n",
       "      <td>-73.98377</td>\n",
       "      <td>Entire home/apt</td>\n",
       "      <td>225</td>\n",
       "      <td>1</td>\n",
       "      <td>45</td>\n",
       "      <td>2019-05-21</td>\n",
       "      <td>0.38</td>\n",
       "      <td>2</td>\n",
       "      <td>355</td>\n",
       "    </tr>\n",
       "    <tr>\n",
       "      <th>2</th>\n",
       "      <td>3647</td>\n",
       "      <td>THE VILLAGE OF HARLEM....NEW YORK !</td>\n",
       "      <td>4632</td>\n",
       "      <td>Elisabeth</td>\n",
       "      <td>Manhattan</td>\n",
       "      <td>Harlem</td>\n",
       "      <td>40.80902</td>\n",
       "      <td>-73.94190</td>\n",
       "      <td>Private room</td>\n",
       "      <td>150</td>\n",
       "      <td>3</td>\n",
       "      <td>0</td>\n",
       "      <td>NaN</td>\n",
       "      <td>NaN</td>\n",
       "      <td>1</td>\n",
       "      <td>365</td>\n",
       "    </tr>\n",
       "    <tr>\n",
       "      <th>3</th>\n",
       "      <td>3831</td>\n",
       "      <td>Cozy Entire Floor of Brownstone</td>\n",
       "      <td>4869</td>\n",
       "      <td>LisaRoxanne</td>\n",
       "      <td>Brooklyn</td>\n",
       "      <td>Clinton Hill</td>\n",
       "      <td>40.68514</td>\n",
       "      <td>-73.95976</td>\n",
       "      <td>Entire home/apt</td>\n",
       "      <td>89</td>\n",
       "      <td>1</td>\n",
       "      <td>270</td>\n",
       "      <td>2019-07-05</td>\n",
       "      <td>4.64</td>\n",
       "      <td>1</td>\n",
       "      <td>194</td>\n",
       "    </tr>\n",
       "    <tr>\n",
       "      <th>4</th>\n",
       "      <td>5022</td>\n",
       "      <td>Entire Apt: Spacious Studio/Loft by central park</td>\n",
       "      <td>7192</td>\n",
       "      <td>Laura</td>\n",
       "      <td>Manhattan</td>\n",
       "      <td>East Harlem</td>\n",
       "      <td>40.79851</td>\n",
       "      <td>-73.94399</td>\n",
       "      <td>Entire home/apt</td>\n",
       "      <td>80</td>\n",
       "      <td>10</td>\n",
       "      <td>9</td>\n",
       "      <td>2018-11-19</td>\n",
       "      <td>0.10</td>\n",
       "      <td>1</td>\n",
       "      <td>0</td>\n",
       "    </tr>\n",
       "  </tbody>\n",
       "</table>\n",
       "</div>"
      ],
      "text/plain": [
       "     id                                              name  host_id  \\\n",
       "0  2539                Clean & quiet apt home by the park     2787   \n",
       "1  2595                             Skylit Midtown Castle     2845   \n",
       "2  3647               THE VILLAGE OF HARLEM....NEW YORK !     4632   \n",
       "3  3831                   Cozy Entire Floor of Brownstone     4869   \n",
       "4  5022  Entire Apt: Spacious Studio/Loft by central park     7192   \n",
       "\n",
       "     host_name neighbourhood_group neighbourhood  latitude  longitude  \\\n",
       "0         John            Brooklyn    Kensington  40.64749  -73.97237   \n",
       "1     Jennifer           Manhattan       Midtown  40.75362  -73.98377   \n",
       "2    Elisabeth           Manhattan        Harlem  40.80902  -73.94190   \n",
       "3  LisaRoxanne            Brooklyn  Clinton Hill  40.68514  -73.95976   \n",
       "4        Laura           Manhattan   East Harlem  40.79851  -73.94399   \n",
       "\n",
       "         room_type  price  minimum_nights  number_of_reviews last_review  \\\n",
       "0     Private room    149               1                  9  2018-10-19   \n",
       "1  Entire home/apt    225               1                 45  2019-05-21   \n",
       "2     Private room    150               3                  0         NaN   \n",
       "3  Entire home/apt     89               1                270  2019-07-05   \n",
       "4  Entire home/apt     80              10                  9  2018-11-19   \n",
       "\n",
       "   reviews_per_month  calculated_host_listings_count  availability_365  \n",
       "0               0.21                               6               365  \n",
       "1               0.38                               2               355  \n",
       "2                NaN                               1               365  \n",
       "3               4.64                               1               194  \n",
       "4               0.10                               1                 0  "
      ]
     },
     "execution_count": 2,
     "metadata": {},
     "output_type": "execute_result"
    }
   ],
   "source": [
    "df = pd.read_csv(\"C:/Users/Simón/sayons-intro-ml-new/data/raw/AB_NYC_2019.csv\")\n",
    "df.head()"
   ]
  },
  {
   "cell_type": "markdown",
   "id": "ee172996",
   "metadata": {},
   "source": [
    "## Análisis descriptivo "
   ]
  },
  {
   "cell_type": "code",
   "execution_count": 3,
   "id": "0254c8fb",
   "metadata": {},
   "outputs": [
    {
     "data": {
      "application/vnd.microsoft.datawrangler.viewer.v0+json": {
       "columns": [
        {
         "name": "index",
         "rawType": "int64",
         "type": "integer"
        },
        {
         "name": "id",
         "rawType": "int64",
         "type": "integer"
        },
        {
         "name": "name",
         "rawType": "object",
         "type": "unknown"
        },
        {
         "name": "host_id",
         "rawType": "int64",
         "type": "integer"
        },
        {
         "name": "host_name",
         "rawType": "object",
         "type": "unknown"
        },
        {
         "name": "neighbourhood_group",
         "rawType": "object",
         "type": "string"
        },
        {
         "name": "neighbourhood",
         "rawType": "object",
         "type": "string"
        },
        {
         "name": "latitude",
         "rawType": "float64",
         "type": "float"
        },
        {
         "name": "longitude",
         "rawType": "float64",
         "type": "float"
        },
        {
         "name": "room_type",
         "rawType": "object",
         "type": "string"
        },
        {
         "name": "price",
         "rawType": "int64",
         "type": "integer"
        },
        {
         "name": "minimum_nights",
         "rawType": "int64",
         "type": "integer"
        },
        {
         "name": "number_of_reviews",
         "rawType": "int64",
         "type": "integer"
        },
        {
         "name": "last_review",
         "rawType": "object",
         "type": "unknown"
        },
        {
         "name": "reviews_per_month",
         "rawType": "float64",
         "type": "float"
        },
        {
         "name": "calculated_host_listings_count",
         "rawType": "int64",
         "type": "integer"
        },
        {
         "name": "availability_365",
         "rawType": "int64",
         "type": "integer"
        }
       ],
       "ref": "df514e28-ffa7-4724-992b-6be434a27b23",
       "rows": [
        [
         "0",
         "2539",
         "Clean & quiet apt home by the park",
         "2787",
         "John",
         "Brooklyn",
         "Kensington",
         "40.64749",
         "-73.97237",
         "Private room",
         "149",
         "1",
         "9",
         "2018-10-19",
         "0.21",
         "6",
         "365"
        ],
        [
         "1",
         "2595",
         "Skylit Midtown Castle",
         "2845",
         "Jennifer",
         "Manhattan",
         "Midtown",
         "40.75362",
         "-73.98377",
         "Entire home/apt",
         "225",
         "1",
         "45",
         "2019-05-21",
         "0.38",
         "2",
         "355"
        ],
        [
         "2",
         "3647",
         "THE VILLAGE OF HARLEM....NEW YORK !",
         "4632",
         "Elisabeth",
         "Manhattan",
         "Harlem",
         "40.80902",
         "-73.9419",
         "Private room",
         "150",
         "3",
         "0",
         null,
         null,
         "1",
         "365"
        ],
        [
         "3",
         "3831",
         "Cozy Entire Floor of Brownstone",
         "4869",
         "LisaRoxanne",
         "Brooklyn",
         "Clinton Hill",
         "40.68514",
         "-73.95976",
         "Entire home/apt",
         "89",
         "1",
         "270",
         "2019-07-05",
         "4.64",
         "1",
         "194"
        ],
        [
         "4",
         "5022",
         "Entire Apt: Spacious Studio/Loft by central park",
         "7192",
         "Laura",
         "Manhattan",
         "East Harlem",
         "40.79851",
         "-73.94399",
         "Entire home/apt",
         "80",
         "10",
         "9",
         "2018-11-19",
         "0.1",
         "1",
         "0"
        ],
        [
         "5",
         "5099",
         "Large Cozy 1 BR Apartment In Midtown East",
         "7322",
         "Chris",
         "Manhattan",
         "Murray Hill",
         "40.74767",
         "-73.975",
         "Entire home/apt",
         "200",
         "3",
         "74",
         "2019-06-22",
         "0.59",
         "1",
         "129"
        ],
        [
         "6",
         "5121",
         "BlissArtsSpace!",
         "7356",
         "Garon",
         "Brooklyn",
         "Bedford-Stuyvesant",
         "40.68688",
         "-73.95596",
         "Private room",
         "60",
         "45",
         "49",
         "2017-10-05",
         "0.4",
         "1",
         "0"
        ],
        [
         "7",
         "5178",
         "Large Furnished Room Near B'way ",
         "8967",
         "Shunichi",
         "Manhattan",
         "Hell's Kitchen",
         "40.76489",
         "-73.98493",
         "Private room",
         "79",
         "2",
         "430",
         "2019-06-24",
         "3.47",
         "1",
         "220"
        ],
        [
         "8",
         "5203",
         "Cozy Clean Guest Room - Family Apt",
         "7490",
         "MaryEllen",
         "Manhattan",
         "Upper West Side",
         "40.80178",
         "-73.96723",
         "Private room",
         "79",
         "2",
         "118",
         "2017-07-21",
         "0.99",
         "1",
         "0"
        ],
        [
         "9",
         "5238",
         "Cute & Cozy Lower East Side 1 bdrm",
         "7549",
         "Ben",
         "Manhattan",
         "Chinatown",
         "40.71344",
         "-73.99037",
         "Entire home/apt",
         "150",
         "1",
         "160",
         "2019-06-09",
         "1.33",
         "4",
         "188"
        ],
        [
         "10",
         "5295",
         "Beautiful 1br on Upper West Side",
         "7702",
         "Lena",
         "Manhattan",
         "Upper West Side",
         "40.80316",
         "-73.96545",
         "Entire home/apt",
         "135",
         "5",
         "53",
         "2019-06-22",
         "0.43",
         "1",
         "6"
        ],
        [
         "11",
         "5441",
         "Central Manhattan/near Broadway",
         "7989",
         "Kate",
         "Manhattan",
         "Hell's Kitchen",
         "40.76076",
         "-73.98867",
         "Private room",
         "85",
         "2",
         "188",
         "2019-06-23",
         "1.5",
         "1",
         "39"
        ],
        [
         "12",
         "5803",
         "Lovely Room 1, Garden, Best Area, Legal rental",
         "9744",
         "Laurie",
         "Brooklyn",
         "South Slope",
         "40.66829",
         "-73.98779",
         "Private room",
         "89",
         "4",
         "167",
         "2019-06-24",
         "1.34",
         "3",
         "314"
        ],
        [
         "13",
         "6021",
         "Wonderful Guest Bedroom in Manhattan for SINGLES",
         "11528",
         "Claudio",
         "Manhattan",
         "Upper West Side",
         "40.79826",
         "-73.96113",
         "Private room",
         "85",
         "2",
         "113",
         "2019-07-05",
         "0.91",
         "1",
         "333"
        ],
        [
         "14",
         "6090",
         "West Village Nest - Superhost",
         "11975",
         "Alina",
         "Manhattan",
         "West Village",
         "40.7353",
         "-74.00525",
         "Entire home/apt",
         "120",
         "90",
         "27",
         "2018-10-31",
         "0.22",
         "1",
         "0"
        ],
        [
         "15",
         "6848",
         "Only 2 stops to Manhattan studio",
         "15991",
         "Allen & Irina",
         "Brooklyn",
         "Williamsburg",
         "40.70837",
         "-73.95352",
         "Entire home/apt",
         "140",
         "2",
         "148",
         "2019-06-29",
         "1.2",
         "1",
         "46"
        ],
        [
         "16",
         "7097",
         "Perfect for Your Parents + Garden",
         "17571",
         "Jane",
         "Brooklyn",
         "Fort Greene",
         "40.69169",
         "-73.97185",
         "Entire home/apt",
         "215",
         "2",
         "198",
         "2019-06-28",
         "1.72",
         "1",
         "321"
        ],
        [
         "17",
         "7322",
         "Chelsea Perfect",
         "18946",
         "Doti",
         "Manhattan",
         "Chelsea",
         "40.74192",
         "-73.99501",
         "Private room",
         "140",
         "1",
         "260",
         "2019-07-01",
         "2.12",
         "1",
         "12"
        ],
        [
         "18",
         "7726",
         "Hip Historic Brownstone Apartment with Backyard",
         "20950",
         "Adam And Charity",
         "Brooklyn",
         "Crown Heights",
         "40.67592",
         "-73.94694",
         "Entire home/apt",
         "99",
         "3",
         "53",
         "2019-06-22",
         "4.44",
         "1",
         "21"
        ],
        [
         "19",
         "7750",
         "Huge 2 BR Upper East  Cental Park",
         "17985",
         "Sing",
         "Manhattan",
         "East Harlem",
         "40.79685",
         "-73.94872",
         "Entire home/apt",
         "190",
         "7",
         "0",
         null,
         null,
         "2",
         "249"
        ],
        [
         "20",
         "7801",
         "Sweet and Spacious Brooklyn Loft",
         "21207",
         "Chaya",
         "Brooklyn",
         "Williamsburg",
         "40.71842",
         "-73.95718",
         "Entire home/apt",
         "299",
         "3",
         "9",
         "2011-12-28",
         "0.07",
         "1",
         "0"
        ],
        [
         "21",
         "8024",
         "CBG CtyBGd HelpsHaiti rm#1:1-4",
         "22486",
         "Lisel",
         "Brooklyn",
         "Park Slope",
         "40.68069",
         "-73.97706",
         "Private room",
         "130",
         "2",
         "130",
         "2019-07-01",
         "1.09",
         "6",
         "347"
        ],
        [
         "22",
         "8025",
         "CBG Helps Haiti Room#2.5",
         "22486",
         "Lisel",
         "Brooklyn",
         "Park Slope",
         "40.67989",
         "-73.97798",
         "Private room",
         "80",
         "1",
         "39",
         "2019-01-01",
         "0.37",
         "6",
         "364"
        ],
        [
         "23",
         "8110",
         "CBG Helps Haiti Rm #2",
         "22486",
         "Lisel",
         "Brooklyn",
         "Park Slope",
         "40.68001",
         "-73.97865",
         "Private room",
         "110",
         "2",
         "71",
         "2019-07-02",
         "0.61",
         "6",
         "304"
        ],
        [
         "24",
         "8490",
         "MAISON DES SIRENES1,bohemian apartment",
         "25183",
         "Nathalie",
         "Brooklyn",
         "Bedford-Stuyvesant",
         "40.68371",
         "-73.94028",
         "Entire home/apt",
         "120",
         "2",
         "88",
         "2019-06-19",
         "0.73",
         "2",
         "233"
        ],
        [
         "25",
         "8505",
         "Sunny Bedroom Across Prospect Park",
         "25326",
         "Gregory",
         "Brooklyn",
         "Windsor Terrace",
         "40.65599",
         "-73.97519",
         "Private room",
         "60",
         "1",
         "19",
         "2019-06-23",
         "1.37",
         "2",
         "85"
        ],
        [
         "26",
         "8700",
         "Magnifique Suite au N de Manhattan - vue Cloitres",
         "26394",
         "Claude & Sophie",
         "Manhattan",
         "Inwood",
         "40.86754",
         "-73.92639",
         "Private room",
         "80",
         "4",
         "0",
         null,
         null,
         "1",
         "0"
        ],
        [
         "27",
         "9357",
         "Midtown Pied-a-terre",
         "30193",
         "Tommi",
         "Manhattan",
         "Hell's Kitchen",
         "40.76715",
         "-73.98533",
         "Entire home/apt",
         "150",
         "10",
         "58",
         "2017-08-13",
         "0.49",
         "1",
         "75"
        ],
        [
         "28",
         "9518",
         "SPACIOUS, LOVELY FURNISHED MANHATTAN BEDROOM",
         "31374",
         "Shon",
         "Manhattan",
         "Inwood",
         "40.86482",
         "-73.92106",
         "Private room",
         "44",
         "3",
         "108",
         "2019-06-15",
         "1.11",
         "3",
         "311"
        ],
        [
         "29",
         "9657",
         "Modern 1 BR / NYC / EAST VILLAGE",
         "21904",
         "Dana",
         "Manhattan",
         "East Village",
         "40.7292",
         "-73.98542",
         "Entire home/apt",
         "180",
         "14",
         "29",
         "2019-04-19",
         "0.24",
         "1",
         "67"
        ],
        [
         "30",
         "9668",
         "front room/double bed",
         "32294",
         "Ssameer Or Trip",
         "Manhattan",
         "Harlem",
         "40.82245",
         "-73.95104",
         "Private room",
         "50",
         "3",
         "242",
         "2019-06-01",
         "2.04",
         "3",
         "355"
        ],
        [
         "31",
         "9704",
         "Spacious 1 bedroom in luxe building",
         "32045",
         "Teri",
         "Manhattan",
         "Harlem",
         "40.81305",
         "-73.95466",
         "Private room",
         "52",
         "2",
         "88",
         "2019-06-14",
         "1.42",
         "1",
         "255"
        ],
        [
         "32",
         "9782",
         "Loft in Williamsburg Area w/ Roof",
         "32169",
         "Andrea",
         "Brooklyn",
         "Greenpoint",
         "40.72219",
         "-73.93762",
         "Private room",
         "55",
         "4",
         "197",
         "2019-06-15",
         "1.65",
         "3",
         "284"
        ],
        [
         "33",
         "9783",
         "back room/bunk beds",
         "32294",
         "Ssameer Or Trip",
         "Manhattan",
         "Harlem",
         "40.8213",
         "-73.95318",
         "Private room",
         "50",
         "3",
         "273",
         "2019-07-01",
         "2.37",
         "3",
         "359"
        ],
        [
         "34",
         "10452",
         "Large B&B Style rooms",
         "35935",
         "Angela",
         "Brooklyn",
         "Bedford-Stuyvesant",
         "40.6831",
         "-73.95473",
         "Private room",
         "70",
         "1",
         "74",
         "2019-05-12",
         "0.66",
         "2",
         "269"
        ],
        [
         "35",
         "10962",
         "Lovely room 2 & garden; Best area, Legal rental",
         "9744",
         "Laurie",
         "Brooklyn",
         "South Slope",
         "40.66869",
         "-73.9878",
         "Private room",
         "89",
         "4",
         "168",
         "2019-06-21",
         "1.41",
         "3",
         "340"
        ],
        [
         "36",
         "11452",
         "Clean and Quiet in Brooklyn",
         "7355",
         "Vt",
         "Brooklyn",
         "Bedford-Stuyvesant",
         "40.68876",
         "-73.94312",
         "Private room",
         "35",
         "60",
         "0",
         null,
         null,
         "1",
         "365"
        ],
        [
         "37",
         "11708",
         "Cute apt in artist's home",
         "44145",
         "Tyrome",
         "Brooklyn",
         "Bushwick",
         "40.70186",
         "-73.92745",
         "Entire home/apt",
         "85",
         "2",
         "231",
         "2019-06-22",
         "1.96",
         "2",
         "22"
        ],
        [
         "38",
         "11943",
         "Country space in the city",
         "45445",
         "Harriet",
         "Brooklyn",
         "Flatbush",
         "40.63702",
         "-73.96327",
         "Private room",
         "150",
         "1",
         "0",
         null,
         null,
         "1",
         "365"
        ],
        [
         "39",
         "12048",
         "LowerEastSide apt share shortterm 1",
         "7549",
         "Ben",
         "Manhattan",
         "Lower East Side",
         "40.71401",
         "-73.98917",
         "Shared room",
         "40",
         "1",
         "214",
         "2019-07-05",
         "1.81",
         "4",
         "188"
        ],
        [
         "40",
         "12192",
         "ENJOY Downtown NYC!",
         "46978",
         "Edward",
         "Manhattan",
         "East Village",
         "40.7229",
         "-73.98199",
         "Private room",
         "68",
         "2",
         "245",
         "2019-06-21",
         "2.08",
         "2",
         "96"
        ],
        [
         "41",
         "12299",
         "Beautiful Sunny Park Slope Brooklyn",
         "47610",
         "Abdul",
         "Brooklyn",
         "South Slope",
         "40.66278",
         "-73.97966",
         "Entire home/apt",
         "120",
         "3",
         "15",
         "2019-05-27",
         "0.39",
         "1",
         "345"
        ],
        [
         "42",
         "12303",
         "1bdr w private bath. in lofty apt",
         "47618",
         "Yolande",
         "Brooklyn",
         "Fort Greene",
         "40.69673",
         "-73.97584",
         "Private room",
         "120",
         "7",
         "25",
         "2018-09-30",
         "0.23",
         "1",
         "311"
        ],
        [
         "43",
         "12318",
         "West Side Retreat",
         "16800",
         "Cyn",
         "Manhattan",
         "Upper West Side",
         "40.79009",
         "-73.97927",
         "Private room",
         "135",
         "4",
         "81",
         "2019-06-16",
         "0.69",
         "1",
         "273"
        ],
        [
         "44",
         "12343",
         "BEST BET IN HARLEM",
         "47727",
         "Earl",
         "Manhattan",
         "Harlem",
         "40.81175",
         "-73.94478",
         "Entire home/apt",
         "150",
         "7",
         "97",
         "2019-06-13",
         "0.84",
         "1",
         "309"
        ],
        [
         "45",
         "12627",
         "Entire apartment in central Brooklyn neighborhood.",
         "49670",
         "Rana",
         "Brooklyn",
         "Prospect-Lefferts Gardens",
         "40.65944",
         "-73.96238",
         "Entire home/apt",
         "150",
         "29",
         "11",
         "2019-06-05",
         "0.49",
         "1",
         "95"
        ],
        [
         "46",
         "12937",
         "1 Stop fr. Manhattan! Private Suite,Landmark Block",
         "50124",
         "Orestes",
         "Queens",
         "Long Island City",
         "40.74771",
         "-73.9474",
         "Private room",
         "130",
         "3",
         "248",
         "2019-07-01",
         "2.25",
         "1",
         "215"
        ],
        [
         "47",
         "12940",
         "Charming Brownstone 3 - Near PRATT",
         "50148",
         "Adreinne",
         "Brooklyn",
         "Bedford-Stuyvesant",
         "40.68111",
         "-73.95591",
         "Entire home/apt",
         "110",
         "7",
         "61",
         "2019-05-25",
         "0.52",
         "1",
         "265"
        ],
        [
         "48",
         "13050",
         "bright and stylish duplex",
         "50846",
         "Jennifer",
         "Brooklyn",
         "Bedford-Stuyvesant",
         "40.68554",
         "-73.9409",
         "Entire home/apt",
         "115",
         "3",
         "11",
         "2017-01-01",
         "0.1",
         "1",
         "0"
        ],
        [
         "49",
         "13394",
         "Fort Greene brownstone ",
         "52335",
         "Alexander",
         "Brooklyn",
         "Fort Greene",
         "40.69142",
         "-73.97376",
         "Private room",
         "80",
         "3",
         "135",
         "2019-06-17",
         "1.16",
         "2",
         "192"
        ]
       ],
       "shape": {
        "columns": 16,
        "rows": 48895
       }
      },
      "text/html": [
       "<div>\n",
       "<style scoped>\n",
       "    .dataframe tbody tr th:only-of-type {\n",
       "        vertical-align: middle;\n",
       "    }\n",
       "\n",
       "    .dataframe tbody tr th {\n",
       "        vertical-align: top;\n",
       "    }\n",
       "\n",
       "    .dataframe thead th {\n",
       "        text-align: right;\n",
       "    }\n",
       "</style>\n",
       "<table border=\"1\" class=\"dataframe\">\n",
       "  <thead>\n",
       "    <tr style=\"text-align: right;\">\n",
       "      <th></th>\n",
       "      <th>id</th>\n",
       "      <th>name</th>\n",
       "      <th>host_id</th>\n",
       "      <th>host_name</th>\n",
       "      <th>neighbourhood_group</th>\n",
       "      <th>neighbourhood</th>\n",
       "      <th>latitude</th>\n",
       "      <th>longitude</th>\n",
       "      <th>room_type</th>\n",
       "      <th>price</th>\n",
       "      <th>minimum_nights</th>\n",
       "      <th>number_of_reviews</th>\n",
       "      <th>last_review</th>\n",
       "      <th>reviews_per_month</th>\n",
       "      <th>calculated_host_listings_count</th>\n",
       "      <th>availability_365</th>\n",
       "    </tr>\n",
       "  </thead>\n",
       "  <tbody>\n",
       "    <tr>\n",
       "      <th>0</th>\n",
       "      <td>2539</td>\n",
       "      <td>Clean &amp; quiet apt home by the park</td>\n",
       "      <td>2787</td>\n",
       "      <td>John</td>\n",
       "      <td>Brooklyn</td>\n",
       "      <td>Kensington</td>\n",
       "      <td>40.64749</td>\n",
       "      <td>-73.97237</td>\n",
       "      <td>Private room</td>\n",
       "      <td>149</td>\n",
       "      <td>1</td>\n",
       "      <td>9</td>\n",
       "      <td>2018-10-19</td>\n",
       "      <td>0.21</td>\n",
       "      <td>6</td>\n",
       "      <td>365</td>\n",
       "    </tr>\n",
       "    <tr>\n",
       "      <th>1</th>\n",
       "      <td>2595</td>\n",
       "      <td>Skylit Midtown Castle</td>\n",
       "      <td>2845</td>\n",
       "      <td>Jennifer</td>\n",
       "      <td>Manhattan</td>\n",
       "      <td>Midtown</td>\n",
       "      <td>40.75362</td>\n",
       "      <td>-73.98377</td>\n",
       "      <td>Entire home/apt</td>\n",
       "      <td>225</td>\n",
       "      <td>1</td>\n",
       "      <td>45</td>\n",
       "      <td>2019-05-21</td>\n",
       "      <td>0.38</td>\n",
       "      <td>2</td>\n",
       "      <td>355</td>\n",
       "    </tr>\n",
       "    <tr>\n",
       "      <th>2</th>\n",
       "      <td>3647</td>\n",
       "      <td>THE VILLAGE OF HARLEM....NEW YORK !</td>\n",
       "      <td>4632</td>\n",
       "      <td>Elisabeth</td>\n",
       "      <td>Manhattan</td>\n",
       "      <td>Harlem</td>\n",
       "      <td>40.80902</td>\n",
       "      <td>-73.94190</td>\n",
       "      <td>Private room</td>\n",
       "      <td>150</td>\n",
       "      <td>3</td>\n",
       "      <td>0</td>\n",
       "      <td>NaN</td>\n",
       "      <td>NaN</td>\n",
       "      <td>1</td>\n",
       "      <td>365</td>\n",
       "    </tr>\n",
       "    <tr>\n",
       "      <th>3</th>\n",
       "      <td>3831</td>\n",
       "      <td>Cozy Entire Floor of Brownstone</td>\n",
       "      <td>4869</td>\n",
       "      <td>LisaRoxanne</td>\n",
       "      <td>Brooklyn</td>\n",
       "      <td>Clinton Hill</td>\n",
       "      <td>40.68514</td>\n",
       "      <td>-73.95976</td>\n",
       "      <td>Entire home/apt</td>\n",
       "      <td>89</td>\n",
       "      <td>1</td>\n",
       "      <td>270</td>\n",
       "      <td>2019-07-05</td>\n",
       "      <td>4.64</td>\n",
       "      <td>1</td>\n",
       "      <td>194</td>\n",
       "    </tr>\n",
       "    <tr>\n",
       "      <th>4</th>\n",
       "      <td>5022</td>\n",
       "      <td>Entire Apt: Spacious Studio/Loft by central park</td>\n",
       "      <td>7192</td>\n",
       "      <td>Laura</td>\n",
       "      <td>Manhattan</td>\n",
       "      <td>East Harlem</td>\n",
       "      <td>40.79851</td>\n",
       "      <td>-73.94399</td>\n",
       "      <td>Entire home/apt</td>\n",
       "      <td>80</td>\n",
       "      <td>10</td>\n",
       "      <td>9</td>\n",
       "      <td>2018-11-19</td>\n",
       "      <td>0.10</td>\n",
       "      <td>1</td>\n",
       "      <td>0</td>\n",
       "    </tr>\n",
       "    <tr>\n",
       "      <th>...</th>\n",
       "      <td>...</td>\n",
       "      <td>...</td>\n",
       "      <td>...</td>\n",
       "      <td>...</td>\n",
       "      <td>...</td>\n",
       "      <td>...</td>\n",
       "      <td>...</td>\n",
       "      <td>...</td>\n",
       "      <td>...</td>\n",
       "      <td>...</td>\n",
       "      <td>...</td>\n",
       "      <td>...</td>\n",
       "      <td>...</td>\n",
       "      <td>...</td>\n",
       "      <td>...</td>\n",
       "      <td>...</td>\n",
       "    </tr>\n",
       "    <tr>\n",
       "      <th>48890</th>\n",
       "      <td>36484665</td>\n",
       "      <td>Charming one bedroom - newly renovated rowhouse</td>\n",
       "      <td>8232441</td>\n",
       "      <td>Sabrina</td>\n",
       "      <td>Brooklyn</td>\n",
       "      <td>Bedford-Stuyvesant</td>\n",
       "      <td>40.67853</td>\n",
       "      <td>-73.94995</td>\n",
       "      <td>Private room</td>\n",
       "      <td>70</td>\n",
       "      <td>2</td>\n",
       "      <td>0</td>\n",
       "      <td>NaN</td>\n",
       "      <td>NaN</td>\n",
       "      <td>2</td>\n",
       "      <td>9</td>\n",
       "    </tr>\n",
       "    <tr>\n",
       "      <th>48891</th>\n",
       "      <td>36485057</td>\n",
       "      <td>Affordable room in Bushwick/East Williamsburg</td>\n",
       "      <td>6570630</td>\n",
       "      <td>Marisol</td>\n",
       "      <td>Brooklyn</td>\n",
       "      <td>Bushwick</td>\n",
       "      <td>40.70184</td>\n",
       "      <td>-73.93317</td>\n",
       "      <td>Private room</td>\n",
       "      <td>40</td>\n",
       "      <td>4</td>\n",
       "      <td>0</td>\n",
       "      <td>NaN</td>\n",
       "      <td>NaN</td>\n",
       "      <td>2</td>\n",
       "      <td>36</td>\n",
       "    </tr>\n",
       "    <tr>\n",
       "      <th>48892</th>\n",
       "      <td>36485431</td>\n",
       "      <td>Sunny Studio at Historical Neighborhood</td>\n",
       "      <td>23492952</td>\n",
       "      <td>Ilgar &amp; Aysel</td>\n",
       "      <td>Manhattan</td>\n",
       "      <td>Harlem</td>\n",
       "      <td>40.81475</td>\n",
       "      <td>-73.94867</td>\n",
       "      <td>Entire home/apt</td>\n",
       "      <td>115</td>\n",
       "      <td>10</td>\n",
       "      <td>0</td>\n",
       "      <td>NaN</td>\n",
       "      <td>NaN</td>\n",
       "      <td>1</td>\n",
       "      <td>27</td>\n",
       "    </tr>\n",
       "    <tr>\n",
       "      <th>48893</th>\n",
       "      <td>36485609</td>\n",
       "      <td>43rd St. Time Square-cozy single bed</td>\n",
       "      <td>30985759</td>\n",
       "      <td>Taz</td>\n",
       "      <td>Manhattan</td>\n",
       "      <td>Hell's Kitchen</td>\n",
       "      <td>40.75751</td>\n",
       "      <td>-73.99112</td>\n",
       "      <td>Shared room</td>\n",
       "      <td>55</td>\n",
       "      <td>1</td>\n",
       "      <td>0</td>\n",
       "      <td>NaN</td>\n",
       "      <td>NaN</td>\n",
       "      <td>6</td>\n",
       "      <td>2</td>\n",
       "    </tr>\n",
       "    <tr>\n",
       "      <th>48894</th>\n",
       "      <td>36487245</td>\n",
       "      <td>Trendy duplex in the very heart of Hell's Kitchen</td>\n",
       "      <td>68119814</td>\n",
       "      <td>Christophe</td>\n",
       "      <td>Manhattan</td>\n",
       "      <td>Hell's Kitchen</td>\n",
       "      <td>40.76404</td>\n",
       "      <td>-73.98933</td>\n",
       "      <td>Private room</td>\n",
       "      <td>90</td>\n",
       "      <td>7</td>\n",
       "      <td>0</td>\n",
       "      <td>NaN</td>\n",
       "      <td>NaN</td>\n",
       "      <td>1</td>\n",
       "      <td>23</td>\n",
       "    </tr>\n",
       "  </tbody>\n",
       "</table>\n",
       "<p>48895 rows × 16 columns</p>\n",
       "</div>"
      ],
      "text/plain": [
       "             id                                               name   host_id  \\\n",
       "0          2539                 Clean & quiet apt home by the park      2787   \n",
       "1          2595                              Skylit Midtown Castle      2845   \n",
       "2          3647                THE VILLAGE OF HARLEM....NEW YORK !      4632   \n",
       "3          3831                    Cozy Entire Floor of Brownstone      4869   \n",
       "4          5022   Entire Apt: Spacious Studio/Loft by central park      7192   \n",
       "...         ...                                                ...       ...   \n",
       "48890  36484665    Charming one bedroom - newly renovated rowhouse   8232441   \n",
       "48891  36485057      Affordable room in Bushwick/East Williamsburg   6570630   \n",
       "48892  36485431            Sunny Studio at Historical Neighborhood  23492952   \n",
       "48893  36485609               43rd St. Time Square-cozy single bed  30985759   \n",
       "48894  36487245  Trendy duplex in the very heart of Hell's Kitchen  68119814   \n",
       "\n",
       "           host_name neighbourhood_group       neighbourhood  latitude  \\\n",
       "0               John            Brooklyn          Kensington  40.64749   \n",
       "1           Jennifer           Manhattan             Midtown  40.75362   \n",
       "2          Elisabeth           Manhattan              Harlem  40.80902   \n",
       "3        LisaRoxanne            Brooklyn        Clinton Hill  40.68514   \n",
       "4              Laura           Manhattan         East Harlem  40.79851   \n",
       "...              ...                 ...                 ...       ...   \n",
       "48890        Sabrina            Brooklyn  Bedford-Stuyvesant  40.67853   \n",
       "48891        Marisol            Brooklyn            Bushwick  40.70184   \n",
       "48892  Ilgar & Aysel           Manhattan              Harlem  40.81475   \n",
       "48893            Taz           Manhattan      Hell's Kitchen  40.75751   \n",
       "48894     Christophe           Manhattan      Hell's Kitchen  40.76404   \n",
       "\n",
       "       longitude        room_type  price  minimum_nights  number_of_reviews  \\\n",
       "0      -73.97237     Private room    149               1                  9   \n",
       "1      -73.98377  Entire home/apt    225               1                 45   \n",
       "2      -73.94190     Private room    150               3                  0   \n",
       "3      -73.95976  Entire home/apt     89               1                270   \n",
       "4      -73.94399  Entire home/apt     80              10                  9   \n",
       "...          ...              ...    ...             ...                ...   \n",
       "48890  -73.94995     Private room     70               2                  0   \n",
       "48891  -73.93317     Private room     40               4                  0   \n",
       "48892  -73.94867  Entire home/apt    115              10                  0   \n",
       "48893  -73.99112      Shared room     55               1                  0   \n",
       "48894  -73.98933     Private room     90               7                  0   \n",
       "\n",
       "      last_review  reviews_per_month  calculated_host_listings_count  \\\n",
       "0      2018-10-19               0.21                               6   \n",
       "1      2019-05-21               0.38                               2   \n",
       "2             NaN                NaN                               1   \n",
       "3      2019-07-05               4.64                               1   \n",
       "4      2018-11-19               0.10                               1   \n",
       "...           ...                ...                             ...   \n",
       "48890         NaN                NaN                               2   \n",
       "48891         NaN                NaN                               2   \n",
       "48892         NaN                NaN                               1   \n",
       "48893         NaN                NaN                               6   \n",
       "48894         NaN                NaN                               1   \n",
       "\n",
       "       availability_365  \n",
       "0                   365  \n",
       "1                   355  \n",
       "2                   365  \n",
       "3                   194  \n",
       "4                     0  \n",
       "...                 ...  \n",
       "48890                 9  \n",
       "48891                36  \n",
       "48892                27  \n",
       "48893                 2  \n",
       "48894                23  \n",
       "\n",
       "[48895 rows x 16 columns]"
      ]
     },
     "execution_count": 3,
     "metadata": {},
     "output_type": "execute_result"
    }
   ],
   "source": [
    "df"
   ]
  },
  {
   "cell_type": "code",
   "execution_count": 4,
   "id": "00e48055",
   "metadata": {},
   "outputs": [
    {
     "data": {
      "text/plain": [
       "(48895, 16)"
      ]
     },
     "execution_count": 4,
     "metadata": {},
     "output_type": "execute_result"
    }
   ],
   "source": [
    "df.shape"
   ]
  },
  {
   "cell_type": "markdown",
   "id": "59a3be53",
   "metadata": {},
   "source": [
    "### Interesante hacer agrupaciones por barrio y propietario, aunque observamos que hay demasiados valores lo que imposibilita un buen análisis"
   ]
  },
  {
   "cell_type": "code",
   "execution_count": 5,
   "id": "50b23393",
   "metadata": {},
   "outputs": [
    {
     "data": {
      "text/plain": [
       "(host_name\n",
       " Michael          417\n",
       " David            403\n",
       " Sonder (NYC)     327\n",
       " John             294\n",
       " Alex             279\n",
       "                 ... \n",
       " Pujan              1\n",
       " Raheem             1\n",
       " Rusaa              1\n",
       " Erin At Bedly      1\n",
       " Brad & Rachel      1\n",
       " Name: count, Length: 11452, dtype: int64,\n",
       " neighbourhood\n",
       " Williamsburg          3920\n",
       " Bedford-Stuyvesant    3714\n",
       " Harlem                2658\n",
       " Bushwick              2465\n",
       " Upper West Side       1971\n",
       "                       ... \n",
       " Richmondtown             1\n",
       " Fort Wadsworth           1\n",
       " New Dorp                 1\n",
       " Rossville                1\n",
       " Willowbrook              1\n",
       " Name: count, Length: 221, dtype: int64)"
      ]
     },
     "execution_count": 5,
     "metadata": {},
     "output_type": "execute_result"
    }
   ],
   "source": [
    "df['host_name'].value_counts(), df['neighbourhood'].value_counts()"
   ]
  },
  {
   "cell_type": "code",
   "execution_count": 7,
   "id": "d541d76c",
   "metadata": {},
   "outputs": [
    {
     "name": "stdout",
     "output_type": "stream",
     "text": [
      "<class 'pandas.core.frame.DataFrame'>\n",
      "RangeIndex: 48895 entries, 0 to 48894\n",
      "Data columns (total 16 columns):\n",
      " #   Column                          Non-Null Count  Dtype  \n",
      "---  ------                          --------------  -----  \n",
      " 0   id                              48895 non-null  int64  \n",
      " 1   name                            48879 non-null  object \n",
      " 2   host_id                         48895 non-null  int64  \n",
      " 3   host_name                       48874 non-null  object \n",
      " 4   neighbourhood_group             48895 non-null  object \n",
      " 5   neighbourhood                   48895 non-null  object \n",
      " 6   latitude                        48895 non-null  float64\n",
      " 7   longitude                       48895 non-null  float64\n",
      " 8   room_type                       48895 non-null  object \n",
      " 9   price                           48895 non-null  int64  \n",
      " 10  minimum_nights                  48895 non-null  int64  \n",
      " 11  number_of_reviews               48895 non-null  int64  \n",
      " 12  last_review                     38843 non-null  object \n",
      " 13  reviews_per_month               38843 non-null  float64\n",
      " 14  calculated_host_listings_count  48895 non-null  int64  \n",
      " 15  availability_365                48895 non-null  int64  \n",
      "dtypes: float64(3), int64(7), object(6)\n",
      "memory usage: 6.0+ MB\n"
     ]
    }
   ],
   "source": [
    "df.info()"
   ]
  },
  {
   "cell_type": "code",
   "execution_count": 8,
   "id": "8136edd1",
   "metadata": {},
   "outputs": [
    {
     "data": {
      "application/vnd.microsoft.datawrangler.viewer.v0+json": {
       "columns": [
        {
         "name": "index",
         "rawType": "object",
         "type": "string"
        },
        {
         "name": "0",
         "rawType": "int64",
         "type": "integer"
        }
       ],
       "ref": "5bcebf01-40cf-4520-bbb7-7db6b680a525",
       "rows": [
        [
         "id",
         "48895"
        ],
        [
         "name",
         "47905"
        ],
        [
         "host_id",
         "37457"
        ],
        [
         "host_name",
         "11452"
        ],
        [
         "neighbourhood_group",
         "5"
        ],
        [
         "neighbourhood",
         "221"
        ],
        [
         "latitude",
         "19048"
        ],
        [
         "longitude",
         "14718"
        ],
        [
         "room_type",
         "3"
        ],
        [
         "price",
         "674"
        ],
        [
         "minimum_nights",
         "109"
        ],
        [
         "number_of_reviews",
         "394"
        ],
        [
         "last_review",
         "1764"
        ],
        [
         "reviews_per_month",
         "937"
        ],
        [
         "calculated_host_listings_count",
         "47"
        ],
        [
         "availability_365",
         "366"
        ]
       ],
       "shape": {
        "columns": 1,
        "rows": 16
       }
      },
      "text/plain": [
       "id                                48895\n",
       "name                              47905\n",
       "host_id                           37457\n",
       "host_name                         11452\n",
       "neighbourhood_group                   5\n",
       "neighbourhood                       221\n",
       "latitude                          19048\n",
       "longitude                         14718\n",
       "room_type                             3\n",
       "price                               674\n",
       "minimum_nights                      109\n",
       "number_of_reviews                   394\n",
       "last_review                        1764\n",
       "reviews_per_month                   937\n",
       "calculated_host_listings_count       47\n",
       "availability_365                    366\n",
       "dtype: int64"
      ]
     },
     "execution_count": 8,
     "metadata": {},
     "output_type": "execute_result"
    }
   ],
   "source": [
    "df.nunique()"
   ]
  },
  {
   "cell_type": "code",
   "execution_count": 9,
   "id": "8f2291c1",
   "metadata": {},
   "outputs": [
    {
     "data": {
      "text/plain": [
       "(host_id\n",
       " 219517861    327\n",
       " 107434423    232\n",
       " 30283594     121\n",
       " 137358866    103\n",
       " 16098958      96\n",
       "             ... \n",
       " 274040642      1\n",
       " 274035866      1\n",
       " 24680832       1\n",
       " 71142174       1\n",
       " 274025920      1\n",
       " Name: count, Length: 37457, dtype: int64,\n",
       " host_name\n",
       " Michael          417\n",
       " David            403\n",
       " Sonder (NYC)     327\n",
       " John             294\n",
       " Alex             279\n",
       "                 ... \n",
       " Pujan              1\n",
       " Raheem             1\n",
       " Rusaa              1\n",
       " Erin At Bedly      1\n",
       " Brad & Rachel      1\n",
       " Name: count, Length: 11452, dtype: int64)"
      ]
     },
     "execution_count": 9,
     "metadata": {},
     "output_type": "execute_result"
    }
   ],
   "source": [
    "df['host_id'].value_counts(), df['host_name'].value_counts()"
   ]
  },
  {
   "cell_type": "code",
   "execution_count": 10,
   "id": "ebe0badf",
   "metadata": {},
   "outputs": [
    {
     "data": {
      "application/vnd.microsoft.datawrangler.viewer.v0+json": {
       "columns": [
        {
         "name": "neighbourhood",
         "rawType": "object",
         "type": "string"
        },
        {
         "name": "count",
         "rawType": "int64",
         "type": "integer"
        }
       ],
       "ref": "ad644825-1a74-46e8-b936-0494c2766fb8",
       "rows": [
        [
         "Williamsburg",
         "3920"
        ],
        [
         "Bedford-Stuyvesant",
         "3714"
        ],
        [
         "Harlem",
         "2658"
        ],
        [
         "Bushwick",
         "2465"
        ],
        [
         "Upper West Side",
         "1971"
        ],
        [
         "Hell's Kitchen",
         "1958"
        ],
        [
         "East Village",
         "1853"
        ],
        [
         "Upper East Side",
         "1798"
        ],
        [
         "Crown Heights",
         "1564"
        ],
        [
         "Midtown",
         "1545"
        ],
        [
         "East Harlem",
         "1117"
        ],
        [
         "Greenpoint",
         "1115"
        ],
        [
         "Chelsea",
         "1113"
        ],
        [
         "Lower East Side",
         "911"
        ],
        [
         "Astoria",
         "900"
        ],
        [
         "Washington Heights",
         "899"
        ],
        [
         "West Village",
         "768"
        ],
        [
         "Financial District",
         "744"
        ],
        [
         "Flatbush",
         "621"
        ],
        [
         "Clinton Hill",
         "572"
        ],
        [
         "Long Island City",
         "537"
        ],
        [
         "Prospect-Lefferts Gardens",
         "535"
        ],
        [
         "Park Slope",
         "506"
        ],
        [
         "East Flatbush",
         "500"
        ],
        [
         "Fort Greene",
         "489"
        ],
        [
         "Murray Hill",
         "485"
        ],
        [
         "Kips Bay",
         "470"
        ],
        [
         "Flushing",
         "426"
        ],
        [
         "Ridgewood",
         "423"
        ],
        [
         "Greenwich Village",
         "392"
        ],
        [
         "Sunset Park",
         "390"
        ],
        [
         "Chinatown",
         "368"
        ],
        [
         "Sunnyside",
         "363"
        ],
        [
         "SoHo",
         "358"
        ],
        [
         "Prospect Heights",
         "357"
        ],
        [
         "Morningside Heights",
         "346"
        ],
        [
         "Gramercy",
         "338"
        ],
        [
         "Ditmars Steinway",
         "309"
        ],
        [
         "Theater District",
         "288"
        ],
        [
         "South Slope",
         "284"
        ],
        [
         "Nolita",
         "253"
        ],
        [
         "Inwood",
         "252"
        ],
        [
         "Gowanus",
         "247"
        ],
        [
         "Elmhurst",
         "237"
        ],
        [
         "Woodside",
         "235"
        ],
        [
         "Carroll Gardens",
         "233"
        ],
        [
         "Jamaica",
         "231"
        ],
        [
         "East New York",
         "218"
        ],
        [
         "Jackson Heights",
         "186"
        ],
        [
         "East Elmhurst",
         "185"
        ]
       ],
       "shape": {
        "columns": 1,
        "rows": 221
       }
      },
      "text/plain": [
       "neighbourhood\n",
       "Williamsburg          3920\n",
       "Bedford-Stuyvesant    3714\n",
       "Harlem                2658\n",
       "Bushwick              2465\n",
       "Upper West Side       1971\n",
       "                      ... \n",
       "Richmondtown             1\n",
       "Fort Wadsworth           1\n",
       "New Dorp                 1\n",
       "Rossville                1\n",
       "Willowbrook              1\n",
       "Name: count, Length: 221, dtype: int64"
      ]
     },
     "execution_count": 10,
     "metadata": {},
     "output_type": "execute_result"
    }
   ],
   "source": [
    "df['neighbourhood'].value_counts()"
   ]
  },
  {
   "cell_type": "code",
   "execution_count": null,
   "id": "e08ddc26",
   "metadata": {},
   "outputs": [],
   "source": [
    "df.loc[df['calculated_host_listings_count'].idxmax()] #Busco el propietario con mayor número de inmuebles\n",
    "df.loc[df['host_name'] == 'Sonder (NYC)'] # Resulta ser una inmobiliaria que tiene una gran cantidad de propiedades"
   ]
  },
  {
   "cell_type": "markdown",
   "id": "6f4b35b4",
   "metadata": {},
   "source": [
    "## Limpieza de datos"
   ]
  },
  {
   "cell_type": "markdown",
   "id": "fa89ea86",
   "metadata": {},
   "source": [
    "### Eliminar duplicados:"
   ]
  },
  {
   "cell_type": "code",
   "execution_count": 11,
   "id": "6f52a9ac",
   "metadata": {},
   "outputs": [
    {
     "data": {
      "application/vnd.microsoft.datawrangler.viewer.v0+json": {
       "columns": [
        {
         "name": "index",
         "rawType": "int64",
         "type": "integer"
        },
        {
         "name": "0",
         "rawType": "bool",
         "type": "boolean"
        }
       ],
       "ref": "9dfdbd8e-c3d9-4f72-91c0-cbbebec2fc5d",
       "rows": [
        [
         "0",
         "False"
        ],
        [
         "1",
         "False"
        ],
        [
         "2",
         "False"
        ],
        [
         "3",
         "False"
        ],
        [
         "4",
         "False"
        ],
        [
         "5",
         "False"
        ],
        [
         "6",
         "False"
        ],
        [
         "7",
         "False"
        ],
        [
         "8",
         "False"
        ],
        [
         "9",
         "False"
        ],
        [
         "10",
         "False"
        ],
        [
         "11",
         "False"
        ],
        [
         "12",
         "False"
        ],
        [
         "13",
         "False"
        ],
        [
         "14",
         "False"
        ],
        [
         "15",
         "False"
        ],
        [
         "16",
         "False"
        ],
        [
         "17",
         "False"
        ],
        [
         "18",
         "False"
        ],
        [
         "19",
         "False"
        ],
        [
         "20",
         "False"
        ],
        [
         "21",
         "False"
        ],
        [
         "22",
         "False"
        ],
        [
         "23",
         "False"
        ],
        [
         "24",
         "False"
        ],
        [
         "25",
         "False"
        ],
        [
         "26",
         "False"
        ],
        [
         "27",
         "False"
        ],
        [
         "28",
         "False"
        ],
        [
         "29",
         "False"
        ],
        [
         "30",
         "False"
        ],
        [
         "31",
         "False"
        ],
        [
         "32",
         "False"
        ],
        [
         "33",
         "False"
        ],
        [
         "34",
         "False"
        ],
        [
         "35",
         "False"
        ],
        [
         "36",
         "False"
        ],
        [
         "37",
         "False"
        ],
        [
         "38",
         "False"
        ],
        [
         "39",
         "False"
        ],
        [
         "40",
         "False"
        ],
        [
         "41",
         "False"
        ],
        [
         "42",
         "False"
        ],
        [
         "43",
         "False"
        ],
        [
         "44",
         "False"
        ],
        [
         "45",
         "False"
        ],
        [
         "46",
         "False"
        ],
        [
         "47",
         "False"
        ],
        [
         "48",
         "False"
        ],
        [
         "49",
         "False"
        ]
       ],
       "shape": {
        "columns": 1,
        "rows": 48895
       }
      },
      "text/plain": [
       "0        False\n",
       "1        False\n",
       "2        False\n",
       "3        False\n",
       "4        False\n",
       "         ...  \n",
       "48890    False\n",
       "48891    False\n",
       "48892    False\n",
       "48893    False\n",
       "48894    False\n",
       "Length: 48895, dtype: bool"
      ]
     },
     "execution_count": 11,
     "metadata": {},
     "output_type": "execute_result"
    }
   ],
   "source": [
    "df.duplicated()"
   ]
  },
  {
   "cell_type": "code",
   "execution_count": 12,
   "id": "7df3f178",
   "metadata": {},
   "outputs": [
    {
     "data": {
      "text/plain": [
       "(np.int64(0), np.int64(0))"
      ]
     },
     "execution_count": 12,
     "metadata": {},
     "output_type": "execute_result"
    }
   ],
   "source": [
    "df.drop('host_id', axis=1).duplicated().sum(), df.drop('host_name', axis=1).duplicated().sum()"
   ]
  },
  {
   "cell_type": "markdown",
   "id": "891de499",
   "metadata": {},
   "source": [
    "### Nos aseguramos que no existen duplicados en todo el dataset"
   ]
  },
  {
   "cell_type": "code",
   "execution_count": 13,
   "id": "c1a82097",
   "metadata": {},
   "outputs": [
    {
     "name": "stdout",
     "output_type": "stream",
     "text": [
      "(48895, 16)\n"
     ]
    },
    {
     "data": {
      "application/vnd.microsoft.datawrangler.viewer.v0+json": {
       "columns": [
        {
         "name": "index",
         "rawType": "int64",
         "type": "integer"
        },
        {
         "name": "id",
         "rawType": "int64",
         "type": "integer"
        },
        {
         "name": "name",
         "rawType": "object",
         "type": "string"
        },
        {
         "name": "host_id",
         "rawType": "int64",
         "type": "integer"
        },
        {
         "name": "host_name",
         "rawType": "object",
         "type": "string"
        },
        {
         "name": "neighbourhood_group",
         "rawType": "object",
         "type": "string"
        },
        {
         "name": "neighbourhood",
         "rawType": "object",
         "type": "string"
        },
        {
         "name": "latitude",
         "rawType": "float64",
         "type": "float"
        },
        {
         "name": "longitude",
         "rawType": "float64",
         "type": "float"
        },
        {
         "name": "room_type",
         "rawType": "object",
         "type": "string"
        },
        {
         "name": "price",
         "rawType": "int64",
         "type": "integer"
        },
        {
         "name": "minimum_nights",
         "rawType": "int64",
         "type": "integer"
        },
        {
         "name": "number_of_reviews",
         "rawType": "int64",
         "type": "integer"
        },
        {
         "name": "last_review",
         "rawType": "object",
         "type": "unknown"
        },
        {
         "name": "reviews_per_month",
         "rawType": "float64",
         "type": "float"
        },
        {
         "name": "calculated_host_listings_count",
         "rawType": "int64",
         "type": "integer"
        },
        {
         "name": "availability_365",
         "rawType": "int64",
         "type": "integer"
        }
       ],
       "ref": "31384364-9570-4b8f-a411-4f7d5bce26b6",
       "rows": [
        [
         "0",
         "2539",
         "Clean & quiet apt home by the park",
         "2787",
         "John",
         "Brooklyn",
         "Kensington",
         "40.64749",
         "-73.97237",
         "Private room",
         "149",
         "1",
         "9",
         "2018-10-19",
         "0.21",
         "6",
         "365"
        ],
        [
         "1",
         "2595",
         "Skylit Midtown Castle",
         "2845",
         "Jennifer",
         "Manhattan",
         "Midtown",
         "40.75362",
         "-73.98377",
         "Entire home/apt",
         "225",
         "1",
         "45",
         "2019-05-21",
         "0.38",
         "2",
         "355"
        ],
        [
         "2",
         "3647",
         "THE VILLAGE OF HARLEM....NEW YORK !",
         "4632",
         "Elisabeth",
         "Manhattan",
         "Harlem",
         "40.80902",
         "-73.9419",
         "Private room",
         "150",
         "3",
         "0",
         null,
         null,
         "1",
         "365"
        ],
        [
         "3",
         "3831",
         "Cozy Entire Floor of Brownstone",
         "4869",
         "LisaRoxanne",
         "Brooklyn",
         "Clinton Hill",
         "40.68514",
         "-73.95976",
         "Entire home/apt",
         "89",
         "1",
         "270",
         "2019-07-05",
         "4.64",
         "1",
         "194"
        ],
        [
         "4",
         "5022",
         "Entire Apt: Spacious Studio/Loft by central park",
         "7192",
         "Laura",
         "Manhattan",
         "East Harlem",
         "40.79851",
         "-73.94399",
         "Entire home/apt",
         "80",
         "10",
         "9",
         "2018-11-19",
         "0.1",
         "1",
         "0"
        ]
       ],
       "shape": {
        "columns": 16,
        "rows": 5
       }
      },
      "text/html": [
       "<div>\n",
       "<style scoped>\n",
       "    .dataframe tbody tr th:only-of-type {\n",
       "        vertical-align: middle;\n",
       "    }\n",
       "\n",
       "    .dataframe tbody tr th {\n",
       "        vertical-align: top;\n",
       "    }\n",
       "\n",
       "    .dataframe thead th {\n",
       "        text-align: right;\n",
       "    }\n",
       "</style>\n",
       "<table border=\"1\" class=\"dataframe\">\n",
       "  <thead>\n",
       "    <tr style=\"text-align: right;\">\n",
       "      <th></th>\n",
       "      <th>id</th>\n",
       "      <th>name</th>\n",
       "      <th>host_id</th>\n",
       "      <th>host_name</th>\n",
       "      <th>neighbourhood_group</th>\n",
       "      <th>neighbourhood</th>\n",
       "      <th>latitude</th>\n",
       "      <th>longitude</th>\n",
       "      <th>room_type</th>\n",
       "      <th>price</th>\n",
       "      <th>minimum_nights</th>\n",
       "      <th>number_of_reviews</th>\n",
       "      <th>last_review</th>\n",
       "      <th>reviews_per_month</th>\n",
       "      <th>calculated_host_listings_count</th>\n",
       "      <th>availability_365</th>\n",
       "    </tr>\n",
       "  </thead>\n",
       "  <tbody>\n",
       "    <tr>\n",
       "      <th>0</th>\n",
       "      <td>2539</td>\n",
       "      <td>Clean &amp; quiet apt home by the park</td>\n",
       "      <td>2787</td>\n",
       "      <td>John</td>\n",
       "      <td>Brooklyn</td>\n",
       "      <td>Kensington</td>\n",
       "      <td>40.64749</td>\n",
       "      <td>-73.97237</td>\n",
       "      <td>Private room</td>\n",
       "      <td>149</td>\n",
       "      <td>1</td>\n",
       "      <td>9</td>\n",
       "      <td>2018-10-19</td>\n",
       "      <td>0.21</td>\n",
       "      <td>6</td>\n",
       "      <td>365</td>\n",
       "    </tr>\n",
       "    <tr>\n",
       "      <th>1</th>\n",
       "      <td>2595</td>\n",
       "      <td>Skylit Midtown Castle</td>\n",
       "      <td>2845</td>\n",
       "      <td>Jennifer</td>\n",
       "      <td>Manhattan</td>\n",
       "      <td>Midtown</td>\n",
       "      <td>40.75362</td>\n",
       "      <td>-73.98377</td>\n",
       "      <td>Entire home/apt</td>\n",
       "      <td>225</td>\n",
       "      <td>1</td>\n",
       "      <td>45</td>\n",
       "      <td>2019-05-21</td>\n",
       "      <td>0.38</td>\n",
       "      <td>2</td>\n",
       "      <td>355</td>\n",
       "    </tr>\n",
       "    <tr>\n",
       "      <th>2</th>\n",
       "      <td>3647</td>\n",
       "      <td>THE VILLAGE OF HARLEM....NEW YORK !</td>\n",
       "      <td>4632</td>\n",
       "      <td>Elisabeth</td>\n",
       "      <td>Manhattan</td>\n",
       "      <td>Harlem</td>\n",
       "      <td>40.80902</td>\n",
       "      <td>-73.94190</td>\n",
       "      <td>Private room</td>\n",
       "      <td>150</td>\n",
       "      <td>3</td>\n",
       "      <td>0</td>\n",
       "      <td>NaN</td>\n",
       "      <td>NaN</td>\n",
       "      <td>1</td>\n",
       "      <td>365</td>\n",
       "    </tr>\n",
       "    <tr>\n",
       "      <th>3</th>\n",
       "      <td>3831</td>\n",
       "      <td>Cozy Entire Floor of Brownstone</td>\n",
       "      <td>4869</td>\n",
       "      <td>LisaRoxanne</td>\n",
       "      <td>Brooklyn</td>\n",
       "      <td>Clinton Hill</td>\n",
       "      <td>40.68514</td>\n",
       "      <td>-73.95976</td>\n",
       "      <td>Entire home/apt</td>\n",
       "      <td>89</td>\n",
       "      <td>1</td>\n",
       "      <td>270</td>\n",
       "      <td>2019-07-05</td>\n",
       "      <td>4.64</td>\n",
       "      <td>1</td>\n",
       "      <td>194</td>\n",
       "    </tr>\n",
       "    <tr>\n",
       "      <th>4</th>\n",
       "      <td>5022</td>\n",
       "      <td>Entire Apt: Spacious Studio/Loft by central park</td>\n",
       "      <td>7192</td>\n",
       "      <td>Laura</td>\n",
       "      <td>Manhattan</td>\n",
       "      <td>East Harlem</td>\n",
       "      <td>40.79851</td>\n",
       "      <td>-73.94399</td>\n",
       "      <td>Entire home/apt</td>\n",
       "      <td>80</td>\n",
       "      <td>10</td>\n",
       "      <td>9</td>\n",
       "      <td>2018-11-19</td>\n",
       "      <td>0.10</td>\n",
       "      <td>1</td>\n",
       "      <td>0</td>\n",
       "    </tr>\n",
       "  </tbody>\n",
       "</table>\n",
       "</div>"
      ],
      "text/plain": [
       "     id                                              name  host_id  \\\n",
       "0  2539                Clean & quiet apt home by the park     2787   \n",
       "1  2595                             Skylit Midtown Castle     2845   \n",
       "2  3647               THE VILLAGE OF HARLEM....NEW YORK !     4632   \n",
       "3  3831                   Cozy Entire Floor of Brownstone     4869   \n",
       "4  5022  Entire Apt: Spacious Studio/Loft by central park     7192   \n",
       "\n",
       "     host_name neighbourhood_group neighbourhood  latitude  longitude  \\\n",
       "0         John            Brooklyn    Kensington  40.64749  -73.97237   \n",
       "1     Jennifer           Manhattan       Midtown  40.75362  -73.98377   \n",
       "2    Elisabeth           Manhattan        Harlem  40.80902  -73.94190   \n",
       "3  LisaRoxanne            Brooklyn  Clinton Hill  40.68514  -73.95976   \n",
       "4        Laura           Manhattan   East Harlem  40.79851  -73.94399   \n",
       "\n",
       "         room_type  price  minimum_nights  number_of_reviews last_review  \\\n",
       "0     Private room    149               1                  9  2018-10-19   \n",
       "1  Entire home/apt    225               1                 45  2019-05-21   \n",
       "2     Private room    150               3                  0         NaN   \n",
       "3  Entire home/apt     89               1                270  2019-07-05   \n",
       "4  Entire home/apt     80              10                  9  2018-11-19   \n",
       "\n",
       "   reviews_per_month  calculated_host_listings_count  availability_365  \n",
       "0               0.21                               6               365  \n",
       "1               0.38                               2               355  \n",
       "2                NaN                               1               365  \n",
       "3               4.64                               1               194  \n",
       "4               0.10                               1                 0  "
      ]
     },
     "execution_count": 13,
     "metadata": {},
     "output_type": "execute_result"
    }
   ],
   "source": [
    "if df.duplicated().sum():\n",
    "    df = df.drop_duplicates()\n",
    "print(df.shape)\n",
    "df.head()"
   ]
  },
  {
   "cell_type": "markdown",
   "id": "51aa8cc1",
   "metadata": {},
   "source": [
    "### No hay filas duplicadas"
   ]
  },
  {
   "cell_type": "markdown",
   "id": "2f5826da",
   "metadata": {},
   "source": [
    "### Valores nulos o faltantes:"
   ]
  },
  {
   "cell_type": "code",
   "execution_count": 14,
   "id": "63f1c4f4",
   "metadata": {},
   "outputs": [
    {
     "data": {
      "application/vnd.microsoft.datawrangler.viewer.v0+json": {
       "columns": [
        {
         "name": "index",
         "rawType": "object",
         "type": "string"
        },
        {
         "name": "0",
         "rawType": "float64",
         "type": "float"
        }
       ],
       "ref": "334f33e1-356f-48d0-b65e-bfe948483d74",
       "rows": [
        [
         "last_review",
         "0.20558339298496778"
        ],
        [
         "reviews_per_month",
         "0.20558339298496778"
        ],
        [
         "host_name",
         "0.00042949176807444524"
        ],
        [
         "name",
         "0.00032723182329481544"
        ],
        [
         "neighbourhood_group",
         "0.0"
        ],
        [
         "neighbourhood",
         "0.0"
        ],
        [
         "id",
         "0.0"
        ],
        [
         "host_id",
         "0.0"
        ],
        [
         "longitude",
         "0.0"
        ],
        [
         "latitude",
         "0.0"
        ],
        [
         "room_type",
         "0.0"
        ],
        [
         "price",
         "0.0"
        ],
        [
         "number_of_reviews",
         "0.0"
        ],
        [
         "minimum_nights",
         "0.0"
        ],
        [
         "calculated_host_listings_count",
         "0.0"
        ],
        [
         "availability_365",
         "0.0"
        ]
       ],
       "shape": {
        "columns": 1,
        "rows": 16
       }
      },
      "text/plain": [
       "last_review                       0.205583\n",
       "reviews_per_month                 0.205583\n",
       "host_name                         0.000429\n",
       "name                              0.000327\n",
       "neighbourhood_group               0.000000\n",
       "neighbourhood                     0.000000\n",
       "id                                0.000000\n",
       "host_id                           0.000000\n",
       "longitude                         0.000000\n",
       "latitude                          0.000000\n",
       "room_type                         0.000000\n",
       "price                             0.000000\n",
       "number_of_reviews                 0.000000\n",
       "minimum_nights                    0.000000\n",
       "calculated_host_listings_count    0.000000\n",
       "availability_365                  0.000000\n",
       "dtype: float64"
      ]
     },
     "execution_count": 14,
     "metadata": {},
     "output_type": "execute_result"
    }
   ],
   "source": [
    "df.isnull().sum().sort_values(ascending=False) / len(df)"
   ]
  },
  {
   "cell_type": "markdown",
   "id": "cea44bbd",
   "metadata": {},
   "source": [
    "### Existe un porcentaje considerable de valores nulos en 'last_review'  y 'reviews_per_month'"
   ]
  },
  {
   "cell_type": "markdown",
   "id": "daf0d267",
   "metadata": {},
   "source": [
    "### Limpieza de datos: Eliminar información irrelevante\n",
    "    \n",
    "Decido eliminar variables redundantes y que no aportan información destacada, en este caso: 'id','host_id', 'name', 'host_name', 'last_review', 'reviews_per_month', 'neighbourhood'"
   ]
  },
  {
   "cell_type": "code",
   "execution_count": 15,
   "id": "63792d51",
   "metadata": {},
   "outputs": [
    {
     "data": {
      "application/vnd.microsoft.datawrangler.viewer.v0+json": {
       "columns": [
        {
         "name": "index",
         "rawType": "int64",
         "type": "integer"
        },
        {
         "name": "neighbourhood_group",
         "rawType": "object",
         "type": "string"
        },
        {
         "name": "latitude",
         "rawType": "float64",
         "type": "float"
        },
        {
         "name": "longitude",
         "rawType": "float64",
         "type": "float"
        },
        {
         "name": "room_type",
         "rawType": "object",
         "type": "string"
        },
        {
         "name": "price",
         "rawType": "int64",
         "type": "integer"
        },
        {
         "name": "minimum_nights",
         "rawType": "int64",
         "type": "integer"
        },
        {
         "name": "number_of_reviews",
         "rawType": "int64",
         "type": "integer"
        },
        {
         "name": "calculated_host_listings_count",
         "rawType": "int64",
         "type": "integer"
        },
        {
         "name": "availability_365",
         "rawType": "int64",
         "type": "integer"
        }
       ],
       "ref": "28801194-8ab7-4de5-bfb5-01db953c54b5",
       "rows": [
        [
         "0",
         "Brooklyn",
         "40.64749",
         "-73.97237",
         "Private room",
         "149",
         "1",
         "9",
         "6",
         "365"
        ],
        [
         "1",
         "Manhattan",
         "40.75362",
         "-73.98377",
         "Entire home/apt",
         "225",
         "1",
         "45",
         "2",
         "355"
        ],
        [
         "2",
         "Manhattan",
         "40.80902",
         "-73.9419",
         "Private room",
         "150",
         "3",
         "0",
         "1",
         "365"
        ],
        [
         "3",
         "Brooklyn",
         "40.68514",
         "-73.95976",
         "Entire home/apt",
         "89",
         "1",
         "270",
         "1",
         "194"
        ],
        [
         "4",
         "Manhattan",
         "40.79851",
         "-73.94399",
         "Entire home/apt",
         "80",
         "10",
         "9",
         "1",
         "0"
        ]
       ],
       "shape": {
        "columns": 9,
        "rows": 5
       }
      },
      "text/html": [
       "<div>\n",
       "<style scoped>\n",
       "    .dataframe tbody tr th:only-of-type {\n",
       "        vertical-align: middle;\n",
       "    }\n",
       "\n",
       "    .dataframe tbody tr th {\n",
       "        vertical-align: top;\n",
       "    }\n",
       "\n",
       "    .dataframe thead th {\n",
       "        text-align: right;\n",
       "    }\n",
       "</style>\n",
       "<table border=\"1\" class=\"dataframe\">\n",
       "  <thead>\n",
       "    <tr style=\"text-align: right;\">\n",
       "      <th></th>\n",
       "      <th>neighbourhood_group</th>\n",
       "      <th>latitude</th>\n",
       "      <th>longitude</th>\n",
       "      <th>room_type</th>\n",
       "      <th>price</th>\n",
       "      <th>minimum_nights</th>\n",
       "      <th>number_of_reviews</th>\n",
       "      <th>calculated_host_listings_count</th>\n",
       "      <th>availability_365</th>\n",
       "    </tr>\n",
       "  </thead>\n",
       "  <tbody>\n",
       "    <tr>\n",
       "      <th>0</th>\n",
       "      <td>Brooklyn</td>\n",
       "      <td>40.64749</td>\n",
       "      <td>-73.97237</td>\n",
       "      <td>Private room</td>\n",
       "      <td>149</td>\n",
       "      <td>1</td>\n",
       "      <td>9</td>\n",
       "      <td>6</td>\n",
       "      <td>365</td>\n",
       "    </tr>\n",
       "    <tr>\n",
       "      <th>1</th>\n",
       "      <td>Manhattan</td>\n",
       "      <td>40.75362</td>\n",
       "      <td>-73.98377</td>\n",
       "      <td>Entire home/apt</td>\n",
       "      <td>225</td>\n",
       "      <td>1</td>\n",
       "      <td>45</td>\n",
       "      <td>2</td>\n",
       "      <td>355</td>\n",
       "    </tr>\n",
       "    <tr>\n",
       "      <th>2</th>\n",
       "      <td>Manhattan</td>\n",
       "      <td>40.80902</td>\n",
       "      <td>-73.94190</td>\n",
       "      <td>Private room</td>\n",
       "      <td>150</td>\n",
       "      <td>3</td>\n",
       "      <td>0</td>\n",
       "      <td>1</td>\n",
       "      <td>365</td>\n",
       "    </tr>\n",
       "    <tr>\n",
       "      <th>3</th>\n",
       "      <td>Brooklyn</td>\n",
       "      <td>40.68514</td>\n",
       "      <td>-73.95976</td>\n",
       "      <td>Entire home/apt</td>\n",
       "      <td>89</td>\n",
       "      <td>1</td>\n",
       "      <td>270</td>\n",
       "      <td>1</td>\n",
       "      <td>194</td>\n",
       "    </tr>\n",
       "    <tr>\n",
       "      <th>4</th>\n",
       "      <td>Manhattan</td>\n",
       "      <td>40.79851</td>\n",
       "      <td>-73.94399</td>\n",
       "      <td>Entire home/apt</td>\n",
       "      <td>80</td>\n",
       "      <td>10</td>\n",
       "      <td>9</td>\n",
       "      <td>1</td>\n",
       "      <td>0</td>\n",
       "    </tr>\n",
       "  </tbody>\n",
       "</table>\n",
       "</div>"
      ],
      "text/plain": [
       "  neighbourhood_group  latitude  longitude        room_type  price  \\\n",
       "0            Brooklyn  40.64749  -73.97237     Private room    149   \n",
       "1           Manhattan  40.75362  -73.98377  Entire home/apt    225   \n",
       "2           Manhattan  40.80902  -73.94190     Private room    150   \n",
       "3            Brooklyn  40.68514  -73.95976  Entire home/apt     89   \n",
       "4           Manhattan  40.79851  -73.94399  Entire home/apt     80   \n",
       "\n",
       "   minimum_nights  number_of_reviews  calculated_host_listings_count  \\\n",
       "0               1                  9                               6   \n",
       "1               1                 45                               2   \n",
       "2               3                  0                               1   \n",
       "3               1                270                               1   \n",
       "4              10                  9                               1   \n",
       "\n",
       "   availability_365  \n",
       "0               365  \n",
       "1               355  \n",
       "2               365  \n",
       "3               194  \n",
       "4                 0  "
      ]
     },
     "execution_count": 15,
     "metadata": {},
     "output_type": "execute_result"
    }
   ],
   "source": [
    "df.drop(['id','host_id', 'name', 'host_name', 'last_review', 'reviews_per_month', 'neighbourhood' ], axis = 1, inplace = True)\n",
    "df.head()"
   ]
  },
  {
   "cell_type": "code",
   "execution_count": 16,
   "id": "eb12e2e4",
   "metadata": {},
   "outputs": [
    {
     "data": {
      "application/vnd.microsoft.datawrangler.viewer.v0+json": {
       "columns": [
        {
         "name": "index",
         "rawType": "object",
         "type": "string"
        },
        {
         "name": "0",
         "rawType": "float64",
         "type": "float"
        }
       ],
       "ref": "79356fe5-f60e-4ce7-8ca4-b97e774eb1b0",
       "rows": [
        [
         "neighbourhood_group",
         "0.0"
        ],
        [
         "latitude",
         "0.0"
        ],
        [
         "longitude",
         "0.0"
        ],
        [
         "room_type",
         "0.0"
        ],
        [
         "price",
         "0.0"
        ],
        [
         "minimum_nights",
         "0.0"
        ],
        [
         "number_of_reviews",
         "0.0"
        ],
        [
         "calculated_host_listings_count",
         "0.0"
        ],
        [
         "availability_365",
         "0.0"
        ]
       ],
       "shape": {
        "columns": 1,
        "rows": 9
       }
      },
      "text/plain": [
       "neighbourhood_group               0.0\n",
       "latitude                          0.0\n",
       "longitude                         0.0\n",
       "room_type                         0.0\n",
       "price                             0.0\n",
       "minimum_nights                    0.0\n",
       "number_of_reviews                 0.0\n",
       "calculated_host_listings_count    0.0\n",
       "availability_365                  0.0\n",
       "dtype: float64"
      ]
     },
     "execution_count": 16,
     "metadata": {},
     "output_type": "execute_result"
    }
   ],
   "source": [
    "df.isnull().sum().sort_values(ascending=False) / len(df)"
   ]
  },
  {
   "cell_type": "code",
   "execution_count": 17,
   "id": "6eb32a27",
   "metadata": {},
   "outputs": [
    {
     "data": {
      "application/vnd.microsoft.datawrangler.viewer.v0+json": {
       "columns": [
        {
         "name": "index",
         "rawType": "object",
         "type": "string"
        },
        {
         "name": "count",
         "rawType": "float64",
         "type": "float"
        },
        {
         "name": "mean",
         "rawType": "float64",
         "type": "float"
        },
        {
         "name": "std",
         "rawType": "float64",
         "type": "float"
        },
        {
         "name": "min",
         "rawType": "float64",
         "type": "float"
        },
        {
         "name": "25%",
         "rawType": "float64",
         "type": "float"
        },
        {
         "name": "50%",
         "rawType": "float64",
         "type": "float"
        },
        {
         "name": "75%",
         "rawType": "float64",
         "type": "float"
        },
        {
         "name": "max",
         "rawType": "float64",
         "type": "float"
        }
       ],
       "ref": "59fd6d68-eb77-47e0-b8b3-53302b9805bb",
       "rows": [
        [
         "latitude",
         "48895.0",
         "40.72894888066264",
         "0.054530078057371915",
         "40.49979",
         "40.6901",
         "40.72307",
         "40.763115",
         "40.91306"
        ],
        [
         "longitude",
         "48895.0",
         "-73.95216961468452",
         "0.04615673610637153",
         "-74.24442",
         "-73.98307",
         "-73.95568",
         "-73.936275",
         "-73.71299"
        ],
        [
         "price",
         "48895.0",
         "152.7206871868289",
         "240.15416974718758",
         "0.0",
         "69.0",
         "106.0",
         "175.0",
         "10000.0"
        ],
        [
         "minimum_nights",
         "48895.0",
         "7.029962163820431",
         "20.51054953317987",
         "1.0",
         "1.0",
         "3.0",
         "5.0",
         "1250.0"
        ],
        [
         "number_of_reviews",
         "48895.0",
         "23.274465691788528",
         "44.55058226668393",
         "0.0",
         "1.0",
         "5.0",
         "24.0",
         "629.0"
        ],
        [
         "calculated_host_listings_count",
         "48895.0",
         "7.143982002249719",
         "32.95251884941993",
         "1.0",
         "1.0",
         "1.0",
         "2.0",
         "327.0"
        ],
        [
         "availability_365",
         "48895.0",
         "112.78132733408324",
         "131.62228885171479",
         "0.0",
         "0.0",
         "45.0",
         "227.0",
         "365.0"
        ]
       ],
       "shape": {
        "columns": 8,
        "rows": 7
       }
      },
      "text/html": [
       "<div>\n",
       "<style scoped>\n",
       "    .dataframe tbody tr th:only-of-type {\n",
       "        vertical-align: middle;\n",
       "    }\n",
       "\n",
       "    .dataframe tbody tr th {\n",
       "        vertical-align: top;\n",
       "    }\n",
       "\n",
       "    .dataframe thead th {\n",
       "        text-align: right;\n",
       "    }\n",
       "</style>\n",
       "<table border=\"1\" class=\"dataframe\">\n",
       "  <thead>\n",
       "    <tr style=\"text-align: right;\">\n",
       "      <th></th>\n",
       "      <th>count</th>\n",
       "      <th>mean</th>\n",
       "      <th>std</th>\n",
       "      <th>min</th>\n",
       "      <th>25%</th>\n",
       "      <th>50%</th>\n",
       "      <th>75%</th>\n",
       "      <th>max</th>\n",
       "    </tr>\n",
       "  </thead>\n",
       "  <tbody>\n",
       "    <tr>\n",
       "      <th>latitude</th>\n",
       "      <td>48895.0</td>\n",
       "      <td>40.728949</td>\n",
       "      <td>0.054530</td>\n",
       "      <td>40.49979</td>\n",
       "      <td>40.69010</td>\n",
       "      <td>40.72307</td>\n",
       "      <td>40.763115</td>\n",
       "      <td>40.91306</td>\n",
       "    </tr>\n",
       "    <tr>\n",
       "      <th>longitude</th>\n",
       "      <td>48895.0</td>\n",
       "      <td>-73.952170</td>\n",
       "      <td>0.046157</td>\n",
       "      <td>-74.24442</td>\n",
       "      <td>-73.98307</td>\n",
       "      <td>-73.95568</td>\n",
       "      <td>-73.936275</td>\n",
       "      <td>-73.71299</td>\n",
       "    </tr>\n",
       "    <tr>\n",
       "      <th>price</th>\n",
       "      <td>48895.0</td>\n",
       "      <td>152.720687</td>\n",
       "      <td>240.154170</td>\n",
       "      <td>0.00000</td>\n",
       "      <td>69.00000</td>\n",
       "      <td>106.00000</td>\n",
       "      <td>175.000000</td>\n",
       "      <td>10000.00000</td>\n",
       "    </tr>\n",
       "    <tr>\n",
       "      <th>minimum_nights</th>\n",
       "      <td>48895.0</td>\n",
       "      <td>7.029962</td>\n",
       "      <td>20.510550</td>\n",
       "      <td>1.00000</td>\n",
       "      <td>1.00000</td>\n",
       "      <td>3.00000</td>\n",
       "      <td>5.000000</td>\n",
       "      <td>1250.00000</td>\n",
       "    </tr>\n",
       "    <tr>\n",
       "      <th>number_of_reviews</th>\n",
       "      <td>48895.0</td>\n",
       "      <td>23.274466</td>\n",
       "      <td>44.550582</td>\n",
       "      <td>0.00000</td>\n",
       "      <td>1.00000</td>\n",
       "      <td>5.00000</td>\n",
       "      <td>24.000000</td>\n",
       "      <td>629.00000</td>\n",
       "    </tr>\n",
       "    <tr>\n",
       "      <th>calculated_host_listings_count</th>\n",
       "      <td>48895.0</td>\n",
       "      <td>7.143982</td>\n",
       "      <td>32.952519</td>\n",
       "      <td>1.00000</td>\n",
       "      <td>1.00000</td>\n",
       "      <td>1.00000</td>\n",
       "      <td>2.000000</td>\n",
       "      <td>327.00000</td>\n",
       "    </tr>\n",
       "    <tr>\n",
       "      <th>availability_365</th>\n",
       "      <td>48895.0</td>\n",
       "      <td>112.781327</td>\n",
       "      <td>131.622289</td>\n",
       "      <td>0.00000</td>\n",
       "      <td>0.00000</td>\n",
       "      <td>45.00000</td>\n",
       "      <td>227.000000</td>\n",
       "      <td>365.00000</td>\n",
       "    </tr>\n",
       "  </tbody>\n",
       "</table>\n",
       "</div>"
      ],
      "text/plain": [
       "                                  count        mean         std       min  \\\n",
       "latitude                        48895.0   40.728949    0.054530  40.49979   \n",
       "longitude                       48895.0  -73.952170    0.046157 -74.24442   \n",
       "price                           48895.0  152.720687  240.154170   0.00000   \n",
       "minimum_nights                  48895.0    7.029962   20.510550   1.00000   \n",
       "number_of_reviews               48895.0   23.274466   44.550582   0.00000   \n",
       "calculated_host_listings_count  48895.0    7.143982   32.952519   1.00000   \n",
       "availability_365                48895.0  112.781327  131.622289   0.00000   \n",
       "\n",
       "                                     25%        50%         75%          max  \n",
       "latitude                        40.69010   40.72307   40.763115     40.91306  \n",
       "longitude                      -73.98307  -73.95568  -73.936275    -73.71299  \n",
       "price                           69.00000  106.00000  175.000000  10000.00000  \n",
       "minimum_nights                   1.00000    3.00000    5.000000   1250.00000  \n",
       "number_of_reviews                1.00000    5.00000   24.000000    629.00000  \n",
       "calculated_host_listings_count   1.00000    1.00000    2.000000    327.00000  \n",
       "availability_365                 0.00000   45.00000  227.000000    365.00000  "
      ]
     },
     "execution_count": 17,
     "metadata": {},
     "output_type": "execute_result"
    }
   ],
   "source": [
    "df.describe().T"
   ]
  },
  {
   "cell_type": "markdown",
   "id": "dfadd793",
   "metadata": {},
   "source": [
    "## Análisis de variables:"
   ]
  },
  {
   "cell_type": "markdown",
   "id": "b56370cb",
   "metadata": {},
   "source": [
    "### Variables univariante: variables categóricas"
   ]
  },
  {
   "cell_type": "code",
   "execution_count": 18,
   "id": "1d1beba8",
   "metadata": {},
   "outputs": [
    {
     "data": {
      "image/png": "[encoded data removed]",
      "text/plain": [
       "<Figure size 1000x500 with 2 Axes>"
      ]
     },
     "metadata": {},
     "output_type": "display_data"
    }
   ],
   "source": [
    "fig, axis = plt.subplots(1, 2, figsize=(10, 5))\n",
    "sns.set_style(\"whitegrid\")\n",
    "sns.histplot(ax=axis[0], data=df, x=\"room_type\")\n",
    "sns.histplot(ax=axis[1], data=df, x=\"neighbourhood_group\")\n",
    "plt.tight_layout()\n",
    "plt.show()"
   ]
  },
  {
   "cell_type": "markdown",
   "id": "8faaf789",
   "metadata": {},
   "source": [
    "### Observamos que hay más viviendas de tipo 'Entire home' y que la mayoría se encuentran en Brooklyn y Manhattan"
   ]
  },
  {
   "cell_type": "markdown",
   "id": "58ee9031",
   "metadata": {},
   "source": [
    "### Variables univariante: variables númericas"
   ]
  },
  {
   "cell_type": "code",
   "execution_count": 19,
   "id": "19fb32dc",
   "metadata": {},
   "outputs": [
    {
     "data": {
      "image/png": "[encoded data removed]",
      "text/plain": [
       "<Figure size 1500x500 with 10 Axes>"
      ]
     },
     "metadata": {},
     "output_type": "display_data"
    }
   ],
   "source": [
    "fig, axis = plt.subplots(2, 5, figsize=(15, 5), gridspec_kw={'height_ratios': [5, 2]})\n",
    "sns.set_style(\"whitegrid\")\n",
    "sns.histplot(ax=axis[0, 0], data=df, x=\"price\").set(xlabel=None, ylabel=None)\n",
    "sns.boxplot(ax=axis[1, 0], data=df, x=\"price\")\n",
    "sns.histplot(ax=axis[0, 1], data=df, x=\"minimum_nights\").set(xlabel=None)\n",
    "sns.boxplot(ax=axis[1, 1], data=df, x=\"minimum_nights\")\n",
    "sns.histplot(ax=axis[0, 2], data=df, x=\"number_of_reviews\").set(xlabel=None, ylabel=None)\n",
    "sns.boxplot(ax=axis[1, 2], data=df, x=\"number_of_reviews\")\n",
    "sns.histplot(ax=axis[0, 3], data=df, x=\"calculated_host_listings_count\").set(xlabel=None)\n",
    "sns.boxplot(ax=axis[1, 3], data=df, x=\"calculated_host_listings_count\")\n",
    "sns.histplot(ax=axis[0, 4], data=df, x=\"availability_365\").set(xlabel=None, ylabel=None)\n",
    "sns.boxplot(ax=axis[1, 4], data=df, x=\"availability_365\")\n",
    "\n",
    "\n",
    "plt.tight_layout()\n",
    "plt.show()"
   ]
  },
  {
   "cell_type": "markdown",
   "id": "6d7e179b",
   "metadata": {},
   "source": [
    "> #### Observaciones:\n",
    ">\n",
    "> - La combinación de los dos gráficos nos permite conocer las distribuciones y sus características estadísticas.\n",
    "> - De la visualización resultante podemos tener claro las variables que cuentan con valores atípicos.\n",
    "> - Las distribuciones tienen asimetría, sesgada hacia la izquierda\n",
    "> - Sería interesante analizar la variable price, a considerar como target"
   ]
  },
  {
   "cell_type": "markdown",
   "id": "549cf56b",
   "metadata": {},
   "source": [
    "### Análisis de Variables Multivariante: procedemos a buscar todas las posibles relaciones que existen entre las variables"
   ]
  },
  {
   "cell_type": "markdown",
   "id": "9baad175",
   "metadata": {},
   "source": [
    "### Codificación de variables categóricas para el estudio de correlaciones, análisis númerico-categórico"
   ]
  },
  {
   "cell_type": "code",
   "execution_count": 20,
   "id": "786deadf",
   "metadata": {},
   "outputs": [],
   "source": [
    "df[\"room_type_n\"] = pd.factorize(df[\"room_type\"])[0]\n",
    "df[\"neighbourhood_group_n\"] = pd.factorize(df[\"neighbourhood_group\"])[0]"
   ]
  },
  {
   "cell_type": "code",
   "execution_count": 21,
   "id": "bb1b795d",
   "metadata": {},
   "outputs": [
    {
     "data": {
      "image/png": "[encoded data removed]",
      "text/plain": [
       "<Figure size 1000x700 with 2 Axes>"
      ]
     },
     "metadata": {},
     "output_type": "display_data"
    }
   ],
   "source": [
    "corr = df[['latitude', 'longitude', 'price', 'minimum_nights', 'number_of_reviews', 'calculated_host_listings_count', 'availability_365', 'room_type_n', 'neighbourhood_group_n']].corr()\n",
    "mask = np.triu(np.ones_like(corr, dtype=bool))\n",
    "fig, axis = plt.subplots(figsize=(10, 7))\n",
    "sns.heatmap(corr, mask=mask, annot=True, fmt=\".2f\")\n",
    "plt.tight_layout()\n",
    "plt.show()"
   ]
  },
  {
   "cell_type": "markdown",
   "id": "67db9ac6",
   "metadata": {},
   "source": [
    "### Observaciones:\n",
    ">- El precio se relaciona directamente con el tipo de vivienda\n",
    ">- Existe una correlación indirecta entre la zona y el precio: hay relación entre el precio y las coordenadas geográficas que a su vez se relacionan con la zona (como era de esperar),\n",
    "   podemos deducir que el precio está relacionado con la zona\n",
    ">- El mínimo de noches se relacion con la cantidad de propietarios, puede ser objeto de estudio"
   ]
  },
  {
   "cell_type": "markdown",
   "id": "c9c3bceb",
   "metadata": {},
   "source": [
    "### Análisis de variables multivariante: númerico-númerico"
   ]
  },
  {
   "cell_type": "code",
   "execution_count": null,
   "id": "a7e46d88",
   "metadata": {},
   "outputs": [
    {
     "data": {
      "image/png": "[encoded data removed]",
      "text/plain": [
       "<Figure size 1800x700 with 11 Axes>"
      ]
     },
     "metadata": {},
     "output_type": "display_data"
    }
   ],
   "source": [
    "corr_room_price = df[[\"price\", \"room_type_n\"]].corr()\n",
    "corr_longitude_price = df[[\"price\", \"longitude\"]].corr()\n",
    "corr_longitude_neighbourhood = df[[\"neighbourhood_group_n\", \"longitude\"]].corr()\n",
    "corr_availability_host = df[[\"availability_365\", \"calculated_host_listings_count\"]].corr()\n",
    "\n",
    "fig, axis = plt.subplots(2, 4, figsize=(18, 7))\n",
    "sns.set_style(\"whitegrid\")\n",
    "\n",
    "sns.regplot(ax=axis[0, 0], data=df, x=\"price\", y=\"room_type_n\", line_kws={'color': 'red'})\n",
    "sns.heatmap(ax=axis[1, 0], data=corr_room_price, annot=True, fmt=\".2f\", cbar=False)\n",
    "\n",
    "sns.regplot(ax=axis[0, 1], data=df, x=\"price\", y=\"longitude\", line_kws={'color': 'red'}).set(ylabel=None)\n",
    "sns.heatmap(ax=axis[1, 1], data=corr_longitude_price, annot=True, fmt=\".2f\")\n",
    "\n",
    "sns.regplot(ax=axis[0, 2], data=df, x=\"longitude\", y=\"neighbourhood_group_n\", line_kws={'color': 'red'}).set(ylabel=None)\n",
    "sns.heatmap(ax=axis[1, 2], data=corr_longitude_neighbourhood, annot=True, fmt=\".2f\")\n",
    "\n",
    "sns.regplot(ax=axis[0, 3], data=df, x=\"availability_365\", y=\"calculated_host_listings_count\", line_kws={'color': 'red'}).set(ylabel=None)\n",
    "sns.heatmap(ax=axis[1, 3], data=corr_availability_host, annot=True, fmt=\".2f\")\n",
    "\n",
    "plt.tight_layout()\n",
    "plt.show()"
   ]
  },
  {
   "cell_type": "markdown",
   "id": "74dd8406",
   "metadata": {},
   "source": [
    "### Observaciones:\n",
    "1. Hay mayor cantidad de viviendas tipo 1(entire home) y también son las que alcanzan un precio más elevado, seguidas por las tipo 0(private room) y luego las tipo 2 (shared room).\n",
    "2. Hay viviendas más caras en una franja de longitud, por debajo de los 1000$ se distribuyen por toda la ciudad.\n",
    "3. El último gráfico no aporta mucha información, esxisten 2 propietarios con un gran número de viviendas, seguramente inmobiliarias, con disponibilidad muy variada."
   ]
  },
  {
   "cell_type": "markdown",
   "id": "f5f80b48",
   "metadata": {},
   "source": [
    "### Análisis de variables multivariante: categórico-categórico"
   ]
  },
  {
   "cell_type": "code",
   "execution_count": 67,
   "id": "419df03a",
   "metadata": {},
   "outputs": [
    {
     "data": {
      "image/png": "[encoded data removed]",
      "text/plain": [
       "<Figure size 1600x600 with 3 Axes>"
      ]
     },
     "metadata": {},
     "output_type": "display_data"
    }
   ],
   "source": [
    "fig, axis = plt.subplots(1, 3, figsize=(16, 6))\n",
    "bins = [0, 50, 100, 150, 200, 300, 500, 1000, df[\"price\"].max()]\n",
    "labels = [\"0-50\", \"51-100\", \"101-150\", \"151-200\", \"201-300\", \"301-500\", \"501-1000\", \"1000+\"]\n",
    "df[\"price_range\"] = pd.cut(df[\"price\"], bins=bins, labels=labels, include_lowest=True)\n",
    "sns.set_style(\"whitegrid\")\n",
    "sns.countplot(ax=axis[0], data=df, x=\"price_range\", hue=\"room_type\").set_xlabel('Price range')\n",
    "sns.countplot(ax=axis[1], data=df, x=\"price_range\", hue=\"neighbourhood_group\").set_xlabel('Price range')\n",
    "sns.countplot(ax=axis[2], data=df, x=\"neighbourhood_group\", hue=\"room_type\")\n",
    "plt.tight_layout()\n",
    "plt.show()"
   ]
  },
  {
   "cell_type": "markdown",
   "id": "e7638cbb",
   "metadata": {},
   "source": [
    "### Observaciones: \n",
    ">- Ajustando el precio en rangos podemos relacionarlo con el tipo de vivienda y la zona, confirmando lo anterior\n",
    ">- La mayoría de viviendas se reparten entre Brooklyn y Manhattan, así como las viviendas de mayor precio\n",
    ">- Existen más viviendas de tipo 'entire home' y 'private room' que 'shared room'"
   ]
  },
  {
   "cell_type": "markdown",
   "id": "168cac32",
   "metadata": {},
   "source": [
    "## Ingeniería de características"
   ]
  },
  {
   "cell_type": "markdown",
   "id": "dc31f39d",
   "metadata": {},
   "source": [
    "### Análisis de outliers"
   ]
  },
  {
   "cell_type": "markdown",
   "id": "37534448",
   "metadata": {},
   "source": [
    "#### Análisis descriptivo"
   ]
  },
  {
   "cell_type": "code",
   "execution_count": 28,
   "id": "ef0e6f30",
   "metadata": {},
   "outputs": [
    {
     "data": {
      "application/vnd.microsoft.datawrangler.viewer.v0+json": {
       "columns": [
        {
         "name": "index",
         "rawType": "object",
         "type": "string"
        },
        {
         "name": "count",
         "rawType": "float64",
         "type": "float"
        },
        {
         "name": "mean",
         "rawType": "float64",
         "type": "float"
        },
        {
         "name": "std",
         "rawType": "float64",
         "type": "float"
        },
        {
         "name": "min",
         "rawType": "float64",
         "type": "float"
        },
        {
         "name": "25%",
         "rawType": "float64",
         "type": "float"
        },
        {
         "name": "50%",
         "rawType": "float64",
         "type": "float"
        },
        {
         "name": "75%",
         "rawType": "float64",
         "type": "float"
        },
        {
         "name": "max",
         "rawType": "float64",
         "type": "float"
        }
       ],
       "ref": "872f124d-24b0-4920-8f35-0bbb8df982fb",
       "rows": [
        [
         "latitude",
         "48895.0",
         "40.72894888066264",
         "0.054530078057371915",
         "40.49979",
         "40.6901",
         "40.72307",
         "40.763115",
         "40.91306"
        ],
        [
         "longitude",
         "48895.0",
         "-73.95216961468452",
         "0.04615673610637153",
         "-74.24442",
         "-73.98307",
         "-73.95568",
         "-73.936275",
         "-73.71299"
        ],
        [
         "price",
         "48895.0",
         "152.7206871868289",
         "240.15416974718758",
         "0.0",
         "69.0",
         "106.0",
         "175.0",
         "10000.0"
        ],
        [
         "minimum_nights",
         "48895.0",
         "7.029962163820431",
         "20.51054953317987",
         "1.0",
         "1.0",
         "3.0",
         "5.0",
         "1250.0"
        ],
        [
         "number_of_reviews",
         "48895.0",
         "23.274465691788528",
         "44.55058226668393",
         "0.0",
         "1.0",
         "5.0",
         "24.0",
         "629.0"
        ],
        [
         "calculated_host_listings_count",
         "48895.0",
         "7.143982002249719",
         "32.95251884941993",
         "1.0",
         "1.0",
         "1.0",
         "2.0",
         "327.0"
        ],
        [
         "availability_365",
         "48895.0",
         "112.78132733408324",
         "131.62228885171479",
         "0.0",
         "0.0",
         "45.0",
         "227.0",
         "365.0"
        ],
        [
         "room_type_n",
         "48895.0",
         "0.567113201758871",
         "0.5412489482172288",
         "0.0",
         "0.0",
         "1.0",
         "1.0",
         "2.0"
        ],
        [
         "neighbourhood_group_n",
         "48895.0",
         "0.7869107270682074",
         "0.8443860173247795",
         "0.0",
         "0.0",
         "1.0",
         "1.0",
         "4.0"
        ]
       ],
       "shape": {
        "columns": 8,
        "rows": 9
       }
      },
      "text/html": [
       "<div>\n",
       "<style scoped>\n",
       "    .dataframe tbody tr th:only-of-type {\n",
       "        vertical-align: middle;\n",
       "    }\n",
       "\n",
       "    .dataframe tbody tr th {\n",
       "        vertical-align: top;\n",
       "    }\n",
       "\n",
       "    .dataframe thead th {\n",
       "        text-align: right;\n",
       "    }\n",
       "</style>\n",
       "<table border=\"1\" class=\"dataframe\">\n",
       "  <thead>\n",
       "    <tr style=\"text-align: right;\">\n",
       "      <th></th>\n",
       "      <th>count</th>\n",
       "      <th>mean</th>\n",
       "      <th>std</th>\n",
       "      <th>min</th>\n",
       "      <th>25%</th>\n",
       "      <th>50%</th>\n",
       "      <th>75%</th>\n",
       "      <th>max</th>\n",
       "    </tr>\n",
       "  </thead>\n",
       "  <tbody>\n",
       "    <tr>\n",
       "      <th>latitude</th>\n",
       "      <td>48895.0</td>\n",
       "      <td>40.728949</td>\n",
       "      <td>0.054530</td>\n",
       "      <td>40.49979</td>\n",
       "      <td>40.69010</td>\n",
       "      <td>40.72307</td>\n",
       "      <td>40.763115</td>\n",
       "      <td>40.91306</td>\n",
       "    </tr>\n",
       "    <tr>\n",
       "      <th>longitude</th>\n",
       "      <td>48895.0</td>\n",
       "      <td>-73.952170</td>\n",
       "      <td>0.046157</td>\n",
       "      <td>-74.24442</td>\n",
       "      <td>-73.98307</td>\n",
       "      <td>-73.95568</td>\n",
       "      <td>-73.936275</td>\n",
       "      <td>-73.71299</td>\n",
       "    </tr>\n",
       "    <tr>\n",
       "      <th>price</th>\n",
       "      <td>48895.0</td>\n",
       "      <td>152.720687</td>\n",
       "      <td>240.154170</td>\n",
       "      <td>0.00000</td>\n",
       "      <td>69.00000</td>\n",
       "      <td>106.00000</td>\n",
       "      <td>175.000000</td>\n",
       "      <td>10000.00000</td>\n",
       "    </tr>\n",
       "    <tr>\n",
       "      <th>minimum_nights</th>\n",
       "      <td>48895.0</td>\n",
       "      <td>7.029962</td>\n",
       "      <td>20.510550</td>\n",
       "      <td>1.00000</td>\n",
       "      <td>1.00000</td>\n",
       "      <td>3.00000</td>\n",
       "      <td>5.000000</td>\n",
       "      <td>1250.00000</td>\n",
       "    </tr>\n",
       "    <tr>\n",
       "      <th>number_of_reviews</th>\n",
       "      <td>48895.0</td>\n",
       "      <td>23.274466</td>\n",
       "      <td>44.550582</td>\n",
       "      <td>0.00000</td>\n",
       "      <td>1.00000</td>\n",
       "      <td>5.00000</td>\n",
       "      <td>24.000000</td>\n",
       "      <td>629.00000</td>\n",
       "    </tr>\n",
       "    <tr>\n",
       "      <th>calculated_host_listings_count</th>\n",
       "      <td>48895.0</td>\n",
       "      <td>7.143982</td>\n",
       "      <td>32.952519</td>\n",
       "      <td>1.00000</td>\n",
       "      <td>1.00000</td>\n",
       "      <td>1.00000</td>\n",
       "      <td>2.000000</td>\n",
       "      <td>327.00000</td>\n",
       "    </tr>\n",
       "    <tr>\n",
       "      <th>availability_365</th>\n",
       "      <td>48895.0</td>\n",
       "      <td>112.781327</td>\n",
       "      <td>131.622289</td>\n",
       "      <td>0.00000</td>\n",
       "      <td>0.00000</td>\n",
       "      <td>45.00000</td>\n",
       "      <td>227.000000</td>\n",
       "      <td>365.00000</td>\n",
       "    </tr>\n",
       "    <tr>\n",
       "      <th>room_type_n</th>\n",
       "      <td>48895.0</td>\n",
       "      <td>0.567113</td>\n",
       "      <td>0.541249</td>\n",
       "      <td>0.00000</td>\n",
       "      <td>0.00000</td>\n",
       "      <td>1.00000</td>\n",
       "      <td>1.000000</td>\n",
       "      <td>2.00000</td>\n",
       "    </tr>\n",
       "    <tr>\n",
       "      <th>neighbourhood_group_n</th>\n",
       "      <td>48895.0</td>\n",
       "      <td>0.786911</td>\n",
       "      <td>0.844386</td>\n",
       "      <td>0.00000</td>\n",
       "      <td>0.00000</td>\n",
       "      <td>1.00000</td>\n",
       "      <td>1.000000</td>\n",
       "      <td>4.00000</td>\n",
       "    </tr>\n",
       "  </tbody>\n",
       "</table>\n",
       "</div>"
      ],
      "text/plain": [
       "                                  count        mean         std       min  \\\n",
       "latitude                        48895.0   40.728949    0.054530  40.49979   \n",
       "longitude                       48895.0  -73.952170    0.046157 -74.24442   \n",
       "price                           48895.0  152.720687  240.154170   0.00000   \n",
       "minimum_nights                  48895.0    7.029962   20.510550   1.00000   \n",
       "number_of_reviews               48895.0   23.274466   44.550582   0.00000   \n",
       "calculated_host_listings_count  48895.0    7.143982   32.952519   1.00000   \n",
       "availability_365                48895.0  112.781327  131.622289   0.00000   \n",
       "room_type_n                     48895.0    0.567113    0.541249   0.00000   \n",
       "neighbourhood_group_n           48895.0    0.786911    0.844386   0.00000   \n",
       "\n",
       "                                     25%        50%         75%          max  \n",
       "latitude                        40.69010   40.72307   40.763115     40.91306  \n",
       "longitude                      -73.98307  -73.95568  -73.936275    -73.71299  \n",
       "price                           69.00000  106.00000  175.000000  10000.00000  \n",
       "minimum_nights                   1.00000    3.00000    5.000000   1250.00000  \n",
       "number_of_reviews                1.00000    5.00000   24.000000    629.00000  \n",
       "calculated_host_listings_count   1.00000    1.00000    2.000000    327.00000  \n",
       "availability_365                 0.00000   45.00000  227.000000    365.00000  \n",
       "room_type_n                      0.00000    1.00000    1.000000      2.00000  \n",
       "neighbourhood_group_n            0.00000    1.00000    1.000000      4.00000  "
      ]
     },
     "execution_count": 28,
     "metadata": {},
     "output_type": "execute_result"
    }
   ],
   "source": [
    "df.describe().T"
   ]
  },
  {
   "cell_type": "markdown",
   "id": "9e60027d",
   "metadata": {},
   "source": [
    "#### Visualización"
   ]
  },
  {
   "cell_type": "code",
   "execution_count": 32,
   "id": "72b3d899",
   "metadata": {},
   "outputs": [
    {
     "data": {
      "image/png": "[encoded data removed]",
      "text/plain": [
       "<Figure size 1500x500 with 5 Axes>"
      ]
     },
     "metadata": {},
     "output_type": "display_data"
    }
   ],
   "source": [
    "fig, axis = plt.subplots(2, 3, figsize=(15, 5))\n",
    "sns.set_style(\"whitegrid\")\n",
    "sns.boxplot(ax=axis[0, 0], data=df, x=\"price\")\n",
    "sns.boxplot(ax=axis[0, 1], data=df, x=\"minimum_nights\")\n",
    "sns.boxplot(ax=axis[0, 2], data=df, x=\"number_of_reviews\")\n",
    "sns.boxplot(ax=axis[1, 0], data=df, x=\"calculated_host_listings_count\")\n",
    "sns.boxplot(ax=axis[1, 1], data=df, x=\"availability_365\")\n",
    "fig.delaxes(axis[1, 2])\n",
    "\n",
    "plt.tight_layout()\n",
    "plt.show()"
   ]
  },
  {
   "cell_type": "markdown",
   "id": "682a2408",
   "metadata": {},
   "source": [
    "### Variables con valores atípicos"
   ]
  },
  {
   "cell_type": "code",
   "execution_count": 36,
   "id": "b8512cb8",
   "metadata": {},
   "outputs": [
    {
     "data": {
      "image/png": "[encoded data removed]",
      "text/plain": [
       "<Figure size 1500x700 with 4 Axes>"
      ]
     },
     "metadata": {},
     "output_type": "display_data"
    }
   ],
   "source": [
    "fig, axis = plt.subplots(4, 1, figsize=(15, 7))\n",
    "sns.set_style(\"whitegrid\")\n",
    "sns.boxplot(ax=axis[0], data=df, x=\"price\")\n",
    "sns.boxplot(ax=axis[1], data=df, x=\"minimum_nights\")\n",
    "sns.boxplot(ax=axis[2], data=df, x=\"number_of_reviews\")\n",
    "sns.boxplot(ax=axis[3], data=df, x=\"calculated_host_listings_count\")\n",
    "plt.tight_layout()\n",
    "plt.show()"
   ]
  },
  {
   "cell_type": "markdown",
   "id": "e5657379",
   "metadata": {},
   "source": [
    "#### Valores atípicos 'price'"
   ]
  },
  {
   "cell_type": "code",
   "execution_count": 37,
   "id": "984ad669",
   "metadata": {},
   "outputs": [
    {
     "data": {
      "application/vnd.microsoft.datawrangler.viewer.v0+json": {
       "columns": [
        {
         "name": "index",
         "rawType": "object",
         "type": "string"
        },
        {
         "name": "price",
         "rawType": "float64",
         "type": "float"
        }
       ],
       "ref": "ba6c74c9-cd50-4e89-a8fd-79a622c204dc",
       "rows": [
        [
         "count",
         "48895.0"
        ],
        [
         "mean",
         "152.7206871868289"
        ],
        [
         "std",
         "240.15416974718758"
        ],
        [
         "min",
         "0.0"
        ],
        [
         "25%",
         "69.0"
        ],
        [
         "50%",
         "106.0"
        ],
        [
         "75%",
         "175.0"
        ],
        [
         "max",
         "10000.0"
        ]
       ],
       "shape": {
        "columns": 1,
        "rows": 8
       }
      },
      "text/plain": [
       "count    48895.000000\n",
       "mean       152.720687\n",
       "std        240.154170\n",
       "min          0.000000\n",
       "25%         69.000000\n",
       "50%        106.000000\n",
       "75%        175.000000\n",
       "max      10000.000000\n",
       "Name: price, dtype: float64"
      ]
     },
     "execution_count": 37,
     "metadata": {},
     "output_type": "execute_result"
    }
   ],
   "source": [
    "df['price'].describe()"
   ]
  },
  {
   "cell_type": "markdown",
   "id": "8941ce6a",
   "metadata": {},
   "source": [
    "#### Calculo del Rango inter cuartil: IQR = Q3(75%) - Q1(25%)"
   ]
  },
  {
   "cell_type": "code",
   "execution_count": 74,
   "id": "6105a465",
   "metadata": {},
   "outputs": [
    {
     "data": {
      "text/plain": [
       "'Límite superior: 334.0, Límite inferior: 0, Rango intercuartílico: 106.0'"
      ]
     },
     "execution_count": 74,
     "metadata": {},
     "output_type": "execute_result"
    }
   ],
   "source": [
    "\n",
    "q1_price = df[\"price\"].quantile(0.25)\n",
    "q3_price = df[\"price\"].quantile(0.75)\n",
    "iqr_price = q3_price - q1_price\n",
    "\n",
    "# Definir los límites inferior y superior\n",
    "lower_limit_price = 0 if (q1_price - 1.5 * iqr_price) < 0 else q1_price - 1.5 * iqr_price\n",
    "upper_limit_price = q3_price + 1.5 * iqr_price\n",
    "\n",
    "f\"Límite superior: {round(upper_limit_price, 2)}, Límite inferior: {round(lower_limit_price, 2)}, Rango intercuartílico: {round(iqr_price, 2)}\""
   ]
  },
  {
   "cell_type": "code",
   "execution_count": 72,
   "id": "431617ae",
   "metadata": {},
   "outputs": [
    {
     "data": {
      "application/vnd.microsoft.datawrangler.viewer.v0+json": {
       "columns": [
        {
         "name": "index",
         "rawType": "int64",
         "type": "integer"
        },
        {
         "name": "neighbourhood_group",
         "rawType": "object",
         "type": "string"
        },
        {
         "name": "latitude",
         "rawType": "float64",
         "type": "float"
        },
        {
         "name": "longitude",
         "rawType": "float64",
         "type": "float"
        },
        {
         "name": "room_type",
         "rawType": "object",
         "type": "string"
        },
        {
         "name": "price",
         "rawType": "int64",
         "type": "integer"
        },
        {
         "name": "minimum_nights",
         "rawType": "int64",
         "type": "integer"
        },
        {
         "name": "number_of_reviews",
         "rawType": "int64",
         "type": "integer"
        },
        {
         "name": "calculated_host_listings_count",
         "rawType": "int64",
         "type": "integer"
        },
        {
         "name": "availability_365",
         "rawType": "int64",
         "type": "integer"
        },
        {
         "name": "room_type_n",
         "rawType": "int64",
         "type": "integer"
        },
        {
         "name": "neighbourhood_group_n",
         "rawType": "int64",
         "type": "integer"
        },
        {
         "name": "price_range",
         "rawType": "category",
         "type": "unknown"
        }
       ],
       "ref": "e68afafc-1384-45a8-b20d-25f95e834b96",
       "rows": [
        [
         "61",
         "Manhattan",
         "40.74623",
         "-73.9953",
         "Entire home/apt",
         "375",
         "180",
         "5",
         "1",
         "180",
         "1",
         "1",
         "301-500"
        ],
        [
         "85",
         "Brooklyn",
         "40.69723",
         "-73.99268",
         "Entire home/apt",
         "800",
         "1",
         "25",
         "1",
         "7",
         "1",
         "0",
         "501-1000"
        ],
        [
         "103",
         "Manhattan",
         "40.73096",
         "-74.00319",
         "Entire home/apt",
         "500",
         "4",
         "46",
         "2",
         "243",
         "1",
         "1",
         "301-500"
        ],
        [
         "114",
         "Manhattan",
         "40.7254",
         "-73.98157",
         "Entire home/apt",
         "350",
         "2",
         "7",
         "4",
         "298",
         "1",
         "1",
         "301-500"
        ],
        [
         "121",
         "Brooklyn",
         "40.66499",
         "-73.97925",
         "Entire home/apt",
         "400",
         "2",
         "16",
         "2",
         "216",
         "1",
         "0",
         "301-500"
        ],
        [
         "158",
         "Brooklyn",
         "40.68559",
         "-73.98094",
         "Entire home/apt",
         "475",
         "3",
         "23",
         "1",
         "230",
         "1",
         "0",
         "301-500"
        ],
        [
         "181",
         "Queens",
         "40.70382",
         "-73.89797",
         "Entire home/apt",
         "350",
         "8",
         "10",
         "5",
         "365",
         "1",
         "2",
         "301-500"
        ],
        [
         "233",
         "Manhattan",
         "40.72003",
         "-74.00262",
         "Entire home/apt",
         "500",
         "4",
         "94",
         "1",
         "329",
         "1",
         "1",
         "301-500"
        ],
        [
         "242",
         "Manhattan",
         "40.74358",
         "-74.00027",
         "Entire home/apt",
         "500",
         "2",
         "35",
         "1",
         "348",
         "1",
         "1",
         "301-500"
        ],
        [
         "263",
         "Manhattan",
         "40.72185",
         "-73.98246",
         "Entire home/apt",
         "390",
         "5",
         "143",
         "2",
         "316",
         "1",
         "1",
         "301-500"
        ],
        [
         "299",
         "Manhattan",
         "40.71943",
         "-73.99627",
         "Entire home/apt",
         "575",
         "2",
         "191",
         "1",
         "298",
         "1",
         "1",
         "501-1000"
        ],
        [
         "304",
         "Manhattan",
         "40.72542",
         "-73.97986",
         "Entire home/apt",
         "500",
         "2",
         "48",
         "4",
         "297",
         "1",
         "1",
         "301-500"
        ],
        [
         "324",
         "Brooklyn",
         "40.6848",
         "-73.96219",
         "Entire home/apt",
         "350",
         "6",
         "14",
         "1",
         "156",
         "1",
         "0",
         "301-500"
        ],
        [
         "327",
         "Brooklyn",
         "40.73776",
         "-73.95327",
         "Private room",
         "349",
         "3",
         "8",
         "28",
         "60",
         "0",
         "0",
         "301-500"
        ],
        [
         "328",
         "Brooklyn",
         "40.73738",
         "-73.95482",
         "Private room",
         "349",
         "3",
         "7",
         "28",
         "60",
         "0",
         "0",
         "301-500"
        ],
        [
         "345",
         "Brooklyn",
         "40.68613",
         "-73.96536",
         "Entire home/apt",
         "650",
         "5",
         "0",
         "3",
         "365",
         "1",
         "0",
         "501-1000"
        ],
        [
         "365",
         "Brooklyn",
         "40.73861",
         "-73.95485",
         "Private room",
         "599",
         "3",
         "9",
         "28",
         "60",
         "0",
         "0",
         "501-1000"
        ],
        [
         "395",
         "Manhattan",
         "40.72533",
         "-73.99143",
         "Entire home/apt",
         "395",
         "2",
         "70",
         "1",
         "170",
         "1",
         "1",
         "301-500"
        ],
        [
         "418",
         "Brooklyn",
         "40.67535",
         "-73.97654",
         "Entire home/apt",
         "495",
         "1",
         "35",
         "1",
         "355",
         "1",
         "0",
         "301-500"
        ],
        [
         "419",
         "Manhattan",
         "40.72255",
         "-73.99346",
         "Entire home/apt",
         "375",
         "3",
         "18",
         "1",
         "0",
         "1",
         "1",
         "301-500"
        ],
        [
         "430",
         "Brooklyn",
         "40.71541",
         "-73.94144",
         "Entire home/apt",
         "451",
         "2",
         "72",
         "1",
         "331",
         "1",
         "0",
         "301-500"
        ],
        [
         "460",
         "Brooklyn",
         "40.71323",
         "-73.95745",
         "Entire home/apt",
         "450",
         "5",
         "37",
         "1",
         "15",
         "1",
         "0",
         "301-500"
        ],
        [
         "467",
         "Brooklyn",
         "40.6809",
         "-73.99233",
         "Entire home/apt",
         "500",
         "7",
         "7",
         "1",
         "0",
         "1",
         "0",
         "301-500"
        ],
        [
         "473",
         "Brooklyn",
         "40.68252",
         "-73.99619",
         "Entire home/apt",
         "350",
         "5",
         "6",
         "1",
         "0",
         "1",
         "0",
         "301-500"
        ],
        [
         "494",
         "Manhattan",
         "40.73476",
         "-73.98452",
         "Entire home/apt",
         "400",
         "2",
         "105",
         "1",
         "304",
         "1",
         "1",
         "301-500"
        ],
        [
         "496",
         "Manhattan",
         "40.7735",
         "-73.98697",
         "Entire home/apt",
         "2000",
         "30",
         "30",
         "11",
         "0",
         "1",
         "1",
         "1000+"
        ],
        [
         "500",
         "Brooklyn",
         "40.72315",
         "-73.95226",
         "Entire home/apt",
         "500",
         "2",
         "20",
         "2",
         "127",
         "1",
         "0",
         "301-500"
        ],
        [
         "501",
         "Manhattan",
         "40.73939",
         "-73.99612",
         "Entire home/apt",
         "429",
         "10",
         "18",
         "1",
         "0",
         "1",
         "1",
         "301-500"
        ],
        [
         "516",
         "Brooklyn",
         "40.7158",
         "-73.95803",
         "Entire home/apt",
         "350",
         "6",
         "1",
         "1",
         "233",
         "1",
         "0",
         "301-500"
        ],
        [
         "626",
         "Brooklyn",
         "40.70257",
         "-73.9847",
         "Entire home/apt",
         "350",
         "5",
         "40",
         "1",
         "67",
         "1",
         "0",
         "301-500"
        ],
        [
         "633",
         "Manhattan",
         "40.73685",
         "-73.98359",
         "Entire home/apt",
         "399",
         "1",
         "0",
         "1",
         "12",
         "1",
         "1",
         "301-500"
        ],
        [
         "637",
         "Brooklyn",
         "40.68975",
         "-73.96703",
         "Private room",
         "438",
         "1",
         "43",
         "11",
         "363",
         "0",
         "0",
         "301-500"
        ],
        [
         "653",
         "Manhattan",
         "40.73066",
         "-74.00287",
         "Entire home/apt",
         "700",
         "3",
         "131",
         "4",
         "296",
         "1",
         "1",
         "501-1000"
        ],
        [
         "661",
         "Manhattan",
         "40.81122",
         "-73.94279",
         "Entire home/apt",
         "400",
         "5",
         "0",
         "2",
         "365",
         "1",
         "1",
         "301-500"
        ],
        [
         "662",
         "Manhattan",
         "40.73129",
         "-73.99944",
         "Entire home/apt",
         "850",
         "3",
         "107",
         "1",
         "249",
         "1",
         "1",
         "501-1000"
        ],
        [
         "679",
         "Brooklyn",
         "40.73674",
         "-73.95247",
         "Private room",
         "349",
         "3",
         "8",
         "28",
         "58",
         "0",
         "0",
         "301-500"
        ],
        [
         "684",
         "Brooklyn",
         "40.73793",
         "-73.95316",
         "Private room",
         "599",
         "3",
         "7",
         "28",
         "60",
         "0",
         "0",
         "501-1000"
        ],
        [
         "689",
         "Manhattan",
         "40.72004",
         "-73.99424",
         "Entire home/apt",
         "495",
         "7",
         "25",
         "2",
         "338",
         "1",
         "1",
         "301-500"
        ],
        [
         "691",
         "Manhattan",
         "40.74599",
         "-74.00253",
         "Entire home/apt",
         "760",
         "2",
         "7",
         "1",
         "361",
         "1",
         "1",
         "501-1000"
        ],
        [
         "711",
         "Manhattan",
         "40.73378",
         "-74.00429",
         "Entire home/apt",
         "375",
         "7",
         "8",
         "1",
         "0",
         "1",
         "1",
         "301-500"
        ],
        [
         "726",
         "Manhattan",
         "40.76128",
         "-73.96463",
         "Entire home/apt",
         "485",
         "7",
         "11",
         "1",
         "0",
         "1",
         "1",
         "301-500"
        ],
        [
         "742",
         "Manhattan",
         "40.75114",
         "-74.00195",
         "Entire home/apt",
         "350",
         "3",
         "64",
         "1",
         "18",
         "1",
         "1",
         "301-500"
        ],
        [
         "762",
         "Manhattan",
         "40.73301",
         "-74.00268",
         "Entire home/apt",
         "1300",
         "5",
         "28",
         "4",
         "297",
         "1",
         "1",
         "1000+"
        ],
        [
         "770",
         "Brooklyn",
         "40.67847",
         "-73.97038",
         "Entire home/apt",
         "402",
         "3",
         "89",
         "1",
         "340",
         "1",
         "0",
         "301-500"
        ],
        [
         "780",
         "Brooklyn",
         "40.68492",
         "-73.95489",
         "Entire home/apt",
         "800",
         "4",
         "122",
         "1",
         "257",
         "1",
         "0",
         "501-1000"
        ],
        [
         "799",
         "Manhattan",
         "40.74494",
         "-73.9998",
         "Entire home/apt",
         "385",
         "1",
         "63",
         "1",
         "364",
         "1",
         "1",
         "301-500"
        ],
        [
         "813",
         "Manhattan",
         "40.72891",
         "-74.00293",
         "Entire home/apt",
         "450",
         "20",
         "157",
         "1",
         "0",
         "1",
         "1",
         "301-500"
        ],
        [
         "893",
         "Manhattan",
         "40.77892",
         "-73.98238",
         "Entire home/apt",
         "499",
         "30",
         "64",
         "1",
         "157",
         "1",
         "1",
         "301-500"
        ],
        [
         "905",
         "Brooklyn",
         "40.63593",
         "-73.96076",
         "Entire home/apt",
         "500",
         "4",
         "9",
         "1",
         "0",
         "1",
         "0",
         "301-500"
        ],
        [
         "916",
         "Manhattan",
         "40.79526",
         "-73.9655",
         "Entire home/apt",
         "387",
         "1",
         "23",
         "1",
         "0",
         "1",
         "1",
         "301-500"
        ]
       ],
       "shape": {
        "columns": 12,
        "rows": 2972
       }
      },
      "text/html": [
       "<div>\n",
       "<style scoped>\n",
       "    .dataframe tbody tr th:only-of-type {\n",
       "        vertical-align: middle;\n",
       "    }\n",
       "\n",
       "    .dataframe tbody tr th {\n",
       "        vertical-align: top;\n",
       "    }\n",
       "\n",
       "    .dataframe thead th {\n",
       "        text-align: right;\n",
       "    }\n",
       "</style>\n",
       "<table border=\"1\" class=\"dataframe\">\n",
       "  <thead>\n",
       "    <tr style=\"text-align: right;\">\n",
       "      <th></th>\n",
       "      <th>neighbourhood_group</th>\n",
       "      <th>latitude</th>\n",
       "      <th>longitude</th>\n",
       "      <th>room_type</th>\n",
       "      <th>price</th>\n",
       "      <th>minimum_nights</th>\n",
       "      <th>number_of_reviews</th>\n",
       "      <th>calculated_host_listings_count</th>\n",
       "      <th>availability_365</th>\n",
       "      <th>room_type_n</th>\n",
       "      <th>neighbourhood_group_n</th>\n",
       "      <th>price_range</th>\n",
       "    </tr>\n",
       "  </thead>\n",
       "  <tbody>\n",
       "    <tr>\n",
       "      <th>61</th>\n",
       "      <td>Manhattan</td>\n",
       "      <td>40.74623</td>\n",
       "      <td>-73.99530</td>\n",
       "      <td>Entire home/apt</td>\n",
       "      <td>375</td>\n",
       "      <td>180</td>\n",
       "      <td>5</td>\n",
       "      <td>1</td>\n",
       "      <td>180</td>\n",
       "      <td>1</td>\n",
       "      <td>1</td>\n",
       "      <td>301-500</td>\n",
       "    </tr>\n",
       "    <tr>\n",
       "      <th>85</th>\n",
       "      <td>Brooklyn</td>\n",
       "      <td>40.69723</td>\n",
       "      <td>-73.99268</td>\n",
       "      <td>Entire home/apt</td>\n",
       "      <td>800</td>\n",
       "      <td>1</td>\n",
       "      <td>25</td>\n",
       "      <td>1</td>\n",
       "      <td>7</td>\n",
       "      <td>1</td>\n",
       "      <td>0</td>\n",
       "      <td>501-1000</td>\n",
       "    </tr>\n",
       "    <tr>\n",
       "      <th>103</th>\n",
       "      <td>Manhattan</td>\n",
       "      <td>40.73096</td>\n",
       "      <td>-74.00319</td>\n",
       "      <td>Entire home/apt</td>\n",
       "      <td>500</td>\n",
       "      <td>4</td>\n",
       "      <td>46</td>\n",
       "      <td>2</td>\n",
       "      <td>243</td>\n",
       "      <td>1</td>\n",
       "      <td>1</td>\n",
       "      <td>301-500</td>\n",
       "    </tr>\n",
       "    <tr>\n",
       "      <th>114</th>\n",
       "      <td>Manhattan</td>\n",
       "      <td>40.72540</td>\n",
       "      <td>-73.98157</td>\n",
       "      <td>Entire home/apt</td>\n",
       "      <td>350</td>\n",
       "      <td>2</td>\n",
       "      <td>7</td>\n",
       "      <td>4</td>\n",
       "      <td>298</td>\n",
       "      <td>1</td>\n",
       "      <td>1</td>\n",
       "      <td>301-500</td>\n",
       "    </tr>\n",
       "    <tr>\n",
       "      <th>121</th>\n",
       "      <td>Brooklyn</td>\n",
       "      <td>40.66499</td>\n",
       "      <td>-73.97925</td>\n",
       "      <td>Entire home/apt</td>\n",
       "      <td>400</td>\n",
       "      <td>2</td>\n",
       "      <td>16</td>\n",
       "      <td>2</td>\n",
       "      <td>216</td>\n",
       "      <td>1</td>\n",
       "      <td>0</td>\n",
       "      <td>301-500</td>\n",
       "    </tr>\n",
       "    <tr>\n",
       "      <th>...</th>\n",
       "      <td>...</td>\n",
       "      <td>...</td>\n",
       "      <td>...</td>\n",
       "      <td>...</td>\n",
       "      <td>...</td>\n",
       "      <td>...</td>\n",
       "      <td>...</td>\n",
       "      <td>...</td>\n",
       "      <td>...</td>\n",
       "      <td>...</td>\n",
       "      <td>...</td>\n",
       "      <td>...</td>\n",
       "    </tr>\n",
       "    <tr>\n",
       "      <th>48758</th>\n",
       "      <td>Queens</td>\n",
       "      <td>40.75508</td>\n",
       "      <td>-73.93258</td>\n",
       "      <td>Entire home/apt</td>\n",
       "      <td>350</td>\n",
       "      <td>2</td>\n",
       "      <td>0</td>\n",
       "      <td>1</td>\n",
       "      <td>364</td>\n",
       "      <td>1</td>\n",
       "      <td>2</td>\n",
       "      <td>301-500</td>\n",
       "    </tr>\n",
       "    <tr>\n",
       "      <th>48833</th>\n",
       "      <td>Manhattan</td>\n",
       "      <td>40.70605</td>\n",
       "      <td>-74.01042</td>\n",
       "      <td>Entire home/apt</td>\n",
       "      <td>475</td>\n",
       "      <td>2</td>\n",
       "      <td>0</td>\n",
       "      <td>1</td>\n",
       "      <td>64</td>\n",
       "      <td>1</td>\n",
       "      <td>1</td>\n",
       "      <td>301-500</td>\n",
       "    </tr>\n",
       "    <tr>\n",
       "      <th>48839</th>\n",
       "      <td>Brooklyn</td>\n",
       "      <td>40.59866</td>\n",
       "      <td>-73.95661</td>\n",
       "      <td>Private room</td>\n",
       "      <td>800</td>\n",
       "      <td>1</td>\n",
       "      <td>0</td>\n",
       "      <td>1</td>\n",
       "      <td>23</td>\n",
       "      <td>0</td>\n",
       "      <td>0</td>\n",
       "      <td>501-1000</td>\n",
       "    </tr>\n",
       "    <tr>\n",
       "      <th>48842</th>\n",
       "      <td>Manhattan</td>\n",
       "      <td>40.75204</td>\n",
       "      <td>-74.00292</td>\n",
       "      <td>Entire home/apt</td>\n",
       "      <td>350</td>\n",
       "      <td>1</td>\n",
       "      <td>0</td>\n",
       "      <td>1</td>\n",
       "      <td>9</td>\n",
       "      <td>1</td>\n",
       "      <td>1</td>\n",
       "      <td>301-500</td>\n",
       "    </tr>\n",
       "    <tr>\n",
       "      <th>48856</th>\n",
       "      <td>Brooklyn</td>\n",
       "      <td>40.68886</td>\n",
       "      <td>-73.92879</td>\n",
       "      <td>Entire home/apt</td>\n",
       "      <td>345</td>\n",
       "      <td>4</td>\n",
       "      <td>0</td>\n",
       "      <td>3</td>\n",
       "      <td>354</td>\n",
       "      <td>1</td>\n",
       "      <td>0</td>\n",
       "      <td>301-500</td>\n",
       "    </tr>\n",
       "  </tbody>\n",
       "</table>\n",
       "<p>2972 rows × 12 columns</p>\n",
       "</div>"
      ],
      "text/plain": [
       "      neighbourhood_group  latitude  longitude        room_type  price  \\\n",
       "61              Manhattan  40.74623  -73.99530  Entire home/apt    375   \n",
       "85               Brooklyn  40.69723  -73.99268  Entire home/apt    800   \n",
       "103             Manhattan  40.73096  -74.00319  Entire home/apt    500   \n",
       "114             Manhattan  40.72540  -73.98157  Entire home/apt    350   \n",
       "121              Brooklyn  40.66499  -73.97925  Entire home/apt    400   \n",
       "...                   ...       ...        ...              ...    ...   \n",
       "48758              Queens  40.75508  -73.93258  Entire home/apt    350   \n",
       "48833           Manhattan  40.70605  -74.01042  Entire home/apt    475   \n",
       "48839            Brooklyn  40.59866  -73.95661     Private room    800   \n",
       "48842           Manhattan  40.75204  -74.00292  Entire home/apt    350   \n",
       "48856            Brooklyn  40.68886  -73.92879  Entire home/apt    345   \n",
       "\n",
       "       minimum_nights  number_of_reviews  calculated_host_listings_count  \\\n",
       "61                180                  5                               1   \n",
       "85                  1                 25                               1   \n",
       "103                 4                 46                               2   \n",
       "114                 2                  7                               4   \n",
       "121                 2                 16                               2   \n",
       "...               ...                ...                             ...   \n",
       "48758               2                  0                               1   \n",
       "48833               2                  0                               1   \n",
       "48839               1                  0                               1   \n",
       "48842               1                  0                               1   \n",
       "48856               4                  0                               3   \n",
       "\n",
       "       availability_365  room_type_n  neighbourhood_group_n price_range  \n",
       "61                  180            1                      1     301-500  \n",
       "85                    7            1                      0    501-1000  \n",
       "103                 243            1                      1     301-500  \n",
       "114                 298            1                      1     301-500  \n",
       "121                 216            1                      0     301-500  \n",
       "...                 ...          ...                    ...         ...  \n",
       "48758               364            1                      2     301-500  \n",
       "48833                64            1                      1     301-500  \n",
       "48839                23            0                      0    501-1000  \n",
       "48842                 9            1                      1     301-500  \n",
       "48856               354            1                      0     301-500  \n",
       "\n",
       "[2972 rows x 12 columns]"
      ]
     },
     "execution_count": 72,
     "metadata": {},
     "output_type": "execute_result"
    }
   ],
   "source": [
    "df[df['price'] > 334]"
   ]
  },
  {
   "cell_type": "markdown",
   "id": "37dc9c2c",
   "metadata": {},
   "source": [
    "#### Existen 2990 valores atípicos para la variable precio, pero si tenemos en cuenta que la mayoría de viviendas son apartamentos, tiene sentido pensar que su precio varie por las características que puedan tener, dato del que no disponemos, por lo tanto decido mantener estos valores"
   ]
  },
  {
   "cell_type": "markdown",
   "id": "065c96e2",
   "metadata": {},
   "source": [
    "#### Valores atípicos 'minimum_nights'"
   ]
  },
  {
   "cell_type": "code",
   "execution_count": 76,
   "id": "fabb555e",
   "metadata": {},
   "outputs": [
    {
     "data": {
      "application/vnd.microsoft.datawrangler.viewer.v0+json": {
       "columns": [
        {
         "name": "index",
         "rawType": "object",
         "type": "string"
        },
        {
         "name": "minimum_nights",
         "rawType": "float64",
         "type": "float"
        }
       ],
       "ref": "b831d21c-9694-4837-a1b7-031652bab110",
       "rows": [
        [
         "count",
         "48895.0"
        ],
        [
         "mean",
         "7.029962163820431"
        ],
        [
         "std",
         "20.51054953317987"
        ],
        [
         "min",
         "1.0"
        ],
        [
         "25%",
         "1.0"
        ],
        [
         "50%",
         "3.0"
        ],
        [
         "75%",
         "5.0"
        ],
        [
         "max",
         "1250.0"
        ]
       ],
       "shape": {
        "columns": 1,
        "rows": 8
       }
      },
      "text/plain": [
       "count    48895.000000\n",
       "mean         7.029962\n",
       "std         20.510550\n",
       "min          1.000000\n",
       "25%          1.000000\n",
       "50%          3.000000\n",
       "75%          5.000000\n",
       "max       1250.000000\n",
       "Name: minimum_nights, dtype: float64"
      ]
     },
     "execution_count": 76,
     "metadata": {},
     "output_type": "execute_result"
    }
   ],
   "source": [
    "df['minimum_nights'].describe()"
   ]
  },
  {
   "cell_type": "markdown",
   "id": "a6d11ab6",
   "metadata": {},
   "source": [
    "#### Calculo del Rango inter cuartil: IQR = Q3(75%) - Q1(25%)"
   ]
  },
  {
   "cell_type": "code",
   "execution_count": 77,
   "id": "6ee9b460",
   "metadata": {},
   "outputs": [
    {
     "data": {
      "text/plain": [
       "'Límite superior: 11.0, Límite inferior: 0, Rango intercuartílico: 4.0'"
      ]
     },
     "execution_count": 77,
     "metadata": {},
     "output_type": "execute_result"
    }
   ],
   "source": [
    "q1_nights = df['minimum_nights'].quantile(0.25)\n",
    "q3_nights = df['minimum_nights'].quantile(0.75)\n",
    "iqr_nights = q3_nights - q1_nights\n",
    "\n",
    "# Definir los límites inferior y superior\n",
    "lower_limit_nights = 0 if (q1_nights - 1.5 * iqr_nights) < 0 else q1_nights - 1.5 * iqr_nights\n",
    "upper_limit_nights = q3_nights + 1.5 * iqr_nights\n",
    "\n",
    "f\"Límite superior: {round(upper_limit_nights, 2)}, Límite inferior: {round(lower_limit_nights, 2)}, Rango intercuartílico: {round(iqr_nights, 2)}\""
   ]
  },
  {
   "cell_type": "code",
   "execution_count": 78,
   "id": "fb68a6fb",
   "metadata": {},
   "outputs": [
    {
     "data": {
      "application/vnd.microsoft.datawrangler.viewer.v0+json": {
       "columns": [
        {
         "name": "index",
         "rawType": "int64",
         "type": "integer"
        },
        {
         "name": "neighbourhood_group",
         "rawType": "object",
         "type": "string"
        },
        {
         "name": "latitude",
         "rawType": "float64",
         "type": "float"
        },
        {
         "name": "longitude",
         "rawType": "float64",
         "type": "float"
        },
        {
         "name": "room_type",
         "rawType": "object",
         "type": "string"
        },
        {
         "name": "price",
         "rawType": "int64",
         "type": "integer"
        },
        {
         "name": "minimum_nights",
         "rawType": "int64",
         "type": "integer"
        },
        {
         "name": "number_of_reviews",
         "rawType": "int64",
         "type": "integer"
        },
        {
         "name": "calculated_host_listings_count",
         "rawType": "int64",
         "type": "integer"
        },
        {
         "name": "availability_365",
         "rawType": "int64",
         "type": "integer"
        },
        {
         "name": "room_type_n",
         "rawType": "int64",
         "type": "integer"
        },
        {
         "name": "neighbourhood_group_n",
         "rawType": "int64",
         "type": "integer"
        },
        {
         "name": "price_range",
         "rawType": "category",
         "type": "unknown"
        }
       ],
       "ref": "f2ea04b9-171e-415f-8d90-2f03949b4870",
       "rows": [
        [
         "6",
         "Brooklyn",
         "40.68688",
         "-73.95596",
         "Private room",
         "60",
         "45",
         "49",
         "1",
         "0",
         "0",
         "0",
         "51-100"
        ],
        [
         "14",
         "Manhattan",
         "40.7353",
         "-74.00525",
         "Entire home/apt",
         "120",
         "90",
         "27",
         "1",
         "0",
         "1",
         "1",
         "101-150"
        ],
        [
         "29",
         "Manhattan",
         "40.7292",
         "-73.98542",
         "Entire home/apt",
         "180",
         "14",
         "29",
         "1",
         "67",
         "1",
         "1",
         "151-200"
        ],
        [
         "36",
         "Brooklyn",
         "40.68876",
         "-73.94312",
         "Private room",
         "35",
         "60",
         "0",
         "1",
         "365",
         "0",
         "0",
         "0-50"
        ],
        [
         "45",
         "Brooklyn",
         "40.65944",
         "-73.96238",
         "Entire home/apt",
         "150",
         "29",
         "11",
         "1",
         "95",
         "1",
         "0",
         "101-150"
        ],
        [
         "55",
         "Brooklyn",
         "40.70881",
         "-73.9593",
         "Entire home/apt",
         "150",
         "30",
         "105",
         "1",
         "30",
         "1",
         "0",
         "101-150"
        ],
        [
         "59",
         "Manhattan",
         "40.7221",
         "-73.99775",
         "Entire home/apt",
         "180",
         "30",
         "21",
         "1",
         "154",
         "1",
         "1",
         "151-200"
        ],
        [
         "61",
         "Manhattan",
         "40.74623",
         "-73.9953",
         "Entire home/apt",
         "375",
         "180",
         "5",
         "1",
         "180",
         "1",
         "1",
         "301-500"
        ],
        [
         "63",
         "Brooklyn",
         "40.67811",
         "-73.96428",
         "Entire home/apt",
         "200",
         "30",
         "143",
         "2",
         "297",
         "1",
         "0",
         "151-200"
        ],
        [
         "65",
         "Manhattan",
         "40.75979",
         "-73.99119",
         "Private room",
         "52",
         "30",
         "191",
         "1",
         "191",
         "0",
         "1",
         "51-100"
        ],
        [
         "77",
         "Queens",
         "40.75038",
         "-73.90334",
         "Private room",
         "70",
         "30",
         "25",
         "1",
         "324",
         "0",
         "2",
         "51-100"
        ],
        [
         "81",
         "Manhattan",
         "40.82915",
         "-73.95136",
         "Entire home/apt",
         "110",
         "31",
         "54",
         "1",
         "209",
         "1",
         "1",
         "101-150"
        ],
        [
         "84",
         "Manhattan",
         "40.7114",
         "-73.98794",
         "Private room",
         "94",
         "30",
         "94",
         "1",
         "188",
         "0",
         "1",
         "51-100"
        ],
        [
         "98",
         "Manhattan",
         "40.74008",
         "-74.00271",
         "Private room",
         "98",
         "30",
         "30",
         "2",
         "364",
         "0",
         "1",
         "51-100"
        ],
        [
         "105",
         "Brooklyn",
         "40.66941",
         "-73.98109",
         "Entire home/apt",
         "220",
         "30",
         "88",
         "1",
         "9",
         "1",
         "0",
         "201-300"
        ],
        [
         "106",
         "Brooklyn",
         "40.68373",
         "-73.92377",
         "Entire home/apt",
         "125",
         "90",
         "162",
         "2",
         "137",
         "1",
         "0",
         "101-150"
        ],
        [
         "107",
         "Brooklyn",
         "40.71459",
         "-73.94844",
         "Entire home/apt",
         "80",
         "30",
         "29",
         "1",
         "222",
         "1",
         "0",
         "51-100"
        ],
        [
         "109",
         "Brooklyn",
         "40.68157",
         "-73.98989",
         "Entire home/apt",
         "200",
         "30",
         "19",
         "1",
         "208",
         "1",
         "0",
         "151-200"
        ],
        [
         "113",
         "Brooklyn",
         "40.66853",
         "-73.98912",
         "Entire home/apt",
         "120",
         "30",
         "467",
         "2",
         "192",
         "1",
         "0",
         "101-150"
        ],
        [
         "127",
         "Manhattan",
         "40.85879",
         "-73.93128",
         "Private room",
         "85",
         "15",
         "36",
         "1",
         "307",
         "0",
         "1",
         "51-100"
        ],
        [
         "135",
         "Manhattan",
         "40.73442",
         "-74.00303",
         "Entire home/apt",
         "115",
         "29",
         "26",
         "1",
         "12",
         "1",
         "1",
         "101-150"
        ],
        [
         "140",
         "Brooklyn",
         "40.73409",
         "-73.95348",
         "Entire home/apt",
         "250",
         "29",
         "3",
         "1",
         "34",
         "1",
         "0",
         "201-300"
        ],
        [
         "151",
         "Brooklyn",
         "40.67386",
         "-73.96641",
         "Private room",
         "85",
         "15",
         "9",
         "1",
         "339",
         "0",
         "0",
         "51-100"
        ],
        [
         "153",
         "Brooklyn",
         "40.6741",
         "-73.96595",
         "Entire home/apt",
         "115",
         "15",
         "4",
         "1",
         "269",
         "1",
         "0",
         "101-150"
        ],
        [
         "155",
         "Manhattan",
         "40.73226",
         "-74.00401",
         "Entire home/apt",
         "225",
         "45",
         "134",
         "1",
         "312",
         "1",
         "1",
         "201-300"
        ],
        [
         "161",
         "Queens",
         "40.74559",
         "-73.92313",
         "Private room",
         "79",
         "30",
         "28",
         "1",
         "126",
         "0",
         "2",
         "51-100"
        ],
        [
         "178",
         "Manhattan",
         "40.73423",
         "-74.0046",
         "Entire home/apt",
         "150",
         "26",
         "38",
         "1",
         "225",
         "1",
         "1",
         "101-150"
        ],
        [
         "188",
         "Brooklyn",
         "40.68237",
         "-73.9415",
         "Entire home/apt",
         "175",
         "26",
         "30",
         "1",
         "364",
         "1",
         "0",
         "151-200"
        ],
        [
         "193",
         "Manhattan",
         "40.77333",
         "-73.95199",
         "Private room",
         "130",
         "14",
         "0",
         "2",
         "0",
         "0",
         "1",
         "101-150"
        ],
        [
         "199",
         "Queens",
         "40.71722",
         "-73.87856",
         "Entire home/apt",
         "98",
         "30",
         "33",
         "5",
         "240",
         "1",
         "2",
         "51-100"
        ],
        [
         "204",
         "Manhattan",
         "40.80234",
         "-73.95603",
         "Private room",
         "200",
         "30",
         "0",
         "1",
         "365",
         "0",
         "1",
         "151-200"
        ],
        [
         "229",
         "Queens",
         "40.70411",
         "-73.89934",
         "Entire home/apt",
         "140",
         "14",
         "1",
         "5",
         "365",
         "1",
         "2",
         "101-150"
        ],
        [
         "232",
         "Manhattan",
         "40.7589",
         "-73.96991",
         "Entire home/apt",
         "250",
         "30",
         "82",
         "1",
         "0",
         "1",
         "1",
         "201-300"
        ],
        [
         "235",
         "Manhattan",
         "40.79163",
         "-73.94573",
         "Entire home/apt",
         "125",
         "28",
         "183",
         "2",
         "365",
         "1",
         "1",
         "101-150"
        ],
        [
         "243",
         "Manhattan",
         "40.80335",
         "-73.9575",
         "Private room",
         "80",
         "14",
         "10",
         "2",
         "0",
         "0",
         "1",
         "51-100"
        ],
        [
         "245",
         "Manhattan",
         "40.75749",
         "-73.96897",
         "Entire home/apt",
         "110",
         "200",
         "92",
         "1",
         "140",
         "1",
         "1",
         "101-150"
        ],
        [
         "247",
         "Manhattan",
         "40.7268",
         "-73.99079",
         "Entire home/apt",
         "130",
         "50",
         "56",
         "1",
         "56",
         "1",
         "1",
         "101-150"
        ],
        [
         "259",
         "Brooklyn",
         "40.66793",
         "-73.98327",
         "Private room",
         "60",
         "14",
         "9",
         "2",
         "0",
         "0",
         "0",
         "51-100"
        ],
        [
         "266",
         "Brooklyn",
         "40.7069",
         "-73.95467",
         "Private room",
         "60",
         "17",
         "14",
         "4",
         "362",
         "0",
         "0",
         "51-100"
        ],
        [
         "272",
         "Manhattan",
         "40.71702",
         "-73.99811",
         "Entire home/apt",
         "90",
         "14",
         "1",
         "1",
         "14",
         "1",
         "1",
         "51-100"
        ],
        [
         "283",
         "Brooklyn",
         "40.6715",
         "-73.94808",
         "Private room",
         "49",
         "21",
         "15",
         "5",
         "331",
         "0",
         "0",
         "0-50"
        ],
        [
         "290",
         "Manhattan",
         "40.79603",
         "-73.94903",
         "Entire home/apt",
         "124",
         "28",
         "22",
         "1",
         "103",
         "1",
         "1",
         "101-150"
        ],
        [
         "291",
         "Brooklyn",
         "40.71492",
         "-73.96282",
         "Entire home/apt",
         "135",
         "30",
         "56",
         "1",
         "42",
         "1",
         "0",
         "101-150"
        ],
        [
         "294",
         "Manhattan",
         "40.82976",
         "-73.94867",
         "Private room",
         "85",
         "30",
         "64",
         "1",
         "318",
         "0",
         "1",
         "51-100"
        ],
        [
         "300",
         "Manhattan",
         "40.78",
         "-73.98249",
         "Entire home/apt",
         "150",
         "30",
         "48",
         "1",
         "35",
         "1",
         "1",
         "101-150"
        ],
        [
         "306",
         "Manhattan",
         "40.71659",
         "-73.98945",
         "Entire home/apt",
         "125",
         "25",
         "43",
         "1",
         "102",
         "1",
         "1",
         "101-150"
        ],
        [
         "307",
         "Manhattan",
         "40.72966",
         "-74.00243",
         "Entire home/apt",
         "200",
         "30",
         "39",
         "1",
         "251",
         "1",
         "1",
         "151-200"
        ],
        [
         "309",
         "Bronx",
         "40.87207",
         "-73.90193",
         "Entire home/apt",
         "90",
         "30",
         "4",
         "2",
         "346",
         "1",
         "4",
         "51-100"
        ],
        [
         "310",
         "Manhattan",
         "40.77728",
         "-73.97818",
         "Entire home/apt",
         "110",
         "13",
         "38",
         "1",
         "0",
         "1",
         "1",
         "101-150"
        ],
        [
         "314",
         "Manhattan",
         "40.80892",
         "-73.93985",
         "Entire home/apt",
         "113",
         "14",
         "26",
         "3",
         "253",
         "1",
         "1",
         "101-150"
        ]
       ],
       "shape": {
        "columns": 12,
        "rows": 6607
       }
      },
      "text/html": [
       "<div>\n",
       "<style scoped>\n",
       "    .dataframe tbody tr th:only-of-type {\n",
       "        vertical-align: middle;\n",
       "    }\n",
       "\n",
       "    .dataframe tbody tr th {\n",
       "        vertical-align: top;\n",
       "    }\n",
       "\n",
       "    .dataframe thead th {\n",
       "        text-align: right;\n",
       "    }\n",
       "</style>\n",
       "<table border=\"1\" class=\"dataframe\">\n",
       "  <thead>\n",
       "    <tr style=\"text-align: right;\">\n",
       "      <th></th>\n",
       "      <th>neighbourhood_group</th>\n",
       "      <th>latitude</th>\n",
       "      <th>longitude</th>\n",
       "      <th>room_type</th>\n",
       "      <th>price</th>\n",
       "      <th>minimum_nights</th>\n",
       "      <th>number_of_reviews</th>\n",
       "      <th>calculated_host_listings_count</th>\n",
       "      <th>availability_365</th>\n",
       "      <th>room_type_n</th>\n",
       "      <th>neighbourhood_group_n</th>\n",
       "      <th>price_range</th>\n",
       "    </tr>\n",
       "  </thead>\n",
       "  <tbody>\n",
       "    <tr>\n",
       "      <th>6</th>\n",
       "      <td>Brooklyn</td>\n",
       "      <td>40.68688</td>\n",
       "      <td>-73.95596</td>\n",
       "      <td>Private room</td>\n",
       "      <td>60</td>\n",
       "      <td>45</td>\n",
       "      <td>49</td>\n",
       "      <td>1</td>\n",
       "      <td>0</td>\n",
       "      <td>0</td>\n",
       "      <td>0</td>\n",
       "      <td>51-100</td>\n",
       "    </tr>\n",
       "    <tr>\n",
       "      <th>14</th>\n",
       "      <td>Manhattan</td>\n",
       "      <td>40.73530</td>\n",
       "      <td>-74.00525</td>\n",
       "      <td>Entire home/apt</td>\n",
       "      <td>120</td>\n",
       "      <td>90</td>\n",
       "      <td>27</td>\n",
       "      <td>1</td>\n",
       "      <td>0</td>\n",
       "      <td>1</td>\n",
       "      <td>1</td>\n",
       "      <td>101-150</td>\n",
       "    </tr>\n",
       "    <tr>\n",
       "      <th>29</th>\n",
       "      <td>Manhattan</td>\n",
       "      <td>40.72920</td>\n",
       "      <td>-73.98542</td>\n",
       "      <td>Entire home/apt</td>\n",
       "      <td>180</td>\n",
       "      <td>14</td>\n",
       "      <td>29</td>\n",
       "      <td>1</td>\n",
       "      <td>67</td>\n",
       "      <td>1</td>\n",
       "      <td>1</td>\n",
       "      <td>151-200</td>\n",
       "    </tr>\n",
       "    <tr>\n",
       "      <th>36</th>\n",
       "      <td>Brooklyn</td>\n",
       "      <td>40.68876</td>\n",
       "      <td>-73.94312</td>\n",
       "      <td>Private room</td>\n",
       "      <td>35</td>\n",
       "      <td>60</td>\n",
       "      <td>0</td>\n",
       "      <td>1</td>\n",
       "      <td>365</td>\n",
       "      <td>0</td>\n",
       "      <td>0</td>\n",
       "      <td>0-50</td>\n",
       "    </tr>\n",
       "    <tr>\n",
       "      <th>45</th>\n",
       "      <td>Brooklyn</td>\n",
       "      <td>40.65944</td>\n",
       "      <td>-73.96238</td>\n",
       "      <td>Entire home/apt</td>\n",
       "      <td>150</td>\n",
       "      <td>29</td>\n",
       "      <td>11</td>\n",
       "      <td>1</td>\n",
       "      <td>95</td>\n",
       "      <td>1</td>\n",
       "      <td>0</td>\n",
       "      <td>101-150</td>\n",
       "    </tr>\n",
       "    <tr>\n",
       "      <th>...</th>\n",
       "      <td>...</td>\n",
       "      <td>...</td>\n",
       "      <td>...</td>\n",
       "      <td>...</td>\n",
       "      <td>...</td>\n",
       "      <td>...</td>\n",
       "      <td>...</td>\n",
       "      <td>...</td>\n",
       "      <td>...</td>\n",
       "      <td>...</td>\n",
       "      <td>...</td>\n",
       "      <td>...</td>\n",
       "    </tr>\n",
       "    <tr>\n",
       "      <th>48810</th>\n",
       "      <td>Manhattan</td>\n",
       "      <td>40.79952</td>\n",
       "      <td>-73.96003</td>\n",
       "      <td>Private room</td>\n",
       "      <td>75</td>\n",
       "      <td>30</td>\n",
       "      <td>0</td>\n",
       "      <td>1</td>\n",
       "      <td>90</td>\n",
       "      <td>0</td>\n",
       "      <td>1</td>\n",
       "      <td>51-100</td>\n",
       "    </tr>\n",
       "    <tr>\n",
       "      <th>48843</th>\n",
       "      <td>Brooklyn</td>\n",
       "      <td>40.69635</td>\n",
       "      <td>-73.93743</td>\n",
       "      <td>Private room</td>\n",
       "      <td>45</td>\n",
       "      <td>29</td>\n",
       "      <td>0</td>\n",
       "      <td>2</td>\n",
       "      <td>341</td>\n",
       "      <td>0</td>\n",
       "      <td>0</td>\n",
       "      <td>0-50</td>\n",
       "    </tr>\n",
       "    <tr>\n",
       "      <th>48871</th>\n",
       "      <td>Manhattan</td>\n",
       "      <td>40.82233</td>\n",
       "      <td>-73.94687</td>\n",
       "      <td>Private room</td>\n",
       "      <td>35</td>\n",
       "      <td>29</td>\n",
       "      <td>0</td>\n",
       "      <td>2</td>\n",
       "      <td>31</td>\n",
       "      <td>0</td>\n",
       "      <td>1</td>\n",
       "      <td>0-50</td>\n",
       "    </tr>\n",
       "    <tr>\n",
       "      <th>48879</th>\n",
       "      <td>Brooklyn</td>\n",
       "      <td>40.71728</td>\n",
       "      <td>-73.94394</td>\n",
       "      <td>Entire home/apt</td>\n",
       "      <td>120</td>\n",
       "      <td>20</td>\n",
       "      <td>0</td>\n",
       "      <td>1</td>\n",
       "      <td>22</td>\n",
       "      <td>1</td>\n",
       "      <td>0</td>\n",
       "      <td>101-150</td>\n",
       "    </tr>\n",
       "    <tr>\n",
       "      <th>48882</th>\n",
       "      <td>Brooklyn</td>\n",
       "      <td>40.69652</td>\n",
       "      <td>-73.91079</td>\n",
       "      <td>Private room</td>\n",
       "      <td>40</td>\n",
       "      <td>20</td>\n",
       "      <td>0</td>\n",
       "      <td>1</td>\n",
       "      <td>31</td>\n",
       "      <td>0</td>\n",
       "      <td>0</td>\n",
       "      <td>0-50</td>\n",
       "    </tr>\n",
       "  </tbody>\n",
       "</table>\n",
       "<p>6607 rows × 12 columns</p>\n",
       "</div>"
      ],
      "text/plain": [
       "      neighbourhood_group  latitude  longitude        room_type  price  \\\n",
       "6                Brooklyn  40.68688  -73.95596     Private room     60   \n",
       "14              Manhattan  40.73530  -74.00525  Entire home/apt    120   \n",
       "29              Manhattan  40.72920  -73.98542  Entire home/apt    180   \n",
       "36               Brooklyn  40.68876  -73.94312     Private room     35   \n",
       "45               Brooklyn  40.65944  -73.96238  Entire home/apt    150   \n",
       "...                   ...       ...        ...              ...    ...   \n",
       "48810           Manhattan  40.79952  -73.96003     Private room     75   \n",
       "48843            Brooklyn  40.69635  -73.93743     Private room     45   \n",
       "48871           Manhattan  40.82233  -73.94687     Private room     35   \n",
       "48879            Brooklyn  40.71728  -73.94394  Entire home/apt    120   \n",
       "48882            Brooklyn  40.69652  -73.91079     Private room     40   \n",
       "\n",
       "       minimum_nights  number_of_reviews  calculated_host_listings_count  \\\n",
       "6                  45                 49                               1   \n",
       "14                 90                 27                               1   \n",
       "29                 14                 29                               1   \n",
       "36                 60                  0                               1   \n",
       "45                 29                 11                               1   \n",
       "...               ...                ...                             ...   \n",
       "48810              30                  0                               1   \n",
       "48843              29                  0                               2   \n",
       "48871              29                  0                               2   \n",
       "48879              20                  0                               1   \n",
       "48882              20                  0                               1   \n",
       "\n",
       "       availability_365  room_type_n  neighbourhood_group_n price_range  \n",
       "6                     0            0                      0      51-100  \n",
       "14                    0            1                      1     101-150  \n",
       "29                   67            1                      1     151-200  \n",
       "36                  365            0                      0        0-50  \n",
       "45                   95            1                      0     101-150  \n",
       "...                 ...          ...                    ...         ...  \n",
       "48810                90            0                      1      51-100  \n",
       "48843               341            0                      0        0-50  \n",
       "48871                31            0                      1        0-50  \n",
       "48879                22            1                      0     101-150  \n",
       "48882                31            0                      0        0-50  \n",
       "\n",
       "[6607 rows x 12 columns]"
      ]
     },
     "execution_count": 78,
     "metadata": {},
     "output_type": "execute_result"
    }
   ],
   "source": [
    "df[df['minimum_nights']>11]"
   ]
  },
  {
   "cell_type": "markdown",
   "id": "ef342237",
   "metadata": {},
   "source": [
    "### Existen más de 6600 valores atípicos. Investigando un poco en internet, el mínimo de noches estandar es de 30 días, aunque podemos observar viviendas que alquilan por temporadas largas, 3-6 meses, incluso un año. Considero que valores por encima de un año deberían ser eliminados ya que seguramente se trate de algún error y carece de sentido."
   ]
  },
  {
   "cell_type": "code",
   "execution_count": 83,
   "id": "3c2363ed",
   "metadata": {},
   "outputs": [
    {
     "data": {
      "image/png": "[encoded data removed]",
      "text/plain": [
       "<Figure size 700x700 with 2 Axes>"
      ]
     },
     "metadata": {},
     "output_type": "display_data"
    }
   ],
   "source": [
    "fig, axis = plt.subplots(2, 1, figsize=(7, 7))\n",
    "sns.set_style(\"whitegrid\")\n",
    "\n",
    "sns.histplot(ax=axis[0], data=df, x=\"minimum_nights\").set(xlabel=None)\n",
    "sns.boxplot(ax=axis[1], data=df, x=\"minimum_nights\")\n",
    "\n",
    "\n",
    "\n",
    "plt.tight_layout()\n",
    "plt.show()"
   ]
  },
  {
   "cell_type": "code",
   "execution_count": 85,
   "id": "09e07807",
   "metadata": {},
   "outputs": [
    {
     "data": {
      "application/vnd.microsoft.datawrangler.viewer.v0+json": {
       "columns": [
        {
         "name": "index",
         "rawType": "object",
         "type": "string"
        },
        {
         "name": "minimum_nights",
         "rawType": "float64",
         "type": "float"
        }
       ],
       "ref": "4e73a37b-583c-47a3-9640-cb50cbd235b9",
       "rows": [
        [
         "count",
         "48895.0"
        ],
        [
         "mean",
         "6.839329174762246"
        ],
        [
         "std",
         "16.449789341962866"
        ],
        [
         "min",
         "1.0"
        ],
        [
         "25%",
         "1.0"
        ],
        [
         "50%",
         "3.0"
        ],
        [
         "75%",
         "5.0"
        ],
        [
         "max",
         "365.0"
        ]
       ],
       "shape": {
        "columns": 1,
        "rows": 8
       }
      },
      "text/plain": [
       "count    48895.000000\n",
       "mean         6.839329\n",
       "std         16.449789\n",
       "min          1.000000\n",
       "25%          1.000000\n",
       "50%          3.000000\n",
       "75%          5.000000\n",
       "max        365.000000\n",
       "Name: minimum_nights, dtype: float64"
      ]
     },
     "execution_count": 85,
     "metadata": {},
     "output_type": "execute_result"
    }
   ],
   "source": [
    "median_nights = df[df['minimum_nights'] <= 365]['minimum_nights'].median()\n",
    "df.loc[df['minimum_nights'] > 365, 'minimum_nights'] = median_nights\n",
    "df['minimum_nights'].describe()"
   ]
  },
  {
   "cell_type": "code",
   "execution_count": 86,
   "id": "30fcc5ad",
   "metadata": {},
   "outputs": [
    {
     "data": {
      "image/png": "[encoded data removed]",
      "text/plain": [
       "<Figure size 700x700 with 2 Axes>"
      ]
     },
     "metadata": {},
     "output_type": "display_data"
    }
   ],
   "source": [
    "fig, axis = plt.subplots(2, 1, figsize=(7, 7))\n",
    "sns.set_style(\"whitegrid\")\n",
    "\n",
    "sns.histplot(ax=axis[0], data=df, x=\"minimum_nights\").set(xlabel=None)\n",
    "sns.boxplot(ax=axis[1], data=df, x=\"minimum_nights\")\n",
    "\n",
    "\n",
    "\n",
    "plt.tight_layout()\n",
    "plt.show()"
   ]
  },
  {
   "cell_type": "markdown",
   "id": "24406108",
   "metadata": {},
   "source": [
    "### Aunque siguen existiendo valores atípicos estos siguen una tendencia más adaptada a la realidad, por lo que estos sí los mantenemos"
   ]
  },
  {
   "cell_type": "markdown",
   "id": "eae7f951",
   "metadata": {},
   "source": [
    "#### Valores atípicos 'calculated_host_listings_count'"
   ]
  },
  {
   "cell_type": "code",
   "execution_count": 89,
   "id": "b5f1e7b9",
   "metadata": {},
   "outputs": [
    {
     "data": {
      "application/vnd.microsoft.datawrangler.viewer.v0+json": {
       "columns": [
        {
         "name": "index",
         "rawType": "object",
         "type": "string"
        },
        {
         "name": "calculated_host_listings_count",
         "rawType": "float64",
         "type": "float"
        }
       ],
       "ref": "397744b0-1720-48a0-a57a-46322483a2a2",
       "rows": [
        [
         "count",
         "48895.0"
        ],
        [
         "mean",
         "7.143982002249719"
        ],
        [
         "std",
         "32.95251884941993"
        ],
        [
         "min",
         "1.0"
        ],
        [
         "25%",
         "1.0"
        ],
        [
         "50%",
         "1.0"
        ],
        [
         "75%",
         "2.0"
        ],
        [
         "max",
         "327.0"
        ]
       ],
       "shape": {
        "columns": 1,
        "rows": 8
       }
      },
      "text/plain": [
       "count    48895.000000\n",
       "mean         7.143982\n",
       "std         32.952519\n",
       "min          1.000000\n",
       "25%          1.000000\n",
       "50%          1.000000\n",
       "75%          2.000000\n",
       "max        327.000000\n",
       "Name: calculated_host_listings_count, dtype: float64"
      ]
     },
     "execution_count": 89,
     "metadata": {},
     "output_type": "execute_result"
    }
   ],
   "source": [
    "df['calculated_host_listings_count'].describe().T"
   ]
  },
  {
   "cell_type": "markdown",
   "id": "3bba3d62",
   "metadata": {},
   "source": [
    "#### Calculo del Rango inter cuartil: IQR = Q3(75%) - Q1(25%)"
   ]
  },
  {
   "cell_type": "code",
   "execution_count": 91,
   "id": "ae2533ec",
   "metadata": {},
   "outputs": [
    {
     "data": {
      "text/plain": [
       "'Límite superior: 3.5, Límite inferior: 0, Rango intercuartílico: 1.0'"
      ]
     },
     "execution_count": 91,
     "metadata": {},
     "output_type": "execute_result"
    }
   ],
   "source": [
    "q1_host = df['calculated_host_listings_count'].quantile(0.25)\n",
    "q3_host = df['calculated_host_listings_count'].quantile(0.75)\n",
    "iqr_host = q3_host - q1_host\n",
    "\n",
    "# Definir los límites inferior y superior\n",
    "lower_limit_host = 0 if (q1_host - 1.5 * iqr_host) < 0 else q1_host - 1.5 * iqr_host\n",
    "upper_limit_host = q3_host + 1.5 * iqr_host\n",
    "\n",
    "f\"Límite superior: {round(upper_limit_host, 2)}, Límite inferior: {round(lower_limit_host, 2)}, Rango intercuartílico: {round(iqr_host, 2)}\""
   ]
  },
  {
   "cell_type": "code",
   "execution_count": 92,
   "id": "769a7eee",
   "metadata": {},
   "outputs": [
    {
     "data": {
      "application/vnd.microsoft.datawrangler.viewer.v0+json": {
       "columns": [
        {
         "name": "index",
         "rawType": "int64",
         "type": "integer"
        },
        {
         "name": "neighbourhood_group",
         "rawType": "object",
         "type": "string"
        },
        {
         "name": "latitude",
         "rawType": "float64",
         "type": "float"
        },
        {
         "name": "longitude",
         "rawType": "float64",
         "type": "float"
        },
        {
         "name": "room_type",
         "rawType": "object",
         "type": "string"
        },
        {
         "name": "price",
         "rawType": "int64",
         "type": "integer"
        },
        {
         "name": "minimum_nights",
         "rawType": "int64",
         "type": "integer"
        },
        {
         "name": "number_of_reviews",
         "rawType": "int64",
         "type": "integer"
        },
        {
         "name": "calculated_host_listings_count",
         "rawType": "int64",
         "type": "integer"
        },
        {
         "name": "availability_365",
         "rawType": "int64",
         "type": "integer"
        },
        {
         "name": "room_type_n",
         "rawType": "int64",
         "type": "integer"
        },
        {
         "name": "neighbourhood_group_n",
         "rawType": "int64",
         "type": "integer"
        },
        {
         "name": "price_range",
         "rawType": "category",
         "type": "unknown"
        }
       ],
       "ref": "13f11e1e-1c61-4afd-9318-b553fb98e2be",
       "rows": [
        [
         "0",
         "Brooklyn",
         "40.64749",
         "-73.97237",
         "Private room",
         "149",
         "1",
         "9",
         "6",
         "365",
         "0",
         "0",
         "101-150"
        ],
        [
         "9",
         "Manhattan",
         "40.71344",
         "-73.99037",
         "Entire home/apt",
         "150",
         "1",
         "160",
         "4",
         "188",
         "1",
         "1",
         "101-150"
        ],
        [
         "21",
         "Brooklyn",
         "40.68069",
         "-73.97706",
         "Private room",
         "130",
         "2",
         "130",
         "6",
         "347",
         "0",
         "0",
         "101-150"
        ],
        [
         "22",
         "Brooklyn",
         "40.67989",
         "-73.97798",
         "Private room",
         "80",
         "1",
         "39",
         "6",
         "364",
         "0",
         "0",
         "51-100"
        ],
        [
         "23",
         "Brooklyn",
         "40.68001",
         "-73.97865",
         "Private room",
         "110",
         "2",
         "71",
         "6",
         "304",
         "0",
         "0",
         "101-150"
        ],
        [
         "39",
         "Manhattan",
         "40.71401",
         "-73.98917",
         "Shared room",
         "40",
         "1",
         "214",
         "4",
         "188",
         "2",
         "1",
         "0-50"
        ],
        [
         "80",
         "Brooklyn",
         "40.71154",
         "-73.96112",
         "Private room",
         "145",
         "3",
         "61",
         "4",
         "238",
         "0",
         "0",
         "101-150"
        ],
        [
         "89",
         "Brooklyn",
         "40.71156",
         "-73.96218",
         "Private room",
         "85",
         "3",
         "174",
         "4",
         "288",
         "0",
         "0",
         "51-100"
        ],
        [
         "92",
         "Brooklyn",
         "40.68634",
         "-73.966",
         "Private room",
         "98",
         "7",
         "16",
         "6",
         "185",
         "0",
         "0",
         "51-100"
        ],
        [
         "111",
         "Brooklyn",
         "40.68698",
         "-73.96572",
         "Private room",
         "125",
         "2",
         "19",
         "6",
         "250",
         "0",
         "0",
         "101-150"
        ],
        [
         "114",
         "Manhattan",
         "40.7254",
         "-73.98157",
         "Entire home/apt",
         "350",
         "2",
         "7",
         "4",
         "298",
         "1",
         "1",
         "301-500"
        ],
        [
         "118",
         "Manhattan",
         "40.72555",
         "-73.97965",
         "Entire home/apt",
         "225",
         "1",
         "115",
         "4",
         "299",
         "1",
         "1",
         "201-300"
        ],
        [
         "148",
         "Brooklyn",
         "40.71165",
         "-73.96087",
         "Private room",
         "80",
         "3",
         "200",
         "4",
         "262",
         "0",
         "0",
         "51-100"
        ],
        [
         "149",
         "Brooklyn",
         "40.69101",
         "-73.97312",
         "Private room",
         "44",
         "8",
         "27",
         "5",
         "280",
         "0",
         "0",
         "0-50"
        ],
        [
         "173",
         "Manhattan",
         "40.72518",
         "-73.98034",
         "Private room",
         "125",
         "1",
         "84",
         "4",
         "310",
         "0",
         "1",
         "101-150"
        ],
        [
         "181",
         "Queens",
         "40.70382",
         "-73.89797",
         "Entire home/apt",
         "350",
         "8",
         "10",
         "5",
         "365",
         "1",
         "2",
         "301-500"
        ],
        [
         "185",
         "Brooklyn",
         "40.67992",
         "-73.9475",
         "Private room",
         "90",
         "3",
         "126",
         "4",
         "343",
         "0",
         "0",
         "51-100"
        ],
        [
         "199",
         "Queens",
         "40.71722",
         "-73.87856",
         "Entire home/apt",
         "98",
         "30",
         "33",
         "5",
         "240",
         "1",
         "2",
         "51-100"
        ],
        [
         "200",
         "Queens",
         "40.70234",
         "-73.89816",
         "Private room",
         "140",
         "7",
         "6",
         "5",
         "365",
         "0",
         "2",
         "101-150"
        ],
        [
         "201",
         "Queens",
         "40.71546",
         "-73.87854",
         "Entire home/apt",
         "265",
         "7",
         "38",
         "5",
         "365",
         "1",
         "2",
         "201-300"
        ],
        [
         "206",
         "Manhattan",
         "40.81035",
         "-73.94598",
         "Entire home/apt",
         "121",
         "1",
         "104",
         "5",
         "247",
         "1",
         "1",
         "101-150"
        ],
        [
         "217",
         "Manhattan",
         "40.81219",
         "-73.94499",
         "Private room",
         "64",
         "1",
         "192",
         "5",
         "245",
         "0",
         "1",
         "51-100"
        ],
        [
         "229",
         "Queens",
         "40.70411",
         "-73.89934",
         "Entire home/apt",
         "140",
         "14",
         "1",
         "5",
         "365",
         "1",
         "2",
         "101-150"
        ],
        [
         "236",
         "Manhattan",
         "40.8118",
         "-73.94434",
         "Private room",
         "92",
         "1",
         "189",
         "5",
         "253",
         "0",
         "1",
         "51-100"
        ],
        [
         "249",
         "Staten Island",
         "40.63536",
         "-74.08537",
         "Private room",
         "36",
         "2",
         "193",
         "6",
         "360",
         "0",
         "3",
         "0-50"
        ],
        [
         "250",
         "Staten Island",
         "40.63627",
         "-74.08543",
         "Private room",
         "37",
         "2",
         "147",
         "6",
         "0",
         "0",
         "3",
         "0-50"
        ],
        [
         "251",
         "Staten Island",
         "40.63518",
         "-74.08546",
         "Private room",
         "37",
         "2",
         "177",
         "6",
         "320",
         "0",
         "3",
         "0-50"
        ],
        [
         "256",
         "Staten Island",
         "40.63481",
         "-74.08519",
         "Private room",
         "36",
         "2",
         "333",
         "6",
         "340",
         "0",
         "3",
         "0-50"
        ],
        [
         "260",
         "Bronx",
         "40.81309",
         "-73.85514",
         "Private room",
         "90",
         "2",
         "0",
         "7",
         "349",
         "0",
         "4",
         "51-100"
        ],
        [
         "261",
         "Bronx",
         "40.88057",
         "-73.83572",
         "Entire home/apt",
         "105",
         "2",
         "38",
         "13",
         "365",
         "1",
         "4",
         "101-150"
        ],
        [
         "264",
         "Brooklyn",
         "40.68503",
         "-73.95385",
         "Private room",
         "70",
         "3",
         "36",
         "4",
         "281",
         "0",
         "0",
         "51-100"
        ],
        [
         "266",
         "Brooklyn",
         "40.7069",
         "-73.95467",
         "Private room",
         "60",
         "17",
         "14",
         "4",
         "362",
         "0",
         "0",
         "51-100"
        ],
        [
         "269",
         "Brooklyn",
         "40.68317",
         "-73.94701",
         "Private room",
         "70",
         "4",
         "18",
         "4",
         "189",
         "0",
         "0",
         "51-100"
        ],
        [
         "283",
         "Brooklyn",
         "40.6715",
         "-73.94808",
         "Private room",
         "49",
         "21",
         "15",
         "5",
         "331",
         "0",
         "0",
         "0-50"
        ],
        [
         "304",
         "Manhattan",
         "40.72542",
         "-73.97986",
         "Entire home/apt",
         "500",
         "2",
         "48",
         "4",
         "297",
         "1",
         "1",
         "301-500"
        ],
        [
         "321",
         "Brooklyn",
         "40.73749",
         "-73.95292",
         "Private room",
         "179",
         "3",
         "36",
         "28",
         "79",
         "0",
         "0",
         "151-200"
        ],
        [
         "325",
         "Brooklyn",
         "40.70516",
         "-73.95455",
         "Private room",
         "120",
         "14",
         "76",
         "6",
         "343",
         "0",
         "0",
         "101-150"
        ],
        [
         "327",
         "Brooklyn",
         "40.73776",
         "-73.95327",
         "Private room",
         "349",
         "3",
         "8",
         "28",
         "60",
         "0",
         "0",
         "301-500"
        ],
        [
         "328",
         "Brooklyn",
         "40.73738",
         "-73.95482",
         "Private room",
         "349",
         "3",
         "7",
         "28",
         "60",
         "0",
         "0",
         "301-500"
        ],
        [
         "330",
         "Brooklyn",
         "40.73842",
         "-73.95312",
         "Private room",
         "249",
         "3",
         "2",
         "28",
         "60",
         "0",
         "0",
         "201-300"
        ],
        [
         "339",
         "Brooklyn",
         "40.73813",
         "-73.95394",
         "Private room",
         "179",
         "3",
         "13",
         "28",
         "81",
         "0",
         "0",
         "151-200"
        ],
        [
         "343",
         "Brooklyn",
         "40.66966",
         "-73.94735",
         "Entire home/apt",
         "79",
         "15",
         "11",
         "5",
         "179",
         "1",
         "0",
         "51-100"
        ],
        [
         "346",
         "Brooklyn",
         "40.68048",
         "-73.94911",
         "Entire home/apt",
         "90",
         "3",
         "218",
         "4",
         "324",
         "1",
         "0",
         "51-100"
        ],
        [
         "365",
         "Brooklyn",
         "40.73861",
         "-73.95485",
         "Private room",
         "599",
         "3",
         "9",
         "28",
         "60",
         "0",
         "0",
         "501-1000"
        ],
        [
         "368",
         "Brooklyn",
         "40.67086",
         "-73.94872",
         "Entire home/apt",
         "100",
         "30",
         "15",
         "5",
         "282",
         "1",
         "0",
         "51-100"
        ],
        [
         "386",
         "Brooklyn",
         "40.67705",
         "-73.94925",
         "Entire home/apt",
         "80",
         "3",
         "225",
         "4",
         "315",
         "1",
         "0",
         "51-100"
        ],
        [
         "401",
         "Manhattan",
         "40.81333",
         "-73.94453",
         "Entire home/apt",
         "122",
         "1",
         "116",
         "5",
         "271",
         "1",
         "1",
         "101-150"
        ],
        [
         "436",
         "Brooklyn",
         "40.7102",
         "-73.94495",
         "Private room",
         "98",
         "2",
         "8",
         "4",
         "0",
         "0",
         "0",
         "51-100"
        ],
        [
         "439",
         "Manhattan",
         "40.81156",
         "-73.94571",
         "Private room",
         "55",
         "3",
         "119",
         "5",
         "333",
         "0",
         "1",
         "51-100"
        ],
        [
         "447",
         "Brooklyn",
         "40.68669",
         "-73.91989",
         "Private room",
         "165",
         "1",
         "27",
         "4",
         "311",
         "0",
         "0",
         "151-200"
        ]
       ],
       "shape": {
        "columns": 12,
        "rows": 7081
       }
      },
      "text/html": [
       "<div>\n",
       "<style scoped>\n",
       "    .dataframe tbody tr th:only-of-type {\n",
       "        vertical-align: middle;\n",
       "    }\n",
       "\n",
       "    .dataframe tbody tr th {\n",
       "        vertical-align: top;\n",
       "    }\n",
       "\n",
       "    .dataframe thead th {\n",
       "        text-align: right;\n",
       "    }\n",
       "</style>\n",
       "<table border=\"1\" class=\"dataframe\">\n",
       "  <thead>\n",
       "    <tr style=\"text-align: right;\">\n",
       "      <th></th>\n",
       "      <th>neighbourhood_group</th>\n",
       "      <th>latitude</th>\n",
       "      <th>longitude</th>\n",
       "      <th>room_type</th>\n",
       "      <th>price</th>\n",
       "      <th>minimum_nights</th>\n",
       "      <th>number_of_reviews</th>\n",
       "      <th>calculated_host_listings_count</th>\n",
       "      <th>availability_365</th>\n",
       "      <th>room_type_n</th>\n",
       "      <th>neighbourhood_group_n</th>\n",
       "      <th>price_range</th>\n",
       "    </tr>\n",
       "  </thead>\n",
       "  <tbody>\n",
       "    <tr>\n",
       "      <th>0</th>\n",
       "      <td>Brooklyn</td>\n",
       "      <td>40.64749</td>\n",
       "      <td>-73.97237</td>\n",
       "      <td>Private room</td>\n",
       "      <td>149</td>\n",
       "      <td>1</td>\n",
       "      <td>9</td>\n",
       "      <td>6</td>\n",
       "      <td>365</td>\n",
       "      <td>0</td>\n",
       "      <td>0</td>\n",
       "      <td>101-150</td>\n",
       "    </tr>\n",
       "    <tr>\n",
       "      <th>9</th>\n",
       "      <td>Manhattan</td>\n",
       "      <td>40.71344</td>\n",
       "      <td>-73.99037</td>\n",
       "      <td>Entire home/apt</td>\n",
       "      <td>150</td>\n",
       "      <td>1</td>\n",
       "      <td>160</td>\n",
       "      <td>4</td>\n",
       "      <td>188</td>\n",
       "      <td>1</td>\n",
       "      <td>1</td>\n",
       "      <td>101-150</td>\n",
       "    </tr>\n",
       "    <tr>\n",
       "      <th>21</th>\n",
       "      <td>Brooklyn</td>\n",
       "      <td>40.68069</td>\n",
       "      <td>-73.97706</td>\n",
       "      <td>Private room</td>\n",
       "      <td>130</td>\n",
       "      <td>2</td>\n",
       "      <td>130</td>\n",
       "      <td>6</td>\n",
       "      <td>347</td>\n",
       "      <td>0</td>\n",
       "      <td>0</td>\n",
       "      <td>101-150</td>\n",
       "    </tr>\n",
       "    <tr>\n",
       "      <th>22</th>\n",
       "      <td>Brooklyn</td>\n",
       "      <td>40.67989</td>\n",
       "      <td>-73.97798</td>\n",
       "      <td>Private room</td>\n",
       "      <td>80</td>\n",
       "      <td>1</td>\n",
       "      <td>39</td>\n",
       "      <td>6</td>\n",
       "      <td>364</td>\n",
       "      <td>0</td>\n",
       "      <td>0</td>\n",
       "      <td>51-100</td>\n",
       "    </tr>\n",
       "    <tr>\n",
       "      <th>23</th>\n",
       "      <td>Brooklyn</td>\n",
       "      <td>40.68001</td>\n",
       "      <td>-73.97865</td>\n",
       "      <td>Private room</td>\n",
       "      <td>110</td>\n",
       "      <td>2</td>\n",
       "      <td>71</td>\n",
       "      <td>6</td>\n",
       "      <td>304</td>\n",
       "      <td>0</td>\n",
       "      <td>0</td>\n",
       "      <td>101-150</td>\n",
       "    </tr>\n",
       "    <tr>\n",
       "      <th>...</th>\n",
       "      <td>...</td>\n",
       "      <td>...</td>\n",
       "      <td>...</td>\n",
       "      <td>...</td>\n",
       "      <td>...</td>\n",
       "      <td>...</td>\n",
       "      <td>...</td>\n",
       "      <td>...</td>\n",
       "      <td>...</td>\n",
       "      <td>...</td>\n",
       "      <td>...</td>\n",
       "      <td>...</td>\n",
       "    </tr>\n",
       "    <tr>\n",
       "      <th>48858</th>\n",
       "      <td>Queens</td>\n",
       "      <td>40.74387</td>\n",
       "      <td>-73.82556</td>\n",
       "      <td>Private room</td>\n",
       "      <td>68</td>\n",
       "      <td>3</td>\n",
       "      <td>0</td>\n",
       "      <td>4</td>\n",
       "      <td>362</td>\n",
       "      <td>0</td>\n",
       "      <td>2</td>\n",
       "      <td>51-100</td>\n",
       "    </tr>\n",
       "    <tr>\n",
       "      <th>48867</th>\n",
       "      <td>Brooklyn</td>\n",
       "      <td>40.59080</td>\n",
       "      <td>-73.97116</td>\n",
       "      <td>Shared room</td>\n",
       "      <td>25</td>\n",
       "      <td>1</td>\n",
       "      <td>0</td>\n",
       "      <td>6</td>\n",
       "      <td>338</td>\n",
       "      <td>2</td>\n",
       "      <td>0</td>\n",
       "      <td>0-50</td>\n",
       "    </tr>\n",
       "    <tr>\n",
       "      <th>48868</th>\n",
       "      <td>Brooklyn</td>\n",
       "      <td>40.59118</td>\n",
       "      <td>-73.97119</td>\n",
       "      <td>Shared room</td>\n",
       "      <td>25</td>\n",
       "      <td>7</td>\n",
       "      <td>0</td>\n",
       "      <td>6</td>\n",
       "      <td>365</td>\n",
       "      <td>2</td>\n",
       "      <td>0</td>\n",
       "      <td>0-50</td>\n",
       "    </tr>\n",
       "    <tr>\n",
       "      <th>48878</th>\n",
       "      <td>Queens</td>\n",
       "      <td>40.74477</td>\n",
       "      <td>-73.87727</td>\n",
       "      <td>Private room</td>\n",
       "      <td>45</td>\n",
       "      <td>1</td>\n",
       "      <td>0</td>\n",
       "      <td>5</td>\n",
       "      <td>172</td>\n",
       "      <td>0</td>\n",
       "      <td>2</td>\n",
       "      <td>0-50</td>\n",
       "    </tr>\n",
       "    <tr>\n",
       "      <th>48893</th>\n",
       "      <td>Manhattan</td>\n",
       "      <td>40.75751</td>\n",
       "      <td>-73.99112</td>\n",
       "      <td>Shared room</td>\n",
       "      <td>55</td>\n",
       "      <td>1</td>\n",
       "      <td>0</td>\n",
       "      <td>6</td>\n",
       "      <td>2</td>\n",
       "      <td>2</td>\n",
       "      <td>1</td>\n",
       "      <td>51-100</td>\n",
       "    </tr>\n",
       "  </tbody>\n",
       "</table>\n",
       "<p>7081 rows × 12 columns</p>\n",
       "</div>"
      ],
      "text/plain": [
       "      neighbourhood_group  latitude  longitude        room_type  price  \\\n",
       "0                Brooklyn  40.64749  -73.97237     Private room    149   \n",
       "9               Manhattan  40.71344  -73.99037  Entire home/apt    150   \n",
       "21               Brooklyn  40.68069  -73.97706     Private room    130   \n",
       "22               Brooklyn  40.67989  -73.97798     Private room     80   \n",
       "23               Brooklyn  40.68001  -73.97865     Private room    110   \n",
       "...                   ...       ...        ...              ...    ...   \n",
       "48858              Queens  40.74387  -73.82556     Private room     68   \n",
       "48867            Brooklyn  40.59080  -73.97116      Shared room     25   \n",
       "48868            Brooklyn  40.59118  -73.97119      Shared room     25   \n",
       "48878              Queens  40.74477  -73.87727     Private room     45   \n",
       "48893           Manhattan  40.75751  -73.99112      Shared room     55   \n",
       "\n",
       "       minimum_nights  number_of_reviews  calculated_host_listings_count  \\\n",
       "0                   1                  9                               6   \n",
       "9                   1                160                               4   \n",
       "21                  2                130                               6   \n",
       "22                  1                 39                               6   \n",
       "23                  2                 71                               6   \n",
       "...               ...                ...                             ...   \n",
       "48858               3                  0                               4   \n",
       "48867               1                  0                               6   \n",
       "48868               7                  0                               6   \n",
       "48878               1                  0                               5   \n",
       "48893               1                  0                               6   \n",
       "\n",
       "       availability_365  room_type_n  neighbourhood_group_n price_range  \n",
       "0                   365            0                      0     101-150  \n",
       "9                   188            1                      1     101-150  \n",
       "21                  347            0                      0     101-150  \n",
       "22                  364            0                      0      51-100  \n",
       "23                  304            0                      0     101-150  \n",
       "...                 ...          ...                    ...         ...  \n",
       "48858               362            0                      2      51-100  \n",
       "48867               338            2                      0        0-50  \n",
       "48868               365            2                      0        0-50  \n",
       "48878               172            0                      2        0-50  \n",
       "48893                 2            2                      1      51-100  \n",
       "\n",
       "[7081 rows x 12 columns]"
      ]
     },
     "execution_count": 92,
     "metadata": {},
     "output_type": "execute_result"
    }
   ],
   "source": [
    "df.loc[df['calculated_host_listings_count']>3.5]"
   ]
  },
  {
   "cell_type": "code",
   "execution_count": null,
   "id": "e34f7751",
   "metadata": {},
   "outputs": [],
   "source": [
    "df.loc[df['calculated_host_listings_count'].idxmax()] #Busco el propietario con mayor número de inmuebles\n",
    "df.loc[df['host_name'] == 'Sonder (NYC)'] # Resulta ser una inmobiliaria que tiene una gran cantidad de propiedades"
   ]
  }
 ],
 "metadata": {
  "kernelspec": {
   "display_name": "Python 3",
   "language": "python",
   "name": "python3"
  },
  "language_info": {
   "codemirror_mode": {
    "name": "ipython",
    "version": 3
   },
   "file_extension": ".py",
   "mimetype": "text/x-python",
   "name": "python",
   "nbconvert_exporter": "python",
   "pygments_lexer": "ipython3",
   "version": "3.11.9"
  }
 },
 "nbformat": 4,
 "nbformat_minor": 5
}
